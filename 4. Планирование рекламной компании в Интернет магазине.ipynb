{
 "cells": [
  {
   "cell_type": "markdown",
   "metadata": {},
   "source": [
    "# Выявление закономерностей, определяющих успешность игры\n",
    "\n",
    "---"
   ]
  },
  {
   "cell_type": "markdown",
   "metadata": {},
   "source": [
    "## Описание проекта"
   ]
  },
  {
   "cell_type": "markdown",
   "metadata": {},
   "source": [
    "<p>Вы работаете в интернет-магазине «Стримчик», который продаёт по всему миру компьютерные игры. Из открытых источников доступны исторические данные о продажах игр, оценки пользователей и экспертов, жанры и платформы (например, Xbox или PlayStation). Вам нужно выявить определяющие успешность игры закономерности. Это позволит сделать ставку на потенциально популярный продукт и спланировать рекламные кампании.</p>\n",
    "<p>Перед вами данные до 2016 года. Представим, что сейчас декабрь 2016 г., и вы планируете кампанию на 2017-й. Нужно отработать принцип работы с данными. Неважно, прогнозируете ли вы продажи на 2017 год по данным 2016-го или же 2027-й — по данным 2026 года.</p>\n",
    "<p>В наборе данных попадается аббревиатура ESRB (Entertainment Software Rating Board) — это ассоциация, определяющая возрастной рейтинг компьютерных игр. ESRB оценивает игровой контент и присваивает ему подходящую возрастную категорию, например, «Для взрослых», «Для детей младшего возраста» или «Для подростков».</p>\n",
    "\n",
    "---"
   ]
  },
  {
   "cell_type": "markdown",
   "metadata": {},
   "source": [
    "## Описание данных"
   ]
  },
  {
   "cell_type": "markdown",
   "metadata": {},
   "source": [
    "**Name** — название игры<br>\n",
    "**Platform** — платформа<br>\n",
    "**Year_of_Release** — год выпуска<br>\n",
    "**Genre** — жанр игры<br>\n",
    "**NA_sales** — продажи в Северной Америке (миллионы проданных копий)<br>\n",
    "**EU_sales** — продажи в Европе (миллионы проданных копий)<br>\n",
    "**JP_sales** — продажи в Японии (миллионы проданных копий)<br>\n",
    "**Other_sales** — продажи в других странах (миллионы проданных копий)<br>\n",
    "**Critic_Score** — оценка критиков (максимум 100)<br>\n",
    "**User_Score** — оценка пользователей (максимум 10)<br>\n",
    "**Rating** — рейтинг от организации ESRB (англ. Entertainment Software Rating Board). Эта ассоциация определяет рейтинг компьютерных игр и присваивает им подходящую возрастную категорию.<br>\n",
    "\n",
    "### Примечание\n",
    "Данные за 2016 год могут быть неполными.\n",
    "\n",
    "---"
   ]
  },
  {
   "cell_type": "markdown",
   "metadata": {},
   "source": [
    "### Оглавление"
   ]
  },
  {
   "cell_type": "markdown",
   "metadata": {},
   "source": [
    "* [1. Открываем файлы с данными и изучаем общую информацию.](#one)\n",
    "* [2. Предобработка данных.](#two)\n",
    "* [3. Исследовательский анализ данных.](#three)\n",
    "* [4. Составляем портрет пользователя каждого региона.](#four)\n",
    "* [5. Проверка гипотез.](#five)\n",
    "* [Средние пользовательские рейтинги платформ Xbox One и PC одинаковые.](#six)\n",
    "* [Средние пользовательские рейтинги жанров Action и Sports разные.](#seven)\n",
    "* [6. Общие выводы.](#eight)\n",
    "\n",
    "---"
   ]
  },
  {
   "cell_type": "markdown",
   "metadata": {},
   "source": [
    "## Шаг 1. Открываем файлы с данными и изучаем общую информацию. <a class=\"anchor\" id=\"one\"></a>"
   ]
  },
  {
   "cell_type": "markdown",
   "metadata": {},
   "source": [
    "Импортируем необходимые для проекта библиотеки"
   ]
  },
  {
   "cell_type": "code",
   "execution_count": null,
   "metadata": {},
   "outputs": [],
   "source": [
    "import pandas as pd\n",
    "from IPython.display import display\n",
    "import warnings\n",
    "warnings.filterwarnings('ignore')\n",
    "import matplotlib.pyplot as plt\n",
    "from scipy import stats as st\n",
    "import seaborn as sns"
   ]
  },
  {
   "cell_type": "markdown",
   "metadata": {},
   "source": [
    "Откроем файлы с данными. Посмотрим на первые тридцать строк методом `head()`, последние тридцать строк методом `tail()` и изучим столбцы методом `info()`"
   ]
  },
  {
   "cell_type": "code",
   "execution_count": null,
   "metadata": {},
   "outputs": [],
   "source": [
    "# Откроем файл\n",
    "games = pd.read_csv('datasets/4_games.csv')"
   ]
  },
  {
   "cell_type": "code",
   "execution_count": null,
   "metadata": {
    "scrolled": false
   },
   "outputs": [],
   "source": [
    "# Посмотрим на первые и последние тридцать строк\n",
    "display(games.head(30))\n",
    "display(games.tail(30))"
   ]
  },
  {
   "cell_type": "code",
   "execution_count": null,
   "metadata": {},
   "outputs": [],
   "source": [
    "games.info()"
   ]
  },
  {
   "cell_type": "markdown",
   "metadata": {},
   "source": [
    "### Выводы"
   ]
  },
  {
   "cell_type": "markdown",
   "metadata": {},
   "source": [
    "- Мы прочитали данные и преобразовали их в датафрейм games.<br>\n",
    "\n",
    "- Дата фрейм состоит из 16715 строк и 11 столбцов.\n",
    "\n",
    "- Наименование столбцов с большой буквы, для удобства переведем их в нижний регистр.\n",
    "\n",
    "- В столбце `Name` и `Genre` обнаружены 2 пропуска, возможно мы их так и оставим или удалим.\n",
    "\n",
    "- В столбце `Year_of_Realease` обнаружены пропуски и вероятнее всего мы их удалим.\n",
    "\n",
    "- Также множество пропущенных значений в столбцах `Critic_Score`, `User_Score` и `Rating` и вероятнее всего мы их оставим.\n",
    "\n",
    "- В столбце `User_Score` имеются аббревиатуры **tbd**. Разберем ее в следующем шаге.\n",
    "\n",
    "---"
   ]
  },
  {
   "cell_type": "markdown",
   "metadata": {},
   "source": [
    "## Шаг 2. Предобработка данных. <a class=\"anchor\" id=\"two\"></a>"
   ]
  },
  {
   "cell_type": "markdown",
   "metadata": {},
   "source": [
    "Проверим наличие дубликатов в наших таблицах:"
   ]
  },
  {
   "cell_type": "code",
   "execution_count": null,
   "metadata": {},
   "outputs": [],
   "source": [
    "games.duplicated().sum()"
   ]
  },
  {
   "cell_type": "markdown",
   "metadata": {},
   "source": [
    "Дубликатов не обнаружено"
   ]
  },
  {
   "cell_type": "markdown",
   "metadata": {},
   "source": [
    "### Заменим названия столбцов\n",
    "(приведем к нижнему регистру)"
   ]
  },
  {
   "cell_type": "code",
   "execution_count": null,
   "metadata": {},
   "outputs": [],
   "source": [
    "games.columns = games.columns.str.lower()"
   ]
  },
  {
   "cell_type": "code",
   "execution_count": null,
   "metadata": {
    "scrolled": true
   },
   "outputs": [],
   "source": [
    "games.columns"
   ]
  },
  {
   "cell_type": "markdown",
   "metadata": {},
   "source": [
    "### Преобразуем данные в нужные типы.\n",
    "Опишем, в каких столбцах заменили тип данных и почему;"
   ]
  },
  {
   "cell_type": "markdown",
   "metadata": {},
   "source": [
    "Преобразуем тип данных в столбце `year_of_release` в *datetime year*, предварительно обработав пропущенные значения.\n",
    "Пропущенные значения могли появиться в результате неправильного ввода или выгрузки, либо просто информация отстуствовала. Посмотрим на эти значения:"
   ]
  },
  {
   "cell_type": "code",
   "execution_count": null,
   "metadata": {},
   "outputs": [],
   "source": [
    "games['platform'].loc[games['year_of_release'].isna()].unique()"
   ]
  },
  {
   "cell_type": "markdown",
   "metadata": {},
   "source": [
    "К сожалению мы не сможем предугадать год и поэтому отбросим пропущенные значения это около 2,5% от датасета."
   ]
  },
  {
   "cell_type": "code",
   "execution_count": null,
   "metadata": {},
   "outputs": [],
   "source": [
    "games.dropna(subset = ['year_of_release', 'genre', 'name'], inplace = True)"
   ]
  },
  {
   "cell_type": "code",
   "execution_count": null,
   "metadata": {},
   "outputs": [],
   "source": [
    "games.info()"
   ]
  },
  {
   "cell_type": "code",
   "execution_count": null,
   "metadata": {},
   "outputs": [],
   "source": [
    "games['year_of_release']"
   ]
  },
  {
   "cell_type": "code",
   "execution_count": null,
   "metadata": {},
   "outputs": [],
   "source": [
    "games['year_of_release'] = pd.to_datetime(games['year_of_release'], format='%Y')\n",
    "games['year_of_release'] = games['year_of_release'].dt.year\n",
    "games"
   ]
  },
  {
   "cell_type": "code",
   "execution_count": null,
   "metadata": {},
   "outputs": [],
   "source": [
    "games.info()"
   ]
  },
  {
   "cell_type": "markdown",
   "metadata": {},
   "source": [
    "В столбцах `critic_score`, `user_score` и `rating` множество пропущенных значений и их мы не сможем заполнить, т.к. рейтинг геймеров и критиков предугадать практически невозможно в нашем случае т.к. мало данных. А возраст заполнить также невозможно т.к. нужно знать игры. Поэтому оставим как есть. Пропуски появились ввиду отсутствия информации (видать информация бралась с отного источника на котором не все отзывы есть, в рекомендациях опишем выход для таких ситуаций)."
   ]
  },
  {
   "cell_type": "markdown",
   "metadata": {},
   "source": [
    "Мы обнаружили аббревиатуру `tbd`, которая означает, что рейтинг в будущем будет проставлен. Она имеет лишь намерение пользователя, но не более того))) Поэтому заменим ее на None и приведем столбцы к типу `float`"
   ]
  },
  {
   "cell_type": "code",
   "execution_count": null,
   "metadata": {},
   "outputs": [],
   "source": [
    "games.loc[games['user_score'] == 'tbd', 'user_score'] = None"
   ]
  },
  {
   "cell_type": "code",
   "execution_count": null,
   "metadata": {},
   "outputs": [],
   "source": [
    "games['user_score'] = games['user_score'].astype(float)"
   ]
  },
  {
   "cell_type": "markdown",
   "metadata": {},
   "source": [
    "Заменим пропущенные значения в рейтингах на `unknown`"
   ]
  },
  {
   "cell_type": "code",
   "execution_count": null,
   "metadata": {},
   "outputs": [],
   "source": [
    "games['user_score'] = games['user_score'].fillna('unknown')"
   ]
  },
  {
   "cell_type": "code",
   "execution_count": null,
   "metadata": {},
   "outputs": [],
   "source": [
    "games['critic_score'] = games['critic_score'].fillna('unknown')"
   ]
  },
  {
   "cell_type": "code",
   "execution_count": null,
   "metadata": {},
   "outputs": [],
   "source": [
    "games['rating'] = games['rating'].fillna('unknown')"
   ]
  },
  {
   "cell_type": "code",
   "execution_count": null,
   "metadata": {},
   "outputs": [],
   "source": [
    "games.info()"
   ]
  },
  {
   "cell_type": "markdown",
   "metadata": {},
   "source": [
    "Посмотрим на столбце `rating`, возможно там будут дубли."
   ]
  },
  {
   "cell_type": "code",
   "execution_count": null,
   "metadata": {},
   "outputs": [],
   "source": [
    "games['rating'].unique()"
   ]
  },
  {
   "cell_type": "markdown",
   "metadata": {},
   "source": [
    "Посчитаем суммарные продажи во всех регионах и запишем их в отдельный столбец."
   ]
  },
  {
   "cell_type": "code",
   "execution_count": null,
   "metadata": {},
   "outputs": [],
   "source": [
    "# Суммарные продажи во всех регионах\n",
    "games['all_sales'] = games['na_sales'] + games['eu_sales'] + games['jp_sales'] + games['other_sales']\n",
    "\n",
    "games"
   ]
  },
  {
   "cell_type": "markdown",
   "metadata": {},
   "source": [
    "### Вывод"
   ]
  },
  {
   "cell_type": "markdown",
   "metadata": {},
   "source": [
    "- Мы привели названия столбцов к нижнему регистру\n",
    "- Удалили строки с пропущенными значениями в столбце `year_of_release` и привели к нужному типу данных.\n",
    "- Избавились от аббревиатуры *tbd*\n",
    "- Привели значения в столбцах `user_score` к `float`\n",
    "- Добавили новый столбец `all_sales` - суммарные продажи по всем регионам.\n",
    "\n",
    "---"
   ]
  },
  {
   "cell_type": "markdown",
   "metadata": {},
   "source": [
    "## Шаг 3. Исследовательский анализ данных. <a class=\"anchor\" id=\"three\"></a>"
   ]
  },
  {
   "cell_type": "markdown",
   "metadata": {},
   "source": [
    "### Посмотрим, сколько игр выпускалось в разные годы. И ответим на вопрос: Важны ли данные за все периоды?"
   ]
  },
  {
   "cell_type": "code",
   "execution_count": null,
   "metadata": {},
   "outputs": [],
   "source": [
    "plt.figure(figsize=(15, 5))\n",
    "plt.title('Распределения количества игр по годам')\n",
    "sns.distplot(games['year_of_release'], kde=False)"
   ]
  },
  {
   "cell_type": "code",
   "execution_count": null,
   "metadata": {},
   "outputs": [],
   "source": [
    "count_by_year = games.pivot_table(index = ['year_of_release'], \\\n",
    "                                  values = 'name', aggfunc = 'count')\n",
    "count_by_year.columns = ['count']\n",
    "display(count_by_year)"
   ]
  },
  {
   "cell_type": "markdown",
   "metadata": {},
   "source": [
    "Для репрезентативности выборки необходимо, чтобы было от 30 значений, поэтому в последующих расчетах возьмем только те года, где количество игр более 30."
   ]
  },
  {
   "cell_type": "code",
   "execution_count": null,
   "metadata": {
    "scrolled": false
   },
   "outputs": [],
   "source": [
    "count_by_year.query('count >= 30')"
   ]
  },
  {
   "cell_type": "code",
   "execution_count": null,
   "metadata": {},
   "outputs": [],
   "source": [
    "count_by_year.index"
   ]
  },
  {
   "cell_type": "code",
   "execution_count": null,
   "metadata": {},
   "outputs": [],
   "source": [
    "need_year = count_by_year.index\n",
    "    \n",
    "games = games.query('year_of_release in @need_year')"
   ]
  },
  {
   "cell_type": "code",
   "execution_count": null,
   "metadata": {},
   "outputs": [],
   "source": [
    "plt.figure(figsize=(15, 5))\n",
    "plt.title('Распределения количества игр по годам')\n",
    "sns.distplot(games['year_of_release'], kde=False)"
   ]
  },
  {
   "cell_type": "markdown",
   "metadata": {},
   "source": [
    "#### Выводы"
   ]
  },
  {
   "cell_type": "markdown",
   "metadata": {},
   "source": [
    "Мы отобрали только те года, в которые выпустили минимум 30 игр.\n",
    "\n",
    "---"
   ]
  },
  {
   "cell_type": "markdown",
   "metadata": {},
   "source": [
    "### Посмотриv, как менялись продажи по платформам. Выберем платформы с наибольшими суммарными продажами и постройте распределение по годам. За какой характерный срок появляются новые и исчезают старые платформы?"
   ]
  },
  {
   "cell_type": "markdown",
   "metadata": {},
   "source": [
    "Вычислим топ 20 платформ по продажам"
   ]
  },
  {
   "cell_type": "code",
   "execution_count": null,
   "metadata": {},
   "outputs": [],
   "source": [
    "platform_need = games.groupby('platform')['all_sales'].sum().sort_values(ascending = False).head(20)\n",
    "platform_need"
   ]
  },
  {
   "cell_type": "markdown",
   "metadata": {},
   "source": [
    "В дальнейшем нам понадобятся данные по платформе `PC`, поэтому эта платформа будет отправной точкой. Возьмем всех до `PC` и похожие по продажам платформы. Из нашего датасета выберем только те, которые входят в топ 14."
   ]
  },
  {
   "cell_type": "code",
   "execution_count": null,
   "metadata": {},
   "outputs": [],
   "source": [
    "platform_need = platform_need.head(14).index\n",
    "platform_need = games.query('platform in @platform_need')"
   ]
  },
  {
   "cell_type": "markdown",
   "metadata": {},
   "source": [
    "Построим графики продаж по каждой платформе. Для дальнейшего определения время жизни платформы примем минимальные продажи в 25 млн. Отметим красной пунктирной линией отметку в 20 млн."
   ]
  },
  {
   "cell_type": "code",
   "execution_count": null,
   "metadata": {
    "scrolled": false
   },
   "outputs": [],
   "source": [
    "pd.pivot_table(platform_need,\n",
    "              index = 'year_of_release',\n",
    "              columns = 'platform',\n",
    "              values = 'all_sales',\n",
    "              aggfunc = 'sum').plot(figsize=(15, 10))\n",
    "y = 20\n",
    "plt.axhline(y, linestyle = ':', color = 'red')\n",
    "plt.title('Графики зависимости продаж от года по каждой платформе')\n",
    "plt.xlabel('Год')\n",
    "plt.ylabel('Суммарные продажи в млн $')\n",
    "plt.legend()"
   ]
  },
  {
   "cell_type": "markdown",
   "metadata": {},
   "source": [
    "Определим максимальное, среднее и минимальное время жизни платформы при заданном минимальном уровне продаж"
   ]
  },
  {
   "cell_type": "code",
   "execution_count": null,
   "metadata": {},
   "outputs": [],
   "source": [
    "#lifetime = games.query('all_sales >= @y')\n",
    "lifetime = games.pivot_table(index=['platform', 'year_of_release'], values = 'all_sales', aggfunc='sum')\n",
    "lifetime = lifetime.query('all_sales >= @y')"
   ]
  },
  {
   "cell_type": "code",
   "execution_count": null,
   "metadata": {},
   "outputs": [],
   "source": [
    "lifetime = lifetime.reset_index()"
   ]
  },
  {
   "cell_type": "markdown",
   "metadata": {},
   "source": [
    "Максимальное время жизни платформы"
   ]
  },
  {
   "cell_type": "code",
   "execution_count": null,
   "metadata": {},
   "outputs": [],
   "source": [
    "lifetime.groupby('platform')['year_of_release'].count().max()"
   ]
  },
  {
   "cell_type": "markdown",
   "metadata": {},
   "source": [
    "Среднее время жизни платформы"
   ]
  },
  {
   "cell_type": "code",
   "execution_count": null,
   "metadata": {},
   "outputs": [],
   "source": [
    "lifetime.groupby('platform')['year_of_release'].count().median()"
   ]
  },
  {
   "cell_type": "markdown",
   "metadata": {},
   "source": [
    "Минимальное время жизни платформы"
   ]
  },
  {
   "cell_type": "code",
   "execution_count": null,
   "metadata": {},
   "outputs": [],
   "source": [
    "lifetime.groupby('platform')['year_of_release'].count().min()"
   ]
  },
  {
   "cell_type": "markdown",
   "metadata": {},
   "source": [
    "#### Выводы"
   ]
  },
  {
   "cell_type": "markdown",
   "metadata": {},
   "source": [
    "Мы отобрали топ 14 платформ по продажам. \n",
    "\n",
    "- Максимальное время жизни одной платформы - 10 лет;\n",
    "- Среднее время жизни одной платформы - 6 лет;\n",
    "- Минимальное время жизни одной платформы - 3 года.\n",
    "\n",
    "---"
   ]
  },
  {
   "cell_type": "markdown",
   "metadata": {},
   "source": [
    "Возьмем данные за соответствующий актуальный период. Актуальный период определим самостоятельно в результате исследования предыдущих вопросов. Основной фактор — эти данные помогут построить прогноз на 2017 год.\n",
    "Данные за предыдущие годы в работе учитывать не будем. Возьмем актуальный период по минимальному жизни платформы."
   ]
  },
  {
   "cell_type": "code",
   "execution_count": null,
   "metadata": {},
   "outputs": [],
   "source": [
    "games = games.query('year_of_release >= 2013')"
   ]
  },
  {
   "cell_type": "markdown",
   "metadata": {},
   "source": [
    "### Какие платформы лидируют по продажам, растут или падают? Выберите несколько потенциально прибыльных платформ."
   ]
  },
  {
   "cell_type": "code",
   "execution_count": null,
   "metadata": {},
   "outputs": [],
   "source": [
    "pd.pivot_table(games,\n",
    "              index = 'year_of_release',\n",
    "              columns = 'platform',\n",
    "              values = 'all_sales',\n",
    "              aggfunc = 'sum').plot(figsize=(15, 10), xlim=(2013,2016))\n",
    "y = 20\n",
    "plt.axhline(y, linestyle = ':', color = 'red')\n",
    "plt.title('Графики зависимости продаж от года по каждой платформе')\n",
    "plt.xlabel('Год')\n",
    "plt.ylabel('Суммарные продажи в млн $')\n",
    "plt.legend()"
   ]
  },
  {
   "cell_type": "markdown",
   "metadata": {},
   "source": [
    "#### Выводы"
   ]
  },
  {
   "cell_type": "markdown",
   "metadata": {},
   "source": [
    "- Пожалуй, самые перспективные платформы это `PS4` и `XOne`, с учетом того, что данные за 2016 частично отсутствуют они растут с 2013 года.\n",
    "\n",
    "- Также стоит отметить платформу `PC`, которая самая живучая))) Хоть и продажи не такие высокие.\n",
    "\n",
    "---"
   ]
  },
  {
   "cell_type": "markdown",
   "metadata": {},
   "source": [
    "### Постройте график «ящик с усами» по глобальным продажам игр в разбивке по платформам. Опишите результат."
   ]
  },
  {
   "cell_type": "code",
   "execution_count": null,
   "metadata": {},
   "outputs": [],
   "source": [
    "pd.pivot_table(games,\n",
    "              index = 'year_of_release',\n",
    "              columns = 'platform',\n",
    "              values = 'all_sales',\n",
    "              aggfunc = 'sum').boxplot(figsize=(15,10))\n",
    "\n",
    "plt.axhline(y, linestyle = ':', color = 'red')\n",
    "plt.title('График \"ящик с усами\" по глобальным продажам игр в разбивке по платформам')\n",
    "plt.xlabel('Платформа')\n",
    "plt.ylabel('Суммарные продажи в млн $')"
   ]
  },
  {
   "cell_type": "markdown",
   "metadata": {},
   "source": [
    "Самый малый разброс у платформы `PC` - стабильно низкие показатели)) `PS3`, `XOne` и `X360` имеют похожие доверительные интервалы и и самый большой разброс.\n",
    "\n",
    "Лидером выступает платформа `PS4`.\n",
    "\n",
    "---"
   ]
  },
  {
   "cell_type": "markdown",
   "metadata": {},
   "source": [
    "### Посмотрим, как влияют на продажи внутри одной популярной платформы отзывы пользователей и критиков. Построим диаграмму рассеяния и посчитаем корреляцию между отзывами и продажами. Сформулируем выводы."
   ]
  },
  {
   "cell_type": "code",
   "execution_count": null,
   "metadata": {},
   "outputs": [],
   "source": [
    "critic_games = games.query('critic_score != \"unknown\"')"
   ]
  },
  {
   "cell_type": "code",
   "execution_count": null,
   "metadata": {},
   "outputs": [],
   "source": [
    "critic_games['critic_score'] = critic_games['critic_score'].astype(float)"
   ]
  },
  {
   "cell_type": "code",
   "execution_count": null,
   "metadata": {},
   "outputs": [],
   "source": [
    "user_games = games.query('user_score != \"unknown\"')"
   ]
  },
  {
   "cell_type": "code",
   "execution_count": null,
   "metadata": {},
   "outputs": [],
   "source": [
    "user_games['user_score'] = user_games['user_score'].astype(float)"
   ]
  },
  {
   "cell_type": "code",
   "execution_count": null,
   "metadata": {},
   "outputs": [],
   "source": [
    "critic_games.query('platform == \"PS4\"').plot(x='critic_score', y='all_sales', kind='scatter', figsize=(15, 5))\n",
    "plt.title('График зависимости продаж от оценки критиков')\n",
    "plt.xlabel('Оценка критиков')\n",
    "plt.ylabel('Суммарные продажи в млн $')"
   ]
  },
  {
   "cell_type": "code",
   "execution_count": null,
   "metadata": {},
   "outputs": [],
   "source": [
    "user_games.query('platform == \"PS4\"').plot(x='user_score', y='all_sales', kind='scatter', figsize=(15, 5))\n",
    "plt.title('График зависимости продаж от оценки пользователей')\n",
    "plt.xlabel('Оценка пользователей')\n",
    "plt.ylabel('Суммарные продажи в млн $')"
   ]
  },
  {
   "cell_type": "code",
   "execution_count": null,
   "metadata": {},
   "outputs": [],
   "source": [
    "print(critic_games['critic_score'].corr(critic_games['all_sales']))"
   ]
  },
  {
   "cell_type": "code",
   "execution_count": null,
   "metadata": {},
   "outputs": [],
   "source": [
    "print(user_games['user_score'].corr(user_games['all_sales']))"
   ]
  },
  {
   "cell_type": "markdown",
   "metadata": {},
   "source": [
    "### Выводы"
   ]
  },
  {
   "cell_type": "markdown",
   "metadata": {},
   "source": [
    "Рейтинг критиков сильнее кореллирует с продажами, чем рейтинг пользователей.\n",
    "\n",
    "---"
   ]
  },
  {
   "cell_type": "markdown",
   "metadata": {},
   "source": [
    "### Соотнесем выводы с продажами игр на других платформах."
   ]
  },
  {
   "cell_type": "markdown",
   "metadata": {},
   "source": [
    "Напишем функцию, которая для каждой платформы посчитает коэффициент корреляции и построит график рассеяния."
   ]
  },
  {
   "cell_type": "code",
   "execution_count": null,
   "metadata": {},
   "outputs": [],
   "source": [
    "for platform in critic_games['platform'].unique():\n",
    "    critic_games.query('platform == @platform').plot(x='critic_score', y='all_sales', kind='scatter', label=platform)\n",
    "    plt.title('График зависимости продаж от оценки критиков')\n",
    "    plt.xlabel('Оценка критиков')\n",
    "    plt.ylabel('Суммарные продажи в млн $')\n",
    "    print('Коэффициент корреляции рейтинг критиков с продажами для платформы', platform,\\\n",
    "          critic_games.query('platform == @platform')['critic_score']\\\n",
    "          .corr(critic_games.query('platform == @platform')['all_sales']))\n",
    "for platform in user_games['platform'].unique():    \n",
    "    user_games.query('platform == @platform').plot(x='user_score', y='all_sales', kind='scatter', label=platform)\n",
    "    plt.title('График зависимости продаж от оценки пользователей')\n",
    "    plt.xlabel('Оценка пользователей')\n",
    "    plt.ylabel('Суммарные продажи в млн $')\n",
    "    print('Коэффициент корреляции рейтинг пользователей с продажами для платформы', platform,\\\n",
    "          user_games.query('platform == @platform')['user_score']\\\n",
    "          .corr(user_games.query('platform == @platform')['all_sales']))"
   ]
  },
  {
   "cell_type": "markdown",
   "metadata": {},
   "source": [
    "### Посмотрим на общее распределение игр по жанрам. Что можно сказать о самых прибыльных жанрах? Выделяются ли жанры с высокими и низкими продажами?"
   ]
  },
  {
   "cell_type": "code",
   "execution_count": null,
   "metadata": {},
   "outputs": [],
   "source": [
    "plt.figure(figsize=(15, 5))\n",
    "sns.stripplot(x = \"genre\", y = \"all_sales\", data = games)\n",
    "plt.title('График зависимости продаж от жанра')\n",
    "plt.xlabel('Жанр')\n",
    "plt.ylabel('Суммарные продажи в млн $')"
   ]
  },
  {
   "cell_type": "code",
   "execution_count": null,
   "metadata": {},
   "outputs": [],
   "source": [
    "genre_sales = games.pivot_table(index='genre', values = 'all_sales', aggfunc = 'sum')\n",
    "genre_sales.sort_values('all_sales', ascending = False)"
   ]
  },
  {
   "cell_type": "markdown",
   "metadata": {},
   "source": [
    "#### Выводы"
   ]
  },
  {
   "cell_type": "markdown",
   "metadata": {},
   "source": [
    "- Самые распространненные жанры: `Action`, `Shooter`\n",
    "- Немного отстают: `Sports`, `Role-Playing` и `Misc`\n",
    "- Все очень плохо с продажами: `Strategy`, `Puzzle`\n",
    "\n",
    "---"
   ]
  },
  {
   "cell_type": "markdown",
   "metadata": {},
   "source": [
    "## Шаг 4. Составляем портрет пользователя каждого региона. <a class=\"anchor\" id=\"four\"></a>"
   ]
  },
  {
   "cell_type": "markdown",
   "metadata": {},
   "source": [
    "### Определим для пользователя каждого региона (NA, EU, JP):\n",
    "Самые популярные платформы (топ-5). Опишите различия в долях продаж."
   ]
  },
  {
   "cell_type": "code",
   "execution_count": null,
   "metadata": {},
   "outputs": [],
   "source": [
    "region_users = games.pivot_table(index = 'platform', values = ['na_sales', 'eu_sales', 'jp_sales'], aggfunc = 'sum')"
   ]
  },
  {
   "cell_type": "code",
   "execution_count": null,
   "metadata": {},
   "outputs": [],
   "source": [
    "region_users"
   ]
  },
  {
   "cell_type": "code",
   "execution_count": null,
   "metadata": {},
   "outputs": [],
   "source": [
    "plt.figure(figsize=(15, 5))\n",
    "sns.stripplot(x = \"platform\", y = \"na_sales\", data = games)\n",
    "plt.title('График распределения продаж в Северной Америке по платформам')\n",
    "plt.xlabel('Платформа')\n",
    "plt.ylabel('Суммарные продажи в млн $')"
   ]
  },
  {
   "cell_type": "code",
   "execution_count": null,
   "metadata": {},
   "outputs": [],
   "source": [
    "region_users['na_sales'].sort_values(ascending = False).head()"
   ]
  },
  {
   "cell_type": "code",
   "execution_count": null,
   "metadata": {},
   "outputs": [],
   "source": [
    "plt.figure(figsize=(15, 5))\n",
    "sns.stripplot(x = \"platform\", y = \"eu_sales\", data = games)\n",
    "plt.title('График распределения продаж в Европе по платформам')\n",
    "plt.xlabel('Платформа')\n",
    "plt.ylabel('Суммарные продажи в млн $')"
   ]
  },
  {
   "cell_type": "code",
   "execution_count": null,
   "metadata": {},
   "outputs": [],
   "source": [
    "region_users.sort_values('eu_sales', ascending = False).head()"
   ]
  },
  {
   "cell_type": "code",
   "execution_count": null,
   "metadata": {},
   "outputs": [],
   "source": [
    "plt.figure(figsize=(15, 5))\n",
    "sns.stripplot(x = \"platform\", y = \"jp_sales\", data = games)\n",
    "plt.title('График распределения продаж в Японии по платформам')\n",
    "plt.xlabel('Платформа')\n",
    "plt.ylabel('Суммарные продажи в млн $')"
   ]
  },
  {
   "cell_type": "code",
   "execution_count": null,
   "metadata": {},
   "outputs": [],
   "source": [
    "region_users.sort_values('jp_sales', ascending = False).head()"
   ]
  },
  {
   "cell_type": "code",
   "execution_count": null,
   "metadata": {},
   "outputs": [],
   "source": [
    "# Зададим сетку для отрисовки графиков\n",
    "fig, ax = plt.subplots(figsize = (15, 5))\n",
    "\n",
    "# Зададим имена регионов\n",
    "regions = ['na', 'jp', 'eu']\n",
    "\n",
    "for i, region in enumerate(regions):\n",
    "    column_name = '{}_sales'.format(region) # По шаблону формируем имя столбца, к-й хотим прочитать\n",
    "    current = games.groupby('platform').agg({column_name: 'sum'}).sort_values(by=column_name, ascending=False).head(7)\n",
    "    current.plot(y = column_name, kind = 'pie', ax = plt.subplot(1, len(regions), i + 1)) # Строим графики\n",
    "    plt.title('Влияние платформы в регионе {}'.format(region.upper()))\n",
    "    plt.legend().remove() # Удаляем индивидуальные легенды\n",
    "    plt.axis('off')\n",
    "    \n",
    "# Строим общую легенду - получаем из рисунка все точки данных\n",
    "lines_labels = [ax.get_legend_handles_labels() for ax in fig.axes]\n",
    "lines, labels = [], []  # Два пустых массива\n",
    "for plot in lines_labels:\n",
    "    for i in range(len(plot[0])):  # В каждом графике перебираем все сектора и имена\n",
    "        line = plot[0][i]          # Сектор\n",
    "        label = plot[1][i]         # Имя\n",
    "        if not label in labels:    # Если имя еще не добавили\n",
    "            lines += [line]\n",
    "            labels += [label]\n",
    "fig.legend(lines, labels)"
   ]
  },
  {
   "cell_type": "markdown",
   "metadata": {},
   "source": [
    "Как мы видим по топ-5 платформ по каждому региону - месторасположение производителя влияет и на продажи.\n",
    "\n",
    "---"
   ]
  },
  {
   "cell_type": "markdown",
   "metadata": {},
   "source": [
    "### Определим для пользователя каждого региона (NA, EU, JP):\n",
    "\n",
    "Самые популярные жанры (топ-5). Поясним разницу."
   ]
  },
  {
   "cell_type": "code",
   "execution_count": null,
   "metadata": {},
   "outputs": [],
   "source": [
    "region_genre = games.pivot_table(index = 'genre', values = ['na_sales', 'eu_sales', 'jp_sales'], aggfunc = 'sum')"
   ]
  },
  {
   "cell_type": "code",
   "execution_count": null,
   "metadata": {},
   "outputs": [],
   "source": [
    "plt.figure(figsize=(15, 8))\n",
    "sns.stripplot(x = \"genre\", y = \"na_sales\", data = games)\n",
    "plt.title('График распределения продаж в Северной Америке по жанрам')\n",
    "plt.xlabel('Жанр')\n",
    "plt.ylabel('Суммарные продажи в млн $')"
   ]
  },
  {
   "cell_type": "code",
   "execution_count": null,
   "metadata": {},
   "outputs": [],
   "source": [
    "region_genre.sort_values('na_sales', ascending = False).head()"
   ]
  },
  {
   "cell_type": "code",
   "execution_count": null,
   "metadata": {},
   "outputs": [],
   "source": [
    "plt.figure(figsize=(15, 5))\n",
    "sns.stripplot(x = \"genre\", y = \"eu_sales\", data = games)\n",
    "plt.title('График распределения продаж в Европе по жанрам')\n",
    "plt.xlabel('Жанр')\n",
    "plt.ylabel('Суммарные продажи в млн $')"
   ]
  },
  {
   "cell_type": "code",
   "execution_count": null,
   "metadata": {},
   "outputs": [],
   "source": [
    "region_genre.sort_values('eu_sales', ascending = False).head()"
   ]
  },
  {
   "cell_type": "code",
   "execution_count": null,
   "metadata": {},
   "outputs": [],
   "source": [
    "plt.figure(figsize=(15, 5))\n",
    "sns.stripplot(x = \"genre\", y = \"jp_sales\", data = games)\n",
    "plt.title('График распределения продаж в Японии по жанрам')\n",
    "plt.xlabel('Жанр')\n",
    "plt.ylabel('Суммарные продажи в млн $')"
   ]
  },
  {
   "cell_type": "code",
   "execution_count": null,
   "metadata": {},
   "outputs": [],
   "source": [
    "region_genre.sort_values('jp_sales', ascending = False).head()"
   ]
  },
  {
   "cell_type": "code",
   "execution_count": null,
   "metadata": {},
   "outputs": [],
   "source": [
    "# Зададим сетку для отрисовки графиков\n",
    "fig, ax = plt.subplots(figsize = (15, 5))\n",
    "\n",
    "# Зададим имена регионов\n",
    "regions = ['na', 'jp', 'eu']\n",
    "\n",
    "for i, region in enumerate(regions):\n",
    "    column_name = '{}_sales'.format(region) # По шаблону формируем имя столбца, к-й хотим прочитать\n",
    "    current = games.groupby('genre').agg({column_name: 'sum'}).sort_values(by=column_name, ascending=False).head(8)\n",
    "    current.plot(y = column_name, kind = 'pie', ax = plt.subplot(1, len(regions), i + 1)) # Строим графики\n",
    "    plt.title('Влияние жанра в регионе {}'.format(region.upper()))\n",
    "    plt.legend().remove() # Удаляем индивидуальные легенды\n",
    "    plt.axis('off')\n",
    "    \n",
    "# Строим общую легенду - получаем из рисунка все точки данных\n",
    "lines_labels = [ax.get_legend_handles_labels() for ax in fig.axes]\n",
    "lines, labels = [], []  # Два пустых массива\n",
    "for plot in lines_labels:\n",
    "    for i in range(len(plot[0])):  # В каждом графике перебираем все сектора и имена\n",
    "        line = plot[0][i]          # Сектор\n",
    "        label = plot[1][i]         # Имя\n",
    "        if not label in labels:    # Если имя еще не добавили\n",
    "            lines += [line]\n",
    "            labels += [label]\n",
    "fig.legend(lines, labels)"
   ]
  },
  {
   "cell_type": "markdown",
   "metadata": {},
   "source": [
    "В Европе и Америке очень похожие показатели и лидерами выступают:\n",
    "- `Action`\n",
    "- `Shooter`\n",
    "- `Sports`\n",
    "\n",
    "В Японии же лидером оказывается `Role-Playing`\n",
    "\n",
    "\n",
    "Вероятно на выбор игры влияет менталитет и культура населения и тут Европа совпала с Америкой, чего не скажешь о Японии.\n",
    "\n",
    "---"
   ]
  },
  {
   "cell_type": "markdown",
   "metadata": {},
   "source": [
    "### Определим для пользователя каждого региона (NA, EU, JP):\n",
    "\n",
    "Влияет ли рейтинг ESRB на продажи в отдельном регионе?"
   ]
  },
  {
   "cell_type": "code",
   "execution_count": null,
   "metadata": {},
   "outputs": [],
   "source": [
    "rating_sales = games.pivot_table(index = 'rating', values = ['na_sales', 'eu_sales', 'jp_sales'], aggfunc = 'sum')"
   ]
  },
  {
   "cell_type": "code",
   "execution_count": null,
   "metadata": {},
   "outputs": [],
   "source": [
    "rating_sales.sort_values('na_sales', ascending = False).head()"
   ]
  },
  {
   "cell_type": "code",
   "execution_count": null,
   "metadata": {},
   "outputs": [],
   "source": [
    "rating_sales.sort_values('eu_sales', ascending = False).head()"
   ]
  },
  {
   "cell_type": "code",
   "execution_count": null,
   "metadata": {},
   "outputs": [],
   "source": [
    "rating_sales.sort_values('jp_sales', ascending = False).head()"
   ]
  },
  {
   "cell_type": "code",
   "execution_count": null,
   "metadata": {},
   "outputs": [],
   "source": [
    "# Зададим сетку для отрисовки графиков\n",
    "fig, ax = plt.subplots(figsize = (15, 8))\n",
    "\n",
    "# Зададим имена регионов\n",
    "regions = ['na', 'jp', 'eu']\n",
    "\n",
    "for i, region in enumerate(regions):\n",
    "    column_name = '{}_sales'.format(region) # По шаблону формируем имя столбца, к-й хотим прочитать\n",
    "    current = games.groupby('rating').agg({column_name: 'sum'})\n",
    "    current.plot(y = column_name, kind = 'pie', ax = plt.subplot(1, len(regions), i + 1)) # Строим графики\n",
    "    plt.title('Влияние рейтинга ESRB в регионе {}'.format(region.upper()))\n",
    "    plt.legend().remove() # Удаляем индивидуальные легенды\n",
    "    plt.axis('off')\n",
    "    \n",
    "# Строим общую легенду - получаем из рисунка все точки данных\n",
    "lines_labels = [ax.get_legend_handles_labels() for ax in fig.axes]\n",
    "lines, labels = [], []  # Два пустых массива\n",
    "for plot in lines_labels:\n",
    "    for i in range(len(plot[0])):  # В каждом графике перебираем все сектора и имена\n",
    "        line = plot[0][i]          # Сектор\n",
    "        label = plot[1][i]         # Имя\n",
    "        if not label in labels:    # Если имя еще не добавили\n",
    "            lines += [line]\n",
    "            labels += [label]\n",
    "fig.legend(lines, labels)"
   ]
  },
  {
   "cell_type": "markdown",
   "metadata": {},
   "source": [
    "#### Выводы"
   ]
  },
  {
   "cell_type": "markdown",
   "metadata": {},
   "source": [
    "Самые продаваемые ESRB:\n",
    "- `M`\n",
    "- `E`\n",
    "- `T`\n",
    "\n",
    "Игры без рейтинга в Японии занимают бОльшую часть, т.к. ESRB - это северо американская организация и, вероятно, японским играм рейтинг она ставит редко."
   ]
  },
  {
   "cell_type": "markdown",
   "metadata": {},
   "source": [
    "### Описание типичного геймера каждого региона"
   ]
  },
  {
   "cell_type": "markdown",
   "metadata": {},
   "source": [
    "| Параметр | Северная Америка | Европа | Япония |\n",
    "| :-: | :-: | :-: | :-: |\n",
    "| Платформа |\n",
    "| 1 | PS4 | PS4 | 3DS |\n",
    "| 2 | XOne | PS3 | PS3 |\n",
    "| 3 | X360 | XOne | PSV |\n",
    "| Жанр |\n",
    "| 1 | Action | Action | Role-Playing |\n",
    "| 2 | Shooter | Shooter | Action |\n",
    "| 3 | Sports | Sports | Misc |\n",
    "| Рейтинг ESRB |\n",
    "| 1 | M | M | unknown |\n",
    "| 2 | unknown | E | T |\n",
    "| 3 | E | unknown | E |"
   ]
  },
  {
   "cell_type": "code",
   "execution_count": null,
   "metadata": {},
   "outputs": [],
   "source": [
    "# Зададим сетку для отрисовки графиков\n",
    "fig, ax = plt.subplots(figsize = (15, 8))\n",
    "\n",
    "# Зададим имена регионов\n",
    "regions = ['na', 'jp', 'eu']\n",
    "\n",
    "for i, region in enumerate(regions):\n",
    "    column_name = '{}_sales'.format(region) # По шаблону формируем имя столбца, к-й хотим прочитать\n",
    "    current = games.groupby('rating').agg({column_name: 'sum'})\n",
    "    current.plot(y = column_name, kind = 'pie', ax = plt.subplot(1, len(regions), i + 1), autopct='%1.1f%%') # Строим графики\n",
    "    plt.title('Влияние рейтинга ESRB в регионе {}'.format(region.upper()))\n",
    "    plt.legend().remove() # Удаляем индивидуальные легенды\n",
    "    plt.axis('off')\n",
    "    \n",
    "# Строим общую легенду - получаем из рисунка все точки данных\n",
    "lines_labels = [ax.get_legend_handles_labels() for ax in fig.axes]\n",
    "lines, labels = [], []  # Два пустых массива\n",
    "for plot in lines_labels:\n",
    "    for i in range(len(plot[0])):  # В каждом графике перебираем все сектора и имена\n",
    "        line = plot[0][i]          # Сектор\n",
    "        label = plot[1][i]         # Имя\n",
    "        if not label in labels:    # Если имя еще не добавили\n",
    "            lines += [line]\n",
    "            labels += [label]\n",
    "fig.legend(lines, labels)"
   ]
  },
  {
   "cell_type": "markdown",
   "metadata": {},
   "source": [
    "---"
   ]
  },
  {
   "cell_type": "markdown",
   "metadata": {},
   "source": [
    "## Шаг 5. Проверка гипотез <a class=\"anchor\" id=\"five\"></a>"
   ]
  },
  {
   "cell_type": "markdown",
   "metadata": {},
   "source": [
    "### Средние пользовательские рейтинги платформ Xbox One и PC одинаковые. <a class=\"anchor\" id=\"six\"></a>"
   ]
  },
  {
   "cell_type": "markdown",
   "metadata": {},
   "source": [
    "H0: Средние пользовательские рейтинги платформ Xbox One и PC одинаковые.\n",
    "    \n",
    "H1: Средние пользовательские рейтинги платформ Xbox One и PC отличаются."
   ]
  },
  {
   "cell_type": "markdown",
   "metadata": {},
   "source": [
    "Выполним выборку по платформе `XOne` и возьмем ненулевой рейтинг"
   ]
  },
  {
   "cell_type": "code",
   "execution_count": null,
   "metadata": {},
   "outputs": [],
   "source": [
    "xbox_one = games.query('platform == \"XOne\" & user_score != \"unknown\"')\n",
    "xbox_one"
   ]
  },
  {
   "cell_type": "markdown",
   "metadata": {},
   "source": [
    "Выполним выборку по платформе `PC` и возьмем ненулевой рейтинг"
   ]
  },
  {
   "cell_type": "code",
   "execution_count": null,
   "metadata": {},
   "outputs": [],
   "source": [
    "pc = games.query('platform == \"PC\" & user_score != \"unknown\"')\n",
    "pc"
   ]
  },
  {
   "cell_type": "markdown",
   "metadata": {},
   "source": [
    "Построим графики распределения среднего пользовательского рейтинга по выбранным платформам"
   ]
  },
  {
   "cell_type": "code",
   "execution_count": null,
   "metadata": {},
   "outputs": [],
   "source": [
    "plt.figure(figsize=(15, 5))\n",
    "(xbox_one['user_score'].hist(bins=10, alpha = 0.5, label = 'XBox One'))\n",
    "plt.title('График распределения среднего пользовательского рейтинга по выбранным платформам')\n",
    "plt.legend()\n",
    "(pc['user_score'].hist(bins=10, alpha = 0.5, label = 'PC'))\n",
    "plt.title('График распределения среднего пользовательского рейтинга по выбранным платформам')\n",
    "plt.xlabel('Пользовательский рейтинг')\n",
    "plt.legend()"
   ]
  },
  {
   "cell_type": "markdown",
   "metadata": {},
   "source": [
    "В данном тесте мы используем статистический критерий Стьюдента, потому что количество измерений больше 150 и выборочное среднее распределено нормально."
   ]
  },
  {
   "cell_type": "markdown",
   "metadata": {},
   "source": [
    "Проверим отличаются ли дисперсии более чем на 5%."
   ]
  },
  {
   "cell_type": "code",
   "execution_count": null,
   "metadata": {},
   "outputs": [],
   "source": [
    "xbox_one['user_score'].var()"
   ]
  },
  {
   "cell_type": "code",
   "execution_count": null,
   "metadata": {},
   "outputs": [],
   "source": [
    "pc['user_score'].var()"
   ]
  },
  {
   "cell_type": "markdown",
   "metadata": {},
   "source": [
    "Дисперсии отличаются более чем на 5%."
   ]
  },
  {
   "cell_type": "markdown",
   "metadata": {},
   "source": [
    "Применим ттест для проверки нулевой гипотезы. Значения альфа возьмем 0.05."
   ]
  },
  {
   "cell_type": "code",
   "execution_count": null,
   "metadata": {},
   "outputs": [],
   "source": [
    "xbox_vs_pc = st.ttest_ind(\n",
    "    xbox_one['user_score'],\n",
    "    pc['user_score'],\n",
    "    equal_var=False)\n",
    "\n",
    "alpha = 0.05"
   ]
  },
  {
   "cell_type": "code",
   "execution_count": null,
   "metadata": {},
   "outputs": [],
   "source": [
    "print('p-значение:', xbox_vs_pc.pvalue)\n",
    "\n",
    "if xbox_vs_pc.pvalue < alpha:\n",
    "    print(\"Отвергаем нулевую гипотезу\")\n",
    "else:\n",
    "    print(\"Не получилось отвергнуть нулевую гипотезу\")"
   ]
  },
  {
   "cell_type": "markdown",
   "metadata": {},
   "source": [
    "#### Вывод"
   ]
  },
  {
   "cell_type": "markdown",
   "metadata": {},
   "source": [
    "- Мы приняли нулевую гипотезу о равенстве среднего пользовательского рейтинга в **XBox One** и **PC**.\n",
    "\n",
    "- По графику видим, что средний пользовательский рейтинг одинаков.\n",
    "\n",
    "---"
   ]
  },
  {
   "cell_type": "markdown",
   "metadata": {},
   "source": [
    "### Средние пользовательские рейтинги жанров Action и Sports одинаковые. <a class=\"anchor\" id=\"seven\"></a>"
   ]
  },
  {
   "cell_type": "markdown",
   "metadata": {},
   "source": [
    "H0: Средние пользовательские рейтинги жанров Action и Sports одинаковые.\n",
    "    \n",
    "H1: Средние пользовательские рейтинги жанров Action и Sports отличаются."
   ]
  },
  {
   "cell_type": "markdown",
   "metadata": {},
   "source": [
    "Выполним выборку по жанру `Action` и возьмем ненулевой рейтинг"
   ]
  },
  {
   "cell_type": "code",
   "execution_count": null,
   "metadata": {},
   "outputs": [],
   "source": [
    "action = games.query('genre == \"Action\" & user_score != \"unknown\"')\n",
    "action"
   ]
  },
  {
   "cell_type": "markdown",
   "metadata": {},
   "source": [
    "Выполним выборку по жанру `Sports` и возьмем ненулевой рейтинг"
   ]
  },
  {
   "cell_type": "code",
   "execution_count": null,
   "metadata": {},
   "outputs": [],
   "source": [
    "sports = games.query('genre == \"Sports\" & user_score != \"unknown\"')\n",
    "sports"
   ]
  },
  {
   "cell_type": "markdown",
   "metadata": {},
   "source": [
    "Построим графики распределения среднего пользовательского рейтинга по выбранным жанрам"
   ]
  },
  {
   "cell_type": "code",
   "execution_count": null,
   "metadata": {},
   "outputs": [],
   "source": [
    "plt.figure(figsize=(15, 5))\n",
    "(action['user_score'].hist(bins=10, alpha = 0.5, label = 'Action'))\n",
    "plt.title('График распределения среднего пользовательского рейтинга по выбранным жанрам')\n",
    "plt.legend()\n",
    "(sports['user_score'].hist(bins=10, alpha = 0.5, label = 'Sports'))\n",
    "plt.title('График распределения среднего пользовательского рейтинга по выбранным жанрам')\n",
    "plt.xlabel('Пользовательский рейтинг')\n",
    "plt.legend()"
   ]
  },
  {
   "cell_type": "markdown",
   "metadata": {},
   "source": [
    "В данном тесте мы используем статистический критерий Стьюдента, потому что количество измерений больше 150 и выборочное среднее распределено нормально."
   ]
  },
  {
   "cell_type": "markdown",
   "metadata": {},
   "source": [
    "Проверим отличаются ли дисперсии более чем на 5%."
   ]
  },
  {
   "cell_type": "code",
   "execution_count": null,
   "metadata": {},
   "outputs": [],
   "source": [
    "action['user_score'].var()"
   ]
  },
  {
   "cell_type": "code",
   "execution_count": null,
   "metadata": {},
   "outputs": [],
   "source": [
    "sports['user_score'].var()"
   ]
  },
  {
   "cell_type": "markdown",
   "metadata": {},
   "source": [
    "Дисперсии отличаются более чем на 5%."
   ]
  },
  {
   "cell_type": "markdown",
   "metadata": {},
   "source": [
    "Применим ттест для проверки нулевой гипотезы. Значения альфа возьмем 0.05."
   ]
  },
  {
   "cell_type": "code",
   "execution_count": null,
   "metadata": {},
   "outputs": [],
   "source": [
    "action_vs_sports = st.ttest_ind(\n",
    "    action['user_score'],\n",
    "    sports['user_score'],\n",
    "    equal_var=False)\n",
    "\n",
    "alpha = 0.05"
   ]
  },
  {
   "cell_type": "code",
   "execution_count": null,
   "metadata": {},
   "outputs": [],
   "source": [
    "print('p-значение:', action_vs_sports.pvalue)\n",
    "\n",
    "if action_vs_sports.pvalue < alpha:\n",
    "    print(\"Отвергаем нулевую гипотезу\")\n",
    "else:\n",
    "    print(\"Не получилось отвергнуть нулевую гипотезу\")"
   ]
  },
  {
   "cell_type": "markdown",
   "metadata": {},
   "source": [
    "#### Вывод"
   ]
  },
  {
   "cell_type": "markdown",
   "metadata": {},
   "source": [
    "- Мы отвергли нулевую гипотезу о равенстве среднего пользовательского рейтинга в жанрах **Action** и **Sports** и приняли альтернативную гипотезу - средний рейтинг не равен.\n",
    "\n",
    "- По графику видим, что средний рейтинг в жанре **Action** выше.\n",
    "\n",
    "---"
   ]
  },
  {
   "cell_type": "markdown",
   "metadata": {},
   "source": [
    "## Шаг 6. Общие выводы <a class=\"anchor\" id=\"eight\"></a>"
   ]
  },
  {
   "cell_type": "markdown",
   "metadata": {},
   "source": [
    "- Мы прочитали данные и преобразовали их в датафрейм games.<br>\n",
    "\n",
    "- Дата фрейм состоит из 16715 строк и 11 столбцов.\n",
    "\n",
    "- Мы предобработали данные и добавили новый столбец `all_sales` - суммарные продажи по всем регионам.\n",
    "\n",
    "- Мы отобрали топ 14 платформ по продажам. Среднее время жизни одной платформы - 6 лет.\n",
    "\n",
    "- Рейтинг критиков сильнее кореллирует с продажами, чем рейтинг пользователей.\n",
    "\n",
    "- Сделали вывод, что самая перспективная платформа это `PS4` и `PC`, т.к. она актуальна на протяжении всего времени.\n",
    "\n",
    "- Мы составили портрет пользователя для каждого региона\n",
    "\n",
    "| Параметр | Северная Америка | Европа | Япония |\n",
    "| :-: | :-: | :-: | :-: |\n",
    "| Платформа |\n",
    "| 1 | PS4 | PS4 | 3DS |\n",
    "| 2 | XOne | PS3 | PS3 |\n",
    "| 3 | X360 | XOne | PSV |\n",
    "| Жанр |\n",
    "| 1 | Action | Action | Role-Playing |\n",
    "| 2 | Shooter | Shooter | Action |\n",
    "| 3 | Sports | Sports | Misc |\n",
    "| Рейтинг ESRB |\n",
    "| 1 | M | M | unknown |\n",
    "| 2 | unknown | E | T |\n",
    "| 3 | E | unknown | E |\n",
    "\n",
    "- Мы приняли нулевую гипотезу о равенстве среднего пользовательского рейтинга в **XBox One** и **PC**.\n",
    "\n",
    "- По графику видим, что средний пользовательский рейтинг одинаков.\n",
    "\n",
    "- Мы отвергли нулевую гипотезу о равенстве среднего пользовательского рейтинга в жанрах **Action** и **Sports** и приняли альтернативную гипотезу - средний рейтинг не равен.\n",
    "\n",
    "- По графику видим, что средний рейтинг в жанре **Action** выше."
   ]
  },
  {
   "cell_type": "markdown",
   "metadata": {},
   "source": [
    "### Рекомендации"
   ]
  },
  {
   "cell_type": "markdown",
   "metadata": {},
   "source": [
    "- Для полной картины отзывов необходимо выполнить скрейпинг отзывов с различных игровых площадок.\n",
    "- Для планирования продаж на 2017-ой год рекомендуем воспользоваться общими выводами."
   ]
  }
 ],
 "metadata": {
  "kernelspec": {
   "display_name": "Python 3",
   "language": "python",
   "name": "python3"
  },
  "language_info": {
   "codemirror_mode": {
    "name": "ipython",
    "version": 3
   },
   "file_extension": ".py",
   "mimetype": "text/x-python",
   "name": "python",
   "nbconvert_exporter": "python",
   "pygments_lexer": "ipython3",
   "version": "3.8.5"
  }
 },
 "nbformat": 4,
 "nbformat_minor": 2
}
