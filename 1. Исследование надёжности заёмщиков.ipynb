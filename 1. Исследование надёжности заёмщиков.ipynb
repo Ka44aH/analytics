{
 "cells": [
  {
   "cell_type": "markdown",
   "metadata": {},
   "source": [
    "# Исследование надёжности заёмщиков"
   ]
  },
  {
   "cell_type": "markdown",
   "metadata": {},
   "source": [
    "### Цели и задачи проекта\n",
    "\n",
    "#Заказчик — кредитный отдел банка. Нужно разобраться, влияет ли семейное положение и количество детей клиента на факт погашения кредита в срок. Входные данные от банка — статистика о платёжеспособности клиентов.\n",
    "\n",
    "Результаты исследования будут учтены при построении модели **кредитного скоринга** — специальной системы, которая оценивает способность потенциального заёмщика вернуть кредит банку.\n",
    "\n",
    "### План работы\n",
    "\n",
    "#### 1. Изучить входные данные;\n",
    "#### 2. Выполнить предобработку данных;\n",
    "#### 3. Ответить на поставленные Заказчиком вопросы.\n",
    "\n",
    "### Информация о входных данных\n",
    "\n",
    "В таблице двенадцать столбцов:<br>\n",
    "\n",
    "**children** — количество детей в семье;<br>\n",
    "**days_employed** — общий трудовой стаж в днях;<br>\n",
    "**dob_years** — возраст клиента в годах;<br>\n",
    "**education** — уровень образования клиента;<br>\n",
    "**education_id** — идентификатор уровня образования;<br>\n",
    "**family_status** — семейное положение;<br>\n",
    "**family_status_id** — идентификатор семейного положения;<br>\n",
    "**gender** — пол клиента;<br>\n",
    "**income_type** — тип занятости;<br>\n",
    "**debt** — имел ли задолженность по возврату кредитов;<br>\n",
    "**total_income** — ежемесячный доход;<br>\n",
    "**purpose** — цель получения кредита.<br>"
   ]
  },
  {
   "cell_type": "markdown",
   "metadata": {},
   "source": [
    "### Оглавление\n",
    "\n",
    "* [1. Открываем файл с данными и изучаем общую информацию](#first)\n",
    "* [2. Предобработка данных](#second)\n",
    "*  [Обработка пропусков](#third)\n",
    "*    [Замена типа данных](#fourth)\n",
    "*     [Обработка дубликатов](#fifth)\n",
    "*     [Лемматизация](#sixth)\n",
    "*     [Категоризация данных](#seventh)\n",
    "* [3. Отвечаем на вопросы](#eighth)\n",
    "*     [Есть ли зависимость между наличием детей и возвратом кредита в срок?](#ninth)\n",
    "*     [Есть ли зависимость между семейным положением и возвратом кредита в срок?](#tenth)\n",
    "*    [Есть ли зависимость между уровнем дохода и возвратом кредита в срок?](#eleventh)\n",
    "*     [Как разные цели кредита влияют на его возврат в срок?](#twelfth)\n",
    "* [4. Общий вывод](#thirteenth)"
   ]
  },
  {
   "cell_type": "markdown",
   "metadata": {},
   "source": [
    "## 1. Открываем файл с данными и изучаем общую информацию. <a class=\"anchor\" id=\"first\"></a>"
   ]
  },
  {
   "cell_type": "code",
   "execution_count": null,
   "metadata": {
    "scrolled": true
   },
   "outputs": [],
   "source": [
    "import pandas as pd\n",
    "from IPython.display import display"
   ]
  },
  {
   "cell_type": "code",
   "execution_count": null,
   "metadata": {},
   "outputs": [],
   "source": [
    "clients = pd.read_csv('datasets/1_data.csv')\n",
    "clients.info()\n",
    "display(clients.head(10))"
   ]
  },
  {
   "cell_type": "markdown",
   "metadata": {},
   "source": [
    "## Вывод"
   ]
  },
  {
   "cell_type": "markdown",
   "metadata": {},
   "source": [
    "Получена таблица - статистика о платежеспособности проекта.\n",
    "\n",
    "Каждая строчка в таблице соответствует информации о платежеспособности клиента. Всего 21525 строк.\n",
    "\n",
    "В столбцах days_employed и total_income наблюдаем 2174 нулевых значений. Нулевые значения в столбцах трудовой стаж и<br>\n",
    "доход не могут быть специальными, вероятно это ошибка ввода или подсчета, поэтому в следующей главе мы их обработаем.\n",
    "\n",
    "В столбце days_employed обнаружен артефакт - отрицательное количество дней трудового стажа. Полагаю, что данный <br>\n",
    "артефакт ввиду того, что дата начала работы и дата окончания работы были перепутаны местами и результат вычисления<br>\n",
    "разности дат получился отрицательным. В шаге предобработка данных исправим этот артефакт.<br>"
   ]
  },
  {
   "cell_type": "markdown",
   "metadata": {},
   "source": [
    "## 2. Предобработка данных <a class=\"anchor\" id=\"second\"></a>"
   ]
  },
  {
   "cell_type": "markdown",
   "metadata": {},
   "source": [
    "### Обработка пропусков <a class=\"anchor\" id=\"third\"></a>"
   ]
  },
  {
   "cell_type": "markdown",
   "metadata": {},
   "source": [
    "Рассмотрим природу появления нулевых значений в общем трудовом стаже и ежемесячном доходе для этого отсортируем <br>\n",
    "строки по столбцу с трудовым стажем и выведем последние 15 значений: "
   ]
  },
  {
   "cell_type": "code",
   "execution_count": null,
   "metadata": {
    "scrolled": false
   },
   "outputs": [],
   "source": [
    "display(clients.sort_values(by = 'days_employed', ascending = False).tail(15))"
   ]
  },
  {
   "cell_type": "markdown",
   "metadata": {},
   "source": [
    "Как можем увидеть значения NaN имеется у клиентов, чей возраст гораздо больше 18 лет, с образованием и с различным<br>\n",
    "типом занятости. Следовательно, отсутствовать трудовой стаж и ежемясячный доход у таких клиентов не может. <br>\n",
    "Вероятно, NaN появился вследствие неправильного внесения данных. Поэтому в данных полях установим среднее значение <br>\n",
    "трудового стажа и дохода. Для вычисления стажа выберем среднее значение."
   ]
  },
  {
   "cell_type": "markdown",
   "metadata": {},
   "source": [
    "Сперва избавимся от отрицательных значений, т.к. они искозят среднее значение и переведем 'days_employed' в года."
   ]
  },
  {
   "cell_type": "code",
   "execution_count": null,
   "metadata": {},
   "outputs": [],
   "source": [
    "def true_days_employed(row):\n",
    "    if row is not None:\n",
    "        if row < 0:\n",
    "            return -row/365\n",
    "        else:\n",
    "            return row/365\n",
    "    return row\n",
    "clients['days_employed'] = clients['days_employed'].apply(true_days_employed)"
   ]
  },
  {
   "cell_type": "markdown",
   "metadata": {},
   "source": [
    "Проверим остались ли отрицательные значения в трудовом стаже."
   ]
  },
  {
   "cell_type": "code",
   "execution_count": null,
   "metadata": {},
   "outputs": [],
   "source": [
    "print('Количество строк с отрицательным значением в трудовом стаже =', clients['days_employed'][clients['days_employed'] < 0].count())"
   ]
  },
  {
   "cell_type": "markdown",
   "metadata": {},
   "source": [
    "Давайте проанализируем стаж более подробней. Для этого посчитаем максимальный и минимальный стаж:"
   ]
  },
  {
   "cell_type": "code",
   "execution_count": null,
   "metadata": {},
   "outputs": [],
   "source": [
    "days_employed_max = clients['days_employed'].max()\n",
    "days_employed_min = clients['days_employed'].min()\n",
    "print(f'Минимальный стаж составляет {days_employed_min} лет')\n",
    "print(f'Максимальный стаж составляет {days_employed_max} лет')"
   ]
  },
  {
   "cell_type": "markdown",
   "metadata": {},
   "source": [
    "1100 лет стажа. По земному летоисчеслению это нереально. Поэтому для расчета среднего стажа воспользуемся медианой.<br>\n",
    "Вычислим медиану 'days_employed' сгруппируем данные по возрасту, т.к. стаж из всех категорий больше всего зависит<br>\n",
    "от возраста. \n",
    "\n",
    "NaN и сверхвысокий стаж заменим на медиану. \n",
    "\n",
    "Максимально возможный стаж = возраст - 16. Т.к. с 16 лет можно работать.\n",
    "\n",
    "Проанализируем возраст:"
   ]
  },
  {
   "cell_type": "code",
   "execution_count": null,
   "metadata": {
    "scrolled": false
   },
   "outputs": [],
   "source": [
    "print('Список самых молодых клиентов')\n",
    "display(clients['dob_years'].sort_values().head(10))\n",
    "print('Список самых взрослых клиентов')\n",
    "display(clients['dob_years'].sort_values().tail(10))\n",
    "print('Количество клиентов младше 18 лет =', clients['dob_years'][clients['dob_years'] < 19].count())\n",
    "print('Количество клиентов с возрастом равным 0 =', clients['dob_years'][clients['dob_years'] == 0].count())"
   ]
  },
  {
   "cell_type": "markdown",
   "metadata": {},
   "source": [
    "Из расчетов видем, что количество клиентов с нулевым значения возраста равно количеству клиентов с возрастом младше 18. Чтобы сформировать группы по возрасту заменим нулевые значения возраста на среднее значения сгруппировав клиентов по типу занятости 'income_type'"
   ]
  },
  {
   "cell_type": "code",
   "execution_count": null,
   "metadata": {},
   "outputs": [],
   "source": [
    "# Сгруппируем значения\n",
    "median_age = (clients.groupby(['income_type'])).agg({'dob_years':'median'}).rename(columns = {'dob_years': 'median_dob_years'})\n",
    "# Дабавим столбец с медианой к исходному фрейму\n",
    "clients = clients.merge(median_age, on = ['income_type'])\n",
    "# посмотрим сколько пустых строк до замены\n",
    "print('Пропуски до:', clients['dob_years'][clients['dob_years'] == 0].count())\n",
    "# заполним пропуски\n",
    "clients.loc[clients['dob_years'] == 0, 'dob_years'] = clients.loc[clients['dob_years'] == 0, 'median_dob_years']\n",
    "# пропуски после\n",
    "print('Пропуски после:', clients['dob_years'][clients['dob_years'] == 0].count())"
   ]
  },
  {
   "cell_type": "markdown",
   "metadata": {},
   "source": [
    "От нулевых значений в возрасте избавились. Теперь поделим клиентов на четыре группы:\n",
    "1. От 18 до 30 лет;\n",
    "2. От 30 до 40 лет;\n",
    "3. От 40 до 50 лет;\n",
    "4. 50 лет и больше."
   ]
  },
  {
   "cell_type": "code",
   "execution_count": null,
   "metadata": {
    "scrolled": true
   },
   "outputs": [],
   "source": [
    "def kind_of_age(age):\n",
    "    if age < 31:\n",
    "        return 1\n",
    "    elif age < 45:\n",
    "        return 2\n",
    "    return 3\n",
    "clients['kind_of_age'] = clients['dob_years'].apply(kind_of_age)\n",
    "display(clients.head(10))"
   ]
  },
  {
   "cell_type": "markdown",
   "metadata": {},
   "source": [
    "Избавимся от пропусков в 'days_employed' исходя из возрастной группы и будем считать медиану со стажем менее максимального возраста."
   ]
  },
  {
   "cell_type": "code",
   "execution_count": null,
   "metadata": {},
   "outputs": [],
   "source": [
    "# Сгруппируем значения\n",
    "medians = (clients[clients['days_employed'] < 75].groupby(['kind_of_age'])).agg({'days_employed':'mean'}).rename(columns = {'days_employed': 'median_days_employed'})\n",
    "# Дабавим столбец с медианой к исходному фрейму\n",
    "clients = clients.merge(medians, on = ['kind_of_age'])\n",
    "# посмотрим сколько пустых строк до замены\n",
    "print('Пропуски до:', clients['days_employed'].isna().sum())\n",
    "# заполним пропуски\n",
    "clients.loc[clients['days_employed'].isna(), 'days_employed'] = clients.loc[clients['days_employed'].isna(), 'median_days_employed']\n",
    "\n",
    "# заменим сверхстаж на медиану\n",
    "\n",
    "def norm_days_employed(row):\n",
    "    days_employed = row['days_employed']\n",
    "    age = row['dob_years']\n",
    "    median = row['median_days_employed']\n",
    "    if days_employed >= (age - 16):\n",
    "        return median\n",
    "    return days_employed\n",
    "clients['days_employed'] = clients.apply(norm_days_employed, axis=1)\n",
    "\n",
    "print('Пропуски после:', clients['days_employed'].isna().sum())"
   ]
  },
  {
   "cell_type": "markdown",
   "metadata": {},
   "source": [
    "Выполним работу над пропусками в ежемесячном доходе.\n",
    "\n",
    "Причиной появления пропусков в доходе может служить неправильное внесение данных в таблицу.\n",
    "\n",
    "Выдвенем гипотезу, что доход зависит от образования, стажа и типа занятости. И проверим так ли это для этого сгруппируем данные по полям 'education_id', 'days_employed', 'income_type' и посмотрим распределение дохода."
   ]
  },
  {
   "cell_type": "code",
   "execution_count": null,
   "metadata": {},
   "outputs": [],
   "source": [
    "medians_edu = clients.groupby('education_id')['total_income'].median()\n",
    "print('Зависимость среднего ежемесячного дохода от уровня образования клиента')\n",
    "display(medians_edu)\n",
    "medians_emplo = clients.groupby('days_employed')['total_income'].median()\n",
    "print('Зависимость среднего ежемесячного дохода от стажа клиента')\n",
    "display(medians_emplo)\n",
    "medians_inc = clients.groupby('income_type')['total_income'].median()\n",
    "print('Зависимость среднего ежемесячного дохода от типа занятости клиента')\n",
    "display(medians_inc)"
   ]
  },
  {
   "cell_type": "markdown",
   "metadata": {},
   "source": [
    "Из данных видим, что средний ежемесячный доход зависит от типа занятости и от уровня образования клиента. Заменим пропуски на среднее значение дохода 'total_income' сгруппированных по 'income_type' и 'education_id'"
   ]
  },
  {
   "cell_type": "code",
   "execution_count": null,
   "metadata": {},
   "outputs": [],
   "source": [
    "# Сгруппируем значения\n",
    "median_income = (clients.groupby(['income_type', 'education_id'])).agg({'total_income':'median'}).rename(columns = {'total_income': 'median_total_income'})\n",
    "# Дабавим столбец с медианой к исходному фрейму\n",
    "clients = clients.merge(median_income, on = ['income_type', 'education_id'])\n",
    "# посмотрим сколько пустых строк до замены\n",
    "print('Пропуски до:', clients['total_income'].isna().sum())\n",
    "# заполним пропуски\n",
    "clients.loc[clients['total_income'].isna(), 'total_income'] = clients.loc[clients['total_income'].isna(), 'median_total_income']\n",
    "# пропуски после\n",
    "print('Пропуски после:', clients['total_income'].isna().sum())\n",
    "# удалим лишние столбцы\n",
    "clients = clients.drop(['median_dob_years', 'median_days_employed', 'median_total_income'], axis=1)"
   ]
  },
  {
   "cell_type": "markdown",
   "metadata": {},
   "source": [
    "### Вывод"
   ]
  },
  {
   "cell_type": "markdown",
   "metadata": {},
   "source": [
    "Нашли нулевые значения в столбце возраст 'dob_years' в количестве 101 и заменили на среднее значение возраста.\n",
    "Нашли нулевые значения в столбце стаж 'days_employed' в количестве 2174 и заменили на среднее значение стажа.\n",
    "Нашли нулевые значения в столбце стаж 'total_income' в количестве 2174 и заменили на среднее значение дохода."
   ]
  },
  {
   "cell_type": "markdown",
   "metadata": {},
   "source": [
    "### Замена типа данных <a class=\"anchor\" id=\"fourth\"></a>"
   ]
  },
  {
   "cell_type": "markdown",
   "metadata": {},
   "source": [
    "Еще раз взглянем на нашу таблицу:"
   ]
  },
  {
   "cell_type": "code",
   "execution_count": null,
   "metadata": {},
   "outputs": [],
   "source": [
    "display(clients.info())"
   ]
  },
  {
   "cell_type": "markdown",
   "metadata": {},
   "source": [
    "Значения в стоблце 'days_employed' имеют плавающую точку, но стаж измеряется в годах и дробная часть нас не интересует, поэтому переведем данный столбец к целочисленному значению.\n",
    "\n",
    "Аналогично с 'dob_years' и 'total_income'. Не считать же нам копейки и дни)"
   ]
  },
  {
   "cell_type": "code",
   "execution_count": null,
   "metadata": {},
   "outputs": [],
   "source": [
    "clients['days_employed'] = clients['days_employed'].astype('int')\n",
    "clients['dob_years'] = clients['dob_years'].astype('int')\n",
    "clients['total_income'] = pd.to_numeric(clients['total_income'], errors='coerce')\n",
    "# проверим новый вывод\n",
    "display(clients.info())"
   ]
  },
  {
   "cell_type": "markdown",
   "metadata": {},
   "source": [
    "### Вывод"
   ]
  },
  {
   "cell_type": "markdown",
   "metadata": {},
   "source": [
    "В столбцах 'days_employed', 'dob_years' и 'total_income' изменили тип данных на целочисленный, теперь приятнее смотреть на данные."
   ]
  },
  {
   "cell_type": "markdown",
   "metadata": {},
   "source": [
    "### Обработка дубликатов <a class=\"anchor\" id=\"fifth\"></a>"
   ]
  },
  {
   "cell_type": "markdown",
   "metadata": {},
   "source": [
    "Проанализируем данные на наличие дубликатов. Для этого к каждому столбцу применим метод .value_counts()"
   ]
  },
  {
   "cell_type": "code",
   "execution_count": null,
   "metadata": {},
   "outputs": [],
   "source": [
    "display(clients['children'].value_counts())"
   ]
  },
  {
   "cell_type": "markdown",
   "metadata": {},
   "source": [
    "Минус один ребенок конечно не может быть, это что кто-то еще должен ребенка?) \n",
    "\n",
    "Здесь явно опечатка и должно быть значение 1.\n",
    "\n",
    "20 детей - это конечно хорошо, но маловероятно, т.к. были бы люди с 6-19 детьми. Поэтому здесь тоже опечатка и должно быть 2 ребенка."
   ]
  },
  {
   "cell_type": "code",
   "execution_count": null,
   "metadata": {},
   "outputs": [],
   "source": [
    "# заменим -1 ребенок на 1\n",
    "clients['children'] = clients['children'].replace(-1, 1)\n",
    "\n",
    "# заменим 20 детей на 2\n",
    "clients['children'] = clients['children'].replace(20, 2)\n",
    "\n",
    "# проверим уникальные значения\n",
    "display(clients['children'].value_counts())"
   ]
  },
  {
   "cell_type": "markdown",
   "metadata": {},
   "source": [
    "Теперь значения в столбце 'children' приняли правдивый вид.\n",
    "\n",
    "Посмотрим на столбец 'education' для этого посмотрим на словарь из 'education_id', 'education' и количество всех строк."
   ]
  },
  {
   "cell_type": "code",
   "execution_count": null,
   "metadata": {},
   "outputs": [],
   "source": [
    "education_dict = clients.pivot_table(index = ['education_id', 'education'], values = 'debt', aggfunc = ['count'])\n",
    "education_dict.columns = ['Кол-во заемщиков']\n",
    "display(education_dict)"
   ]
  },
  {
   "cell_type": "markdown",
   "metadata": {},
   "source": [
    "Обнаружили различные варианты написания образования. Исправим это приведя значения в столбце 'education' к нижнему регистру"
   ]
  },
  {
   "cell_type": "code",
   "execution_count": null,
   "metadata": {},
   "outputs": [],
   "source": [
    "# приводим к нижнему регистру\n",
    "clients['education'] = clients['education'].str.lower()\n",
    "\n",
    "# проверяем результат\n",
    "education_dict = clients.pivot_table(index = ['education_id', 'education'], values = 'debt', aggfunc = ['count'])\n",
    "education_dict.columns = ['Кол-во заемщиков']\n",
    "display(education_dict)"
   ]
  },
  {
   "cell_type": "markdown",
   "metadata": {},
   "source": [
    "Аналогичные операции выполним с 'family_status' и 'family_status_id'"
   ]
  },
  {
   "cell_type": "code",
   "execution_count": null,
   "metadata": {},
   "outputs": [],
   "source": [
    "family_dict = clients.pivot_table(index = ['family_status_id', 'family_status'], values = 'debt', aggfunc = ['count'])\n",
    "family_dict.columns = ['Кол-во заемщиков']\n",
    "display(family_dict)"
   ]
  },
  {
   "cell_type": "markdown",
   "metadata": {},
   "source": [
    "Дубликатов не обнаружено, но для удобства приведем \"Не женат / не замужем\" к нижнему регистру"
   ]
  },
  {
   "cell_type": "code",
   "execution_count": null,
   "metadata": {},
   "outputs": [],
   "source": [
    "# приводим к нижнему регистру\n",
    "clients['family_status'] = clients['family_status'].str.lower()\n",
    "\n",
    "# проверяем результат\n",
    "display(clients['family_status'].value_counts())"
   ]
  },
  {
   "cell_type": "markdown",
   "metadata": {},
   "source": [
    "Проверим на уникальность следующие столбцы 'family_status_id', 'gender', 'income_type', 'debt'"
   ]
  },
  {
   "cell_type": "code",
   "execution_count": null,
   "metadata": {},
   "outputs": [],
   "source": [
    "print('Уникальные значения в \"family_status_id\"\\n')\n",
    "display(clients['family_status_id'].value_counts())\n",
    "\n",
    "print('Уникальные значения в \"gender\"\\n')\n",
    "display(clients['gender'].value_counts())\n",
    "\n",
    "print('Уникальные значения в \"income_type\"\\n')\n",
    "display(clients['income_type'].value_counts())\n",
    "\n",
    "print('Уникальные значения в \"debt\"\\n')\n",
    "display(clients['debt'].value_counts())"
   ]
  },
  {
   "cell_type": "markdown",
   "metadata": {},
   "source": [
    "В поле столбца 'gender' обнаружено значение XNA. Отнесем данное поле к большей части группы 'gender'"
   ]
  },
  {
   "cell_type": "code",
   "execution_count": null,
   "metadata": {},
   "outputs": [],
   "source": [
    "clients['gender'] = clients['gender'].replace('XNA', 'F')\n",
    "\n",
    "# проверим уникальность после замены\n",
    "clients['gender'].value_counts()"
   ]
  },
  {
   "cell_type": "markdown",
   "metadata": {},
   "source": [
    "Проверим уникальность полей в столбце 'purpose'"
   ]
  },
  {
   "cell_type": "code",
   "execution_count": null,
   "metadata": {},
   "outputs": [],
   "source": [
    "clients['purpose'].value_counts()"
   ]
  },
  {
   "cell_type": "markdown",
   "metadata": {},
   "source": [
    "Для работы с этими данными используем лемматизацию и категоризацию в следующих главах."
   ]
  },
  {
   "cell_type": "markdown",
   "metadata": {},
   "source": [
    "#### Поиск дубликатов в таблице"
   ]
  },
  {
   "cell_type": "code",
   "execution_count": null,
   "metadata": {},
   "outputs": [],
   "source": [
    "# подсчет дубликатов\n",
    "clients.duplicated().sum()"
   ]
  },
  {
   "cell_type": "markdown",
   "metadata": {},
   "source": [
    "Мы обнаружили 71 дубликатов строк. Методом drop_duplicates() удалим их."
   ]
  },
  {
   "cell_type": "code",
   "execution_count": null,
   "metadata": {},
   "outputs": [],
   "source": [
    "clients = clients.drop_duplicates().reset_index(drop = True)\n",
    "\n",
    "# проверим количество дубликатов\n",
    "clients.duplicated().sum()"
   ]
  },
  {
   "cell_type": "markdown",
   "metadata": {},
   "source": [
    "### Вывод"
   ]
  },
  {
   "cell_type": "markdown",
   "metadata": {},
   "source": [
    "В исходных данных обнаружили дубликаты и избавились от них в столбцах 'children', 'gender', 'education' и 'family_status'. \n",
    "В столбце 'purpose' получили уникальные данные, которые обработаем методом лемматизация и категоризация в следующих главах.\n",
    "\n",
    "В таблице обнаружили и удалили 71 дубликат."
   ]
  },
  {
   "cell_type": "markdown",
   "metadata": {},
   "source": [
    "### Лемматизация <a class=\"anchor\" id=\"sixth\"></a>"
   ]
  },
  {
   "cell_type": "markdown",
   "metadata": {},
   "source": [
    "Выполним лемматизацию цели получения кредита. Для этого используем библиотеку pymystem и collections. После подсчета будет удобно разбить цель получения кредита на категории."
   ]
  },
  {
   "cell_type": "code",
   "execution_count": null,
   "metadata": {},
   "outputs": [],
   "source": [
    "# импортируем Mystem для лемматизации полученного списка и Counter для дальнейшего подсчета слов\n",
    "from pymystem3 import Mystem\n",
    "from collections import Counter"
   ]
  },
  {
   "cell_type": "code",
   "execution_count": null,
   "metadata": {},
   "outputs": [],
   "source": [
    "# получим список уникальных целей получения кредита\n",
    "lemmas_purpose = clients['purpose'].unique()\n",
    "\n",
    "m = Mystem()\n",
    "big_lemmas = []\n",
    "for row in lemmas_purpose:\n",
    "    lemmas = m.lemmatize(row)\n",
    "    big_lemmas += lemmas\n",
    "\n",
    "# подсчет упоминаний\n",
    "display(Counter(big_lemmas))"
   ]
  },
  {
   "cell_type": "markdown",
   "metadata": {},
   "source": [
    "### Вывод"
   ]
  },
  {
   "cell_type": "markdown",
   "metadata": {},
   "source": [
    "Выполнили лемматизацию целей получения кредита. Теперь с легкостью выделим категории целей получения кредита.\n",
    "\n",
    "Наиболее встречающиеся слова:\n",
    "недвижимость - 10;\n",
    "автомобиль - 9;\n",
    "образование - 9;\n",
    "жилье - 9;\n",
    "свадьба -3."
   ]
  },
  {
   "cell_type": "markdown",
   "metadata": {},
   "source": [
    "### Категоризация данных <a class=\"anchor\" id=\"seventh\"></a>"
   ]
  },
  {
   "cell_type": "markdown",
   "metadata": {},
   "source": [
    "Из полученной данных после лемматизации разобъем цели получения кредита на категории;\n",
    "1. Недвижимость + жилье;\n",
    "2. Автомобиль;\n",
    "3. Образование;\n",
    "4. Свадьба.\n",
    "\n",
    "Теперь добавим категорию цели получения кредита:"
   ]
  },
  {
   "cell_type": "code",
   "execution_count": null,
   "metadata": {},
   "outputs": [],
   "source": [
    "# функция принимает строку и возвращает категорию\n",
    "def purpose_category(row):\n",
    "    purpose = row['purpose']\n",
    "    purpose = m.lemmatize(purpose)\n",
    "    if 'свадьба' in purpose:\n",
    "        return 'свадьба'\n",
    "    elif 'автомобиль' in purpose:\n",
    "        return 'автомобиль'\n",
    "    elif 'образование' in purpose:\n",
    "        return 'образование'\n",
    "    return 'недвижимость'\n",
    "\n",
    "# добавим новый столбец 'purpose_category' к таблице\n",
    "clients['purpose_category'] = clients.apply(purpose_category, axis=1)\n",
    "\n",
    "# выведем таблицу и посмотрим на результат\n",
    "clients.head()"
   ]
  },
  {
   "cell_type": "markdown",
   "metadata": {},
   "source": [
    "Выведем словарь по цели получения кредита."
   ]
  },
  {
   "cell_type": "code",
   "execution_count": null,
   "metadata": {},
   "outputs": [],
   "source": [
    "purpose_dict = clients.pivot_table(index = ['purpose_category', 'purpose'], values = 'debt', aggfunc = ['count'])\n",
    "purpose_dict.columns = ['Кол-во заемщиков']\n",
    "display(purpose_dict)"
   ]
  },
  {
   "cell_type": "markdown",
   "metadata": {},
   "source": [
    "Посчитаем категорию зарплат. Для этого посчитаем медиану, минимум, максимум и медианы между медианой и минимумом и между медианой и максимумом."
   ]
  },
  {
   "cell_type": "code",
   "execution_count": null,
   "metadata": {},
   "outputs": [],
   "source": [
    "# посчитаем среднее значение для дохода, а также минимум и максимум\n",
    "income_median = clients['total_income'].median()\n",
    "income_min = clients['total_income'].min()\n",
    "income_max = clients['total_income'].max()\n",
    "\n",
    "# посчитаем среднее значение между медианой и нижней границей дохода\n",
    "income_group_1_median = clients['total_income'].quantile(0.25)\n",
    "\n",
    "# посчитаем среднее значение между медианой и верхней границей дохода\n",
    "income_group_2_median = clients['total_income'].quantile(0.75)\n",
    "\n",
    "# функция принимает строку и возвращает категорию\n",
    "def income_category(row):\n",
    "    income = row['total_income']\n",
    "    if income <= income_group_1_median:\n",
    "        return 1\n",
    "    elif income <= income_median:\n",
    "        return 2\n",
    "    elif income <= income_group_2_median:\n",
    "        return 3\n",
    "    return 4\n",
    "\n",
    "# добавим новый столбец 'income_category' к таблице\n",
    "clients['income_category'] = clients.apply(income_category, axis=1)\n",
    "print('Первая категория имеет доход от {:.0f} до {:.0f} включительно'.format(income_min, income_group_1_median))\n",
    "print('Вторая категория имеет доход от {:.0f} до {:.0f} включительно'.format(income_group_1_median, income_median))\n",
    "print('Третья категория имеет доход от {:.0f} до {:.0f} включительно'.format(income_median, income_group_2_median))\n",
    "print('Четвертая категория имеет доход от {:.0f} до {:.0f} включительно'.format(income_group_2_median, income_max)) "
   ]
  },
  {
   "cell_type": "markdown",
   "metadata": {},
   "source": [
    "### Вывод"
   ]
  },
  {
   "cell_type": "markdown",
   "metadata": {},
   "source": [
    "Благодаря лемматизации мы разбили цели получения кредита на 4 категории: \n",
    "1. Недвижимость + жилье;\n",
    "2. Автомобиль;\n",
    "3. Образование;\n",
    "4. Свадьба.\n",
    "\n",
    "И добавили категорию к таблице.\n",
    "\n",
    "Разбили уровень дохода на категории:\n",
    "1. Первая категория имеет доход от 20 667 до 107 516 включительно\n",
    "2. Вторая категория имеет доход от 107 516 до 143 708 включительно\n",
    "3. Третья категория имеет доход от 143 708 до 198 307 включительно\n",
    "4. Четвертая категория имеет доход от 198 307 до 2 265 604 включительно"
   ]
  },
  {
   "cell_type": "markdown",
   "metadata": {},
   "source": [
    "## Шаг 3. Ответьте на вопросы <a class=\"anchor\" id=\"eighth\"></a>"
   ]
  },
  {
   "cell_type": "markdown",
   "metadata": {},
   "source": [
    "### - Есть ли зависимость между наличием детей и возвратом кредита в срок? <a class=\"anchor\" id=\"ninth\"></a>"
   ]
  },
  {
   "cell_type": "markdown",
   "metadata": {},
   "source": [
    "Вычислим зависимость между наличием детей и возвратом кредита в срок, для этого поделим сумму задолженностей по возврату кредитов на общее количество кредитов сгруппированных по столбцу 'children'"
   ]
  },
  {
   "cell_type": "code",
   "execution_count": null,
   "metadata": {},
   "outputs": [],
   "source": [
    "children_debt = clients.pivot_table(index = ['children'], values = 'debt', aggfunc = ['mean', sum, 'count'])\n",
    "children_debt.columns = ['% невозврата', 'Кол-во должников', 'Кол-во заемщиков']\n",
    "display(children_debt.style.format({'% невозврата':'{:.2%}'}))"
   ]
  },
  {
   "cell_type": "markdown",
   "metadata": {},
   "source": [
    "### Вывод"
   ]
  },
  {
   "cell_type": "markdown",
   "metadata": {},
   "source": [
    "Клиенты без детей чаще остальных возвращают кредиты в срок. \n",
    "\n",
    "Клиенты с 5 детьми хоть и всегда возвращают кредиты в срок, но выборка слишком мала (9 клиентов)."
   ]
  },
  {
   "cell_type": "markdown",
   "metadata": {},
   "source": [
    "### - Есть ли зависимость между семейным положением и возвратом кредита в срок? <a class=\"anchor\" id=\"tenth\">"
   ]
  },
  {
   "cell_type": "markdown",
   "metadata": {},
   "source": [
    "Вычислим зависимость между семейным положением и возвратом кредита в срок, для этого поделим сумму задолженностей по возврату кредитов на общее количество кредитов сгруппированных по столбцу 'family_status'"
   ]
  },
  {
   "cell_type": "code",
   "execution_count": null,
   "metadata": {},
   "outputs": [],
   "source": [
    "family_debt = clients.pivot_table(index = ['family_status'], values = 'debt', aggfunc = ['mean', sum, 'count'])\n",
    "family_debt.columns = ['% невозврата', 'Кол-во должников', 'Кол-во заемщиков']\n",
    "display(family_debt.style.format({'% невозврата':'{:.2%}'}))"
   ]
  },
  {
   "cell_type": "markdown",
   "metadata": {},
   "source": [
    "### Вывод"
   ]
  },
  {
   "cell_type": "markdown",
   "metadata": {},
   "source": [
    "Чаще всего возвращают кредиты люди в разводе. Реже остальных не женатые или не замужние клиенты. Клиенты, которые пошли на такой ответственный шаг как замужество и женитьба, более ответственно относятся и к возврату кредита."
   ]
  },
  {
   "cell_type": "markdown",
   "metadata": {},
   "source": [
    "### - Есть ли зависимость между уровнем дохода и возвратом кредита в срок? <a class=\"anchor\" id=\"eleventh\">"
   ]
  },
  {
   "cell_type": "markdown",
   "metadata": {},
   "source": [
    "Вычислим зависимость между уровнем дохода и возвратом кредита в срок, для этого поделим сумму задолженностей по возврату кредитов на общее количество кредитов сгруппированных по столбцу 'total_income'"
   ]
  },
  {
   "cell_type": "code",
   "execution_count": null,
   "metadata": {},
   "outputs": [],
   "source": [
    "income_debt = clients.pivot_table(index = ['income_category'], values = 'debt', aggfunc = ['mean', sum, 'count'])\n",
    "income_debt.columns = ['% невозврата', 'Кол-во должников', 'Кол-во заемщиков']\n",
    "display(income_debt.style.format({'% невозврата':'{:.2%}'}))"
   ]
  },
  {
   "cell_type": "markdown",
   "metadata": {},
   "source": [
    "### Вывод"
   ]
  },
  {
   "cell_type": "markdown",
   "metadata": {},
   "source": [
    "Клиенты с высоким уровнем дохода чаще возвращают кредит."
   ]
  },
  {
   "cell_type": "markdown",
   "metadata": {},
   "source": [
    "### - Как разные цели кредита влияют на его возврат в срок? <a class=\"anchor\" id=\"twelfth\">"
   ]
  },
  {
   "cell_type": "markdown",
   "metadata": {},
   "source": [
    "Вычислим зависимость между различными целями кредита и возвратом кредита в срок, для этого поделим сумму задолженностей по возврату кредитов на общее количество кредитов сгруппированных по столбцу 'purpose_category'"
   ]
  },
  {
   "cell_type": "code",
   "execution_count": null,
   "metadata": {
    "scrolled": true
   },
   "outputs": [],
   "source": [
    "purpose_debt = clients.pivot_table(index = ['purpose_category'], values = 'debt', aggfunc = ['mean', sum, 'count'])\n",
    "purpose_debt.columns = ['% невозврата', 'Кол-во должников', 'Кол-во заемщиков']\n",
    "display(purpose_debt.style.format({'% невозврата':'{:.2%}'}))"
   ]
  },
  {
   "cell_type": "markdown",
   "metadata": {},
   "source": [
    "### Вывод"
   ]
  },
  {
   "cell_type": "markdown",
   "metadata": {},
   "source": [
    "Кредит на покупку недвижимости возвращается чаще всего, а вот на покупку автомобиля или образования реже всего."
   ]
  },
  {
   "cell_type": "markdown",
   "metadata": {},
   "source": [
    "Зависимость возврата кредита в срок от наличия детей и семейного положения вычислим используя метод .pivot_table()"
   ]
  },
  {
   "cell_type": "code",
   "execution_count": null,
   "metadata": {},
   "outputs": [],
   "source": [
    "family_children = clients.pivot_table(index = ['family_status', 'children'], values = 'debt', aggfunc = ['mean', sum, 'count'])\n",
    "family_children.columns = ['% невозврата', 'Кол-во должников', 'Кол-во заемщиков']\n",
    "display(family_children.style.format({'% невозврата':'{:.2%}'}))"
   ]
  },
  {
   "cell_type": "markdown",
   "metadata": {},
   "source": [
    "## Шаг 4. Общий вывод <a class=\"anchor\" id=\"thirteenth\">"
   ]
  },
  {
   "cell_type": "markdown",
   "metadata": {},
   "source": [
    "Краткий обзор проведенной работы.\n",
    "\n",
    "Для исследования надежности заемщиков мы открыли файл Заказчика и изучили информацию. Статистика о платежеспособности клиентов состоит из таблицы в 12 столбцов и 21 525 строк. Обнаружили артефакты в виде отрицательного трудового стажа, трудового стажа более 1 000 лет и нулевого возраста.\n",
    "\n",
    "Отработали пропущенные значения в трудовом стаже и в ежемесячном доходе в количестве 2 174, заменив их средним значением.\n",
    "\n",
    "Изменили тип данных значений в столбцах общий трудовой стаж, возраст клиента в годах и ежемесячный доход на целочисленный.\n",
    "\n",
    "Обнаружили дубликаты значений в столбцах количество детей в семье, пол клиента, образование и семейное положение и избавились от них в столбцах.\n",
    "\n",
    "Используя лемматизации мы разбили цели получения кредита на категории: \n",
    "1. Недвижимость;\n",
    "2. Автомобиль;\n",
    "3. Образование;\n",
    "4. Свадьба.\n",
    "\n",
    "Разбили уровень дохода на категории:\n",
    "1. Первая категория имеет доход от 20667 до 107516 включительно;\n",
    "2. Вторая категория имеет доход от 107516 до 143708 включительно;\n",
    "3. Третья категория имеет доход от 143708 до 198307 включительно;\n",
    "4. Четвертая категория имеет доход от 198307 до 2265604 включительно.\n",
    "\n",
    "Установили зависимость между возвратом кредита в срок и между:\n",
    "- наличием детей;\n",
    "- уровнем дохода;\n",
    "- семейным положением;\n",
    "- целью кредита.\n",
    "\n",
    "Главные выводы:\n",
    "\n",
    "Семейное положение и количество детей клиента влияет на факт погашения кредита в срок.\n",
    "\n",
    "Самые рискованные группы:\n",
    "1. Не женатые/не замужние клиенты;\n",
    "2. Клиенты в гражданском браке с детьми.\n",
    "\n",
    "Наименее рискованные группы - это клиенты без детей.\n",
    "\n",
    "Рекомендации. \n",
    "\n",
    "Для прогнозирования советуем отобрать следующие признаки:\n",
    "1. Полеты за границу за последний 12 месяцев;\n",
    "2. Наличие / отсутствие автомобиля;\n",
    "3. Наличие / отсутствие недвижимости.\n",
    "\n",
    "Во избежание появления дубликатов предлагаем разработать скрипт, который разбивал бы введеные значения по категориям, либо добавить возможность выбирать значения из списка.\n",
    "\n",
    "Для избежания появления пропущенных значений предлагаем привести поля к единому формату."
   ]
  },
  {
   "cell_type": "markdown",
   "metadata": {},
   "source": [
    "### Чек-лист готовности проекта"
   ]
  },
  {
   "cell_type": "markdown",
   "metadata": {},
   "source": [
    "- [x]  открыт файл;\n",
    "- [x]  файл изучен;\n",
    "- [x]  определены пропущенные значения;\n",
    "- [x]  заполнены пропущенные значения;\n",
    "- [x]  есть пояснение, какие пропущенные значения обнаружены;\n",
    "- [x]  описаны возможные причины появления пропусков в данных;\n",
    "- [x]  объяснено, по какому принципу заполнены пропуски;\n",
    "- [x]  заменен вещественный тип данных на целочисленный;\n",
    "- [x]  есть пояснение, какой метод используется для изменения типа данных и почему;\n",
    "- [x]  удалены дубликаты;\n",
    "- [x]  есть пояснение, какой метод используется для поиска и удаления дубликатов;\n",
    "- [x]  описаны возможные причины появления дубликатов в данных;\n",
    "- [x]  выделены леммы в значениях столбца с целями получения кредита;\n",
    "- [x]  описан процесс лемматизации;\n",
    "- [x]  данные категоризированы;\n",
    "- [x]  есть объяснение принципа категоризации данных;\n",
    "- [x]  есть ответ на вопрос: \"Есть ли зависимость между наличием детей и возвратом кредита в срок?\";\n",
    "- [x]  есть ответ на вопрос: \"Есть ли зависимость между семейным положением и возвратом кредита в срок?\";\n",
    "- [x]  есть ответ на вопрос: \"Есть ли зависимость между уровнем дохода и возвратом кредита в срок?\";\n",
    "- [x]  есть ответ на вопрос: \"Как разные цели кредита влияют на его возврат в срок?\";\n",
    "- [x]  в каждом этапе есть выводы;\n",
    "- [x]  есть общий вывод."
   ]
  }
 ],
 "metadata": {
  "kernelspec": {
   "display_name": "Python 3",
   "language": "python",
   "name": "python3"
  },
  "language_info": {
   "codemirror_mode": {
    "name": "ipython",
    "version": 3
   },
   "file_extension": ".py",
   "mimetype": "text/x-python",
   "name": "python",
   "nbconvert_exporter": "python",
   "pygments_lexer": "ipython3",
   "version": "3.8.5"
  }
 },
 "nbformat": 4,
 "nbformat_minor": 2
}
