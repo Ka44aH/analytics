{
 "cells": [
  {
   "cell_type": "markdown",
   "metadata": {},
   "source": [
    "# Определение перспективного тарифа для телеком компании\n",
    "\n",
    "---"
   ]
  },
  {
   "cell_type": "markdown",
   "metadata": {},
   "source": [
    "## Описание проекта"
   ]
  },
  {
   "cell_type": "markdown",
   "metadata": {},
   "source": [
    "Вы аналитик компании «Мегалайн» — федерального оператора сотовой связи. Клиентам предлагают два тарифных плана:<br>\n",
    "\n",
    "«Смарт» и «Ультра». Чтобы скорректировать рекламный бюджет, коммерческий департамент хочет понять, какой тариф приносит больше денег.<br>\n",
    "\n",
    "Вам предстоит сделать предварительный анализ тарифов на небольшой выборке клиентов. <br>\n",
    "\n",
    "В вашем распоряжении данные 500 пользователей «Мегалайна»: кто они, откуда, каким тарифом пользуются, сколько звонков и сообщений каждый отправил за 2018 год. Нужно проанализировать поведение клиентов и сделать вывод — какой тариф лучше.\n",
    "\n",
    "---"
   ]
  },
  {
   "cell_type": "markdown",
   "metadata": {},
   "source": [
    "## Описание тарифов"
   ]
  },
  {
   "cell_type": "markdown",
   "metadata": {},
   "source": [
    "### Тариф «Смарт»\n",
    "---\n",
    "1. Ежемесячная плата: 550 рублей<br>\n",
    "2. Включено 500 минут разговора, 50 сообщений и 15 Гб интернет-трафика<br>\n",
    "3. Стоимость услуг сверх тарифного пакета:<br>\n",
    "---\n",
    "- минута разговора: 3 рубля<br>\n",
    "- сообщение: 3 рубля<br>\n",
    "- 1 Гб интернет-трафика: 200 рублей<br>\n",
    "---"
   ]
  },
  {
   "cell_type": "markdown",
   "metadata": {},
   "source": [
    "### Тариф «Ультра»\n",
    "---\n",
    "1. Ежемесячная плата: 1950 рублей<br>\n",
    "2. Включено 3000 минут разговора, 1000 сообщений и 30 Гб интернет-трафика<br>\n",
    "3. Стоимость услуг сверх тарифного пакета:<br>\n",
    "---\n",
    "- минута разговора: 1 рубль<br>\n",
    "- сообщение: 1 рубль<br>\n",
    "- 1 Гб интернет-трафика: 150 рублей<br>\n",
    "---"
   ]
  },
  {
   "cell_type": "markdown",
   "metadata": {},
   "source": [
    "### Дополнительная информация\n",
    "\n",
    "«Мегалайн» **всегда округляет вверх** значения минут и мегабайтов. Если пользователь проговорил всего **1 секунду**, в тарифе засчитывается **целая минута**."
   ]
  },
  {
   "cell_type": "markdown",
   "metadata": {},
   "source": [
    "## Описание данных\n",
    "---"
   ]
  },
  {
   "cell_type": "markdown",
   "metadata": {},
   "source": [
    "Таблица `users` (информация о пользователях):\n",
    "\n",
    "**user_id** — уникальный идентификатор пользователя<br>\n",
    "**first_name** — имя пользователя<br>\n",
    "**last_name** — фамилия пользователя<br>\n",
    "**age** — возраст пользователя (годы)<br>\n",
    "**reg_date** — дата подключения тарифа (день, месяц, год)<br>\n",
    "**churn_date** — дата прекращения пользования тарифом (если значение пропущено, то тариф ещё действовал на момент выгрузки данных)<br>\n",
    "**city** — город проживания пользователя<br>\n",
    "**tariff** — название тарифного плана<br>\n",
    "\n",
    "---\n",
    "\n",
    "Таблица `calls` (информация о звонках):<br>\n",
    "\n",
    "**id** — уникальный номер звонка<br>\n",
    "**call_date** — дата звонка<br>\n",
    "**duration** — длительность звонка в минутах<br>\n",
    "**user_id** — идентификатор пользователя, сделавшего звонок<br>\n",
    "\n",
    "---\n",
    "\n",
    "Таблица `messages` (информация о сообщениях):<br>\n",
    "\n",
    "**id** — уникальный номер сообщения<br>\n",
    "**message_date** — дата сообщения<br>\n",
    "**user_id** — идентификатор пользователя, отправившего сообщение<br>\n",
    "\n",
    "---\n",
    "\n",
    "Таблица `internet` (информация об интернет-сессиях):<br>\n",
    "\n",
    "**id** — уникальный номер сессии<br>\n",
    "**mb_used** — объём потраченного за сессию интернет-трафика (в мегабайтах)<br>\n",
    "**session_date** — дата интернет-сессии<br>\n",
    "**user_id** — идентификатор пользователя<br>\n",
    "\n",
    "---\n",
    "\n",
    "Таблица `tariffs` (информация о тарифах):<br>\n",
    "\n",
    "**tariff_name** — название тарифа<br>\n",
    "**rub_monthly_fee** — ежемесячная абонентская плата в рублях<br>\n",
    "**minutes_included** — количество минут разговора в месяц, включённых в абонентскую плату<br>\n",
    "**messages_included** — количество сообщений в месяц, включённых в абонентскую плату<br>\n",
    "**mb_per_month_included** — объём интернет-трафика, включённого в абонентскую плату (в мегабайтах)<br>\n",
    "**rub_per_minute** — стоимость минуты разговора сверх тарифного пакета (например, если в тарифе 100 минут разговора в месяц, то со 101 минуты будет взиматься плата)<br>\n",
    "**rub_per_message** — стоимость отправки сообщения сверх тарифного пакета<br>\n",
    "**rub_per_gb** — стоимость дополнительного гигабайта интернет-трафика сверх тарифного пакета (1 гигабайт = 1024 мегабайта)<br>\n",
    "\n",
    "---"
   ]
  },
  {
   "cell_type": "markdown",
   "metadata": {},
   "source": [
    "## Оглавление"
   ]
  },
  {
   "cell_type": "markdown",
   "metadata": {},
   "source": [
    "* [1. Открываем файлы с данными и изучаем общую информацию.](#one)\n",
    "* [2. Предобработка данных.](#two)\n",
    "* [3. Добавляем новые столбцы.](#three)\n",
    "* [4. Анализ данных.](#four)\n",
    "* [5. Проверка гипотез.](#five)\n",
    "* [Cредняя выручка пользователей тарифов «Ультра» и «Смарт» различается.](#six)\n",
    "* [Средняя выручка пользователей из Москвы отличается от выручки пользователей из других регионов.](#seven)\n",
    "* [6. Общие выводы.](#eight)\n",
    "\n",
    "---"
   ]
  },
  {
   "cell_type": "markdown",
   "metadata": {},
   "source": [
    "## Шаг 1. Открываем файлы с данными и изучаем общую информацию. <a class=\"anchor\" id=\"one\"></a>"
   ]
  },
  {
   "cell_type": "markdown",
   "metadata": {},
   "source": [
    "Откроем файлы с данными. Посмотрим на первые тридцать строк методом `head()`, последние тридцать строк методом `tail()` и изучим столбцы методом `info()`"
   ]
  },
  {
   "cell_type": "markdown",
   "metadata": {},
   "source": [
    "Импортируем необходимые для проекта библиотеки"
   ]
  },
  {
   "cell_type": "code",
   "execution_count": null,
   "metadata": {},
   "outputs": [],
   "source": [
    "import pandas as pd\n",
    "from IPython.display import display\n",
    "import warnings\n",
    "warnings.filterwarnings('ignore')\n",
    "import matplotlib.pyplot as plt\n",
    "from scipy import stats as st"
   ]
  },
  {
   "cell_type": "code",
   "execution_count": null,
   "metadata": {},
   "outputs": [],
   "source": [
    "# Откроем файлы\n",
    "\n",
    "tariffs = pd.read_csv('datasets/3_tariffs.csv')\n",
    "users = pd.read_csv('datasets/3_users.csv')\n",
    "calls = pd.read_csv('datasets/3_calls.csv')\n",
    "internet = pd.read_csv('datasets/3_internet.csv')\n",
    "messages = pd.read_csv('datasets/3_messages.csv')"
   ]
  },
  {
   "cell_type": "code",
   "execution_count": null,
   "metadata": {
    "scrolled": false
   },
   "outputs": [],
   "source": [
    "def info_data(data):\n",
    "    display(data.head(30))\n",
    "    display(data.tail(30))\n",
    "    data.info()\n",
    "    print('\\n')\n",
    "\n",
    "print('Информация о тарифах')\n",
    "info_data(tariffs)\n",
    "print('Информация о пользователях')\n",
    "info_data(users)\n",
    "print('Информация о звонках')\n",
    "info_data(calls)\n",
    "print('Информация об интернет-сессиях')\n",
    "info_data(internet)\n",
    "print('Информация о сообщениях')\n",
    "info_data(messages)"
   ]
  },
  {
   "cell_type": "markdown",
   "metadata": {},
   "source": [
    "---\n",
    "\n",
    "### Выводы"
   ]
  },
  {
   "cell_type": "markdown",
   "metadata": {},
   "source": [
    "Прочитали данные из пяти таблиц:\n",
    "\n",
    "**Тарифы:**\n",
    "\n",
    "Смарт - недорогой тариф, при этом цена за услуги сверх тарифа дороже, чем в тарифе Ультра.\n",
    "\n",
    "**Пользователи:**\n",
    "\n",
    "Информация о 500 пользователях представлена в 8 столбцах.\n",
    "Столбец `churn_date` преимущественно пуст.\n",
    "`churn_date` и `reg_date` в будущем переведем в *datetime*.\n",
    "\n",
    "**Звонки:**\n",
    "\n",
    "В столбце `duration` много нулевых значений.\n",
    "Столбец `call_date` переведем в datetime.\n",
    "\n",
    "**Интернет сессии:**\n",
    "\n",
    "Столбец `session_date` переведем в datetime.\n",
    "Столбец `Unnamed: 0` ворвался из ниоткуда, в описании от Заказчика его не было. Поэтому дропнем его.\n",
    "\n",
    "**Сообщения:**\n",
    "\n",
    "Столбец `message_date` переведем в datetime.\n",
    "\n",
    "Пропущенных значений всего 464, это вообще законно?\n",
    "\n",
    "---"
   ]
  },
  {
   "cell_type": "markdown",
   "metadata": {},
   "source": [
    "## Шаг 2. Предобработка данных. <a class=\"anchor\" id=\"two\"></a>"
   ]
  },
  {
   "cell_type": "markdown",
   "metadata": {},
   "source": [
    "Проверим наличие дубликатов в наших таблицах:"
   ]
  },
  {
   "cell_type": "code",
   "execution_count": null,
   "metadata": {},
   "outputs": [],
   "source": [
    "for data in [tariffs, users, calls, internet, messages]:\n",
    "    print(data.duplicated().sum())"
   ]
  },
  {
   "cell_type": "markdown",
   "metadata": {},
   "source": [
    "Дубликатов не обнаружено. Удалим ненужный столбец в таблице Интернет сессии."
   ]
  },
  {
   "cell_type": "code",
   "execution_count": null,
   "metadata": {},
   "outputs": [],
   "source": [
    "internet = internet.drop('Unnamed: 0', axis=1)"
   ]
  },
  {
   "cell_type": "markdown",
   "metadata": {},
   "source": [
    "В столбце `churn_date` множество пропущенных значений, которые говорят о том прекратил ли клиент пользоваться тарифом или нет, эту информацию в дальнейшем мы не будем использовать."
   ]
  },
  {
   "cell_type": "markdown",
   "metadata": {},
   "source": [
    "Переведем в datetime столбцы 'reg_date', 'call_date', 'session_date', 'message_date', год нигде меняться не будет, а в дальнейших расчетах мы будем использовать только месяц. Поэтому оставим только месяц, и для дальнейших объединений переименуем его в `month`."
   ]
  },
  {
   "cell_type": "code",
   "execution_count": null,
   "metadata": {},
   "outputs": [],
   "source": [
    "# Произведем преобразования в таблице users\n",
    "users['reg_date'] = pd.to_datetime(users['reg_date'], format='%Y-%m-%d')\n",
    "users['reg_date'] = users['reg_date'].dt.month\n",
    "users = users.rename(columns={'reg_date':'month'})\n",
    "print('users')\n",
    "display(users)\n",
    "\n",
    "# Произведем преобразования в таблице calls\n",
    "calls['call_date'] = pd.to_datetime(calls['call_date'], format='%Y-%m-%d')\n",
    "calls['call_date'] = calls['call_date'].dt.month\n",
    "calls = calls.rename(columns={'call_date':'month'})\n",
    "print('calls')\n",
    "display(calls)\n",
    "\n",
    "# Произведем преобразования в таблице messages\n",
    "messages['message_date'] = pd.to_datetime(messages['message_date'], format='%Y-%m-%d')\n",
    "messages['message_date'] = messages['message_date'].dt.month\n",
    "messages = messages.rename(columns={'message_date':'month'})\n",
    "print('messages')\n",
    "display(messages)\n",
    "\n",
    "# Произведем преобразования в таблице internet\n",
    "internet['session_date'] = pd.to_datetime(internet['session_date'], format='%Y-%m-%d')\n",
    "internet['session_date'] = internet['session_date'].dt.month\n",
    "internet = internet.rename(columns={'session_date':'month'})\n",
    "print('internet')\n",
    "display(internet)"
   ]
  },
  {
   "cell_type": "markdown",
   "metadata": {},
   "source": [
    "Посмотрим на каждый столбец таблицы users"
   ]
  },
  {
   "cell_type": "code",
   "execution_count": null,
   "metadata": {},
   "outputs": [],
   "source": [
    "def view_data(data):\n",
    "    for column in data.columns:\n",
    "        print(column, '\\n')\n",
    "        print(data[column].describe(), '\\n')\n",
    "\n",
    "view_data(users)"
   ]
  },
  {
   "cell_type": "markdown",
   "metadata": {},
   "source": [
    "В дальнейшим мы будем работать с городами, поэтому надо убедиться, что нет дублей."
   ]
  },
  {
   "cell_type": "code",
   "execution_count": null,
   "metadata": {},
   "outputs": [],
   "source": [
    "users['city'].unique()"
   ]
  },
  {
   "cell_type": "markdown",
   "metadata": {},
   "source": [
    "Дубли не обнаружены."
   ]
  },
  {
   "cell_type": "markdown",
   "metadata": {},
   "source": [
    "Посмотрим на каждый столбец датасета `calls`"
   ]
  },
  {
   "cell_type": "code",
   "execution_count": null,
   "metadata": {},
   "outputs": [],
   "source": [
    "view_data(calls)"
   ]
  },
  {
   "cell_type": "markdown",
   "metadata": {},
   "source": [
    "Посчитаем количество пропущенных значений в столбце `duration`"
   ]
  },
  {
   "cell_type": "code",
   "execution_count": null,
   "metadata": {},
   "outputs": [],
   "source": [
    "calls.query('duration == 0').count()"
   ]
  },
  {
   "cell_type": "markdown",
   "metadata": {},
   "source": [
    "39613 строк! Это много, при этом они не приносят денег и только будут портить всю статистику, поэтому их удалим."
   ]
  },
  {
   "cell_type": "code",
   "execution_count": null,
   "metadata": {},
   "outputs": [],
   "source": [
    "calls = calls.query('duration != 0')"
   ]
  },
  {
   "cell_type": "markdown",
   "metadata": {},
   "source": [
    "Как мы помним провайдер округляет минуты в большую сторону, выполним это арифметическое действие"
   ]
  },
  {
   "cell_type": "code",
   "execution_count": null,
   "metadata": {},
   "outputs": [],
   "source": [
    "import numpy as np"
   ]
  },
  {
   "cell_type": "code",
   "execution_count": null,
   "metadata": {},
   "outputs": [],
   "source": [
    "def ceil_row(row):\n",
    "    row = np.ceil(row)\n",
    "    return int(row)\n",
    "calls['duration'] = calls['duration'].apply(ceil_row)\n",
    "calls_need = calls[['user_id', 'month', 'duration']]"
   ]
  },
  {
   "cell_type": "markdown",
   "metadata": {},
   "source": [
    "Посмотрим на каждый столбец датасета `internet`"
   ]
  },
  {
   "cell_type": "code",
   "execution_count": null,
   "metadata": {},
   "outputs": [],
   "source": [
    "view_data(internet)"
   ]
  },
  {
   "cell_type": "markdown",
   "metadata": {},
   "source": [
    "Вновь столкнулись с нулевыми значениями, правда уже в столбце `mb_used`. Мы ведь понимаем, что денег за такие сессии провайдер не получит, поэтому избавимся от них."
   ]
  },
  {
   "cell_type": "code",
   "execution_count": null,
   "metadata": {},
   "outputs": [],
   "source": [
    "print(internet.query('mb_used == 0').count())\n",
    "internet = internet.query('mb_used != 0')"
   ]
  },
  {
   "cell_type": "markdown",
   "metadata": {},
   "source": [
    "Округлим в большую сторону мегабайты"
   ]
  },
  {
   "cell_type": "code",
   "execution_count": null,
   "metadata": {},
   "outputs": [],
   "source": [
    "internet['mb_used'] = internet['mb_used'].apply(ceil_row)\n",
    "internet"
   ]
  },
  {
   "cell_type": "markdown",
   "metadata": {},
   "source": [
    "Посмотрим на каждый столбец датасета `messages`"
   ]
  },
  {
   "cell_type": "code",
   "execution_count": null,
   "metadata": {},
   "outputs": [],
   "source": [
    "view_data(messages)"
   ]
  },
  {
   "cell_type": "markdown",
   "metadata": {},
   "source": [
    "Для удобства в дальнейших вычислениях сделаем сводную таблицу по интересующим нас столбцам"
   ]
  },
  {
   "cell_type": "code",
   "execution_count": null,
   "metadata": {},
   "outputs": [],
   "source": [
    "# в дальнейшем из таблицы users нам понадобятся только столбцы `user_id`, `city`, `tariff`\n",
    "megaline = users[['user_id', 'city', 'tariff']]\n",
    "\n",
    "# Добавим категорию городов Москва и Регион\n",
    "def city_kind(data):\n",
    "    row = data['city']\n",
    "    if row == 'Москва':\n",
    "        return 'Москва'\n",
    "    return 'Регион'\n",
    "\n",
    "# Добавим категорию в датасет и исключим city\n",
    "megaline['city_kind'] = megaline.apply(city_kind, axis=1)\n",
    "megaline = megaline.drop('city', axis=1)\n",
    "\n",
    "megaline"
   ]
  },
  {
   "cell_type": "markdown",
   "metadata": {},
   "source": [
    "Для удобства объединения таблиц в будущем переименуем `tariff_name` в `tariff`"
   ]
  },
  {
   "cell_type": "code",
   "execution_count": null,
   "metadata": {},
   "outputs": [],
   "source": [
    "tariffs = tariffs.rename(columns={'tariff_name':'tariff'})"
   ]
  },
  {
   "cell_type": "markdown",
   "metadata": {},
   "source": [
    "### Выводы\n",
    "\n",
    "В запланированных столбцах изменили данные на `datetime` и затем преобразовали их в месяц.\n",
    "\n",
    "В датасете `calls` удалили звонки, которые длились 0 минут 0 секунд.\n",
    "\n",
    "В датасете `internet` удалили строки с трафиком 0 мбайт.\n",
    "\n",
    "В стобце `duration` и `mb_used` округлили значения, чтобы считать в соответствии с тарифными планами оператора.\n",
    "\n",
    "Создали датасет `megaline`, в котором выделили нужные столбцы из датасета `users`.\n",
    "\n",
    "Города в новом датасете разделили на две категории `Москва` и `Регион`.\n",
    "\n",
    "В дальнейшей работе новые столбцы будем добавлять в новый датасет."
   ]
  },
  {
   "cell_type": "markdown",
   "metadata": {},
   "source": [
    "\n",
    "---\n"
   ]
  },
  {
   "cell_type": "markdown",
   "metadata": {},
   "source": [
    "## Шаг 3. Добавляем новые столбцы. <a class=\"anchor\" id=\"three\"></a>"
   ]
  },
  {
   "cell_type": "markdown",
   "metadata": {},
   "source": [
    "Количество сделанных звонков и израсходованных минут разговора по месяцам"
   ]
  },
  {
   "cell_type": "code",
   "execution_count": null,
   "metadata": {},
   "outputs": [],
   "source": [
    "calls_need = calls_need.sort_values(by=['user_id', 'month']).groupby(['user_id', 'month']).agg({'duration':['count', 'sum']})\n",
    "calls_need.columns = ['calls_count', 'calls_sum']\n",
    "calls_need"
   ]
  },
  {
   "cell_type": "markdown",
   "metadata": {},
   "source": [
    "Количество отправленных сообщений по месяцам"
   ]
  },
  {
   "cell_type": "code",
   "execution_count": null,
   "metadata": {},
   "outputs": [],
   "source": [
    "messages_need = messages.sort_values(by=['user_id', 'month']).groupby(['user_id', 'month']).agg({'id':'count'})\n",
    "messages_need.columns = ['messages_count']\n",
    "messages_need"
   ]
  },
  {
   "cell_type": "markdown",
   "metadata": {},
   "source": [
    "Объем израсходованного интернет-трафика по месяцам"
   ]
  },
  {
   "cell_type": "code",
   "execution_count": null,
   "metadata": {},
   "outputs": [],
   "source": [
    "internet_need = internet.sort_values(by=['user_id', 'month']).groupby(['user_id', 'month']).agg({'mb_used':'sum'})\n",
    "internet_need.columns = ['mb_sum']\n",
    "internet_need"
   ]
  },
  {
   "cell_type": "markdown",
   "metadata": {},
   "source": [
    "Помесячную выручку с каждого пользователя (вычтите бесплатный лимит из суммарного количества звонков, сообщений и интернет-трафика; остаток умножьте на значение из тарифного плана; прибавьте абонентскую плату, соответствующую тарифному плану)."
   ]
  },
  {
   "cell_type": "markdown",
   "metadata": {},
   "source": [
    "Объединим интересующие нас таблицы"
   ]
  },
  {
   "cell_type": "code",
   "execution_count": null,
   "metadata": {},
   "outputs": [],
   "source": [
    "megaline_use = calls_need.merge(messages_need, on=['user_id', 'month'], how='outer')\n",
    "megaline_use = megaline_use.merge(internet_need, on=['user_id', 'month'], how='outer')\n",
    "megaline = megaline_use.reset_index().merge(megaline, on=['user_id'], how='left')\n",
    "megaline = megaline.sort_values(by=['user_id', 'month'])\n",
    "megaline = megaline.merge(tariffs, on='tariff', how='left')"
   ]
  },
  {
   "cell_type": "code",
   "execution_count": null,
   "metadata": {},
   "outputs": [],
   "source": [
    "megaline"
   ]
  },
  {
   "cell_type": "code",
   "execution_count": null,
   "metadata": {},
   "outputs": [],
   "source": [
    "f'Количество пользователей: {megaline.user_id.nunique()}'"
   ]
  },
  {
   "cell_type": "markdown",
   "metadata": {},
   "source": [
    "У нас получились пропущенные значение в результате слияние. В данных таблицах не могли оказаться случайные пропущенные значения и в нашем случае это говорит о том, что пользователь не использовал услугу. Поэтому заменим пропущенные значения на нули."
   ]
  },
  {
   "cell_type": "code",
   "execution_count": null,
   "metadata": {},
   "outputs": [],
   "source": [
    "megaline = megaline.fillna(0)"
   ]
  },
  {
   "cell_type": "code",
   "execution_count": null,
   "metadata": {},
   "outputs": [],
   "source": [
    "megaline.info()"
   ]
  },
  {
   "cell_type": "markdown",
   "metadata": {},
   "source": [
    "Напишем функцию, которая принимает датасет и вычисляет выручку."
   ]
  },
  {
   "cell_type": "code",
   "execution_count": null,
   "metadata": {},
   "outputs": [],
   "source": [
    "def proceeds(data):\n",
    "    proceeds = data['rub_monthly_fee']\n",
    "    if data['calls_sum'] > data['minutes_included']:\n",
    "        proceeds += (data['calls_sum'] - data['minutes_included']) * data['rub_per_minute']\n",
    "    if data['messages_count'] > data['messages_included']:\n",
    "        proceeds += (data['messages_count'] - data['messages_included']) * data['rub_per_message']\n",
    "    if data['mb_sum'] > data['mb_per_month_included']:\n",
    "        proceeds += np.ceil(((data['mb_sum'] - data['mb_per_month_included']) / 1024)) * data['rub_per_gb']\n",
    "    return proceeds"
   ]
  },
  {
   "cell_type": "markdown",
   "metadata": {},
   "source": [
    "Добавим новый столбец `proceeds` с выручкой по каждому пользователю в каждый месяц"
   ]
  },
  {
   "cell_type": "code",
   "execution_count": null,
   "metadata": {},
   "outputs": [],
   "source": [
    "megaline['proceeds'] = megaline.apply(proceeds, axis=1)"
   ]
  },
  {
   "cell_type": "markdown",
   "metadata": {},
   "source": [
    "Из нашего датасета удалим столбцы с информацией о тарифах, которые в дальнейшем не будем использовать."
   ]
  },
  {
   "cell_type": "code",
   "execution_count": null,
   "metadata": {},
   "outputs": [],
   "source": [
    "megaline = megaline.drop(['messages_included', 'mb_per_month_included', 'minutes_included', 'rub_monthly_fee',\\\n",
    "                          'rub_per_gb', 'rub_per_message', 'rub_per_minute'], axis=1)"
   ]
  },
  {
   "cell_type": "code",
   "execution_count": null,
   "metadata": {},
   "outputs": [],
   "source": [
    "megaline"
   ]
  },
  {
   "cell_type": "markdown",
   "metadata": {},
   "source": [
    "### Выводы"
   ]
  },
  {
   "cell_type": "markdown",
   "metadata": {},
   "source": [
    "В итоговую таблицу `megaline` вычислили и добавили для каждого пользователя по месяцам следующие значения: \n",
    "\n",
    "* `calls_count` - количество сделанных звонков\n",
    "* `calls_sum` - количество израсходованных минут разговора\n",
    "* `messages_count` - количество отправленных сообщений\n",
    "* `mb_sum` - объем израсходованного интернет-трафика\n",
    "* `proceeds` - выручку"
   ]
  },
  {
   "cell_type": "markdown",
   "metadata": {},
   "source": [
    "\n",
    "---\n"
   ]
  },
  {
   "cell_type": "markdown",
   "metadata": {},
   "source": [
    "## Шаг 4. Анализ данных. <a class=\"anchor\" id=\"four\"></a>"
   ]
  },
  {
   "cell_type": "markdown",
   "metadata": {},
   "source": [
    "Для параметров `calls_sum`, `messages_count` и `mb_sum` посчитаем среднее значение и стандартное отклонение. Дисперсия это квадрат стандартного отклонения, поэтому отдельно его считать не будем."
   ]
  },
  {
   "cell_type": "code",
   "execution_count": null,
   "metadata": {
    "scrolled": true
   },
   "outputs": [],
   "source": [
    "report = megaline.pivot_table(index = ['user_id', 'month'],\n",
    "                             values = ['calls_sum', 'messages_count', 'mb_sum', 'proceeds'],\n",
    "                             columns = ['tariff'])\n",
    "\n",
    "# swaplevel(0, 1, axis=1).sort_index(axis=1) задает правильный порядок названий в столбцах\n",
    "\n",
    "report2 = report.describe().swaplevel(0, 1, axis=1).sort_index(axis=1)\n",
    "report2.loc[['mean', 'std']].T"
   ]
  },
  {
   "cell_type": "code",
   "execution_count": null,
   "metadata": {},
   "outputs": [],
   "source": [
    "report2.info()"
   ]
  },
  {
   "cell_type": "markdown",
   "metadata": {},
   "source": [
    "В цикле выведем графики распределения `calls_sum`, `messages_count` и `mb_sum` для каждого тарифа."
   ]
  },
  {
   "cell_type": "code",
   "execution_count": null,
   "metadata": {},
   "outputs": [],
   "source": [
    "for element in ['calls_sum', 'messages_count', 'mb_sum']:\n",
    "    for tariff_name in megaline['tariff'].unique():\n",
    "        (megaline.query('tariff == @tariff_name')[element].hist(bins=10, alpha = 0.5, label = tariff_name))\n",
    "    plt.title(element)\n",
    "    plt.legend()\n",
    "    plt.show()"
   ]
  },
  {
   "cell_type": "markdown",
   "metadata": {},
   "source": [
    "### Выводы"
   ]
  },
  {
   "cell_type": "markdown",
   "metadata": {},
   "source": [
    "Для значений `calls_sum`, `messages_count` и `mb_sum` по каждому тарифу посчитали:\n",
    "\n",
    "* Среднее значение\n",
    "* Стандартное отклонение\n",
    "\n",
    "Средние значение в тарифе `ultra`, больше средних в `smart`.\n",
    "Стандартное отклонение в `ultra` также больше, что говорит о больших расбросах, которые мы увидили на графиках.\n",
    "\n",
    "Кол-во сообщений в тарифах распределены геометрически.\n",
    "\n",
    "Графики кол-во израсходованных минут разговора и объем израсходованного интернет-трафика по тарифам соответствуют распределению Пуассона.\n",
    "\n",
    "По площадям графиков видно, что тариф `smart` более популярный."
   ]
  },
  {
   "cell_type": "markdown",
   "metadata": {},
   "source": [
    "\n",
    "---\n"
   ]
  },
  {
   "cell_type": "markdown",
   "metadata": {},
   "source": [
    "## Шаг 5. Проверка гипотез <a class=\"anchor\" id=\"five\"></a>"
   ]
  },
  {
   "cell_type": "markdown",
   "metadata": {},
   "source": [
    "### Cредняя выручка пользователей тарифов «Ультра» и «Смарт» различается. <a class=\"anchor\" id=\"six\"></a>"
   ]
  },
  {
   "cell_type": "markdown",
   "metadata": {},
   "source": [
    "Сформируем нулевую гипотезу - средняя выручка пользователей тарифов «Ультра» и «Смарт» одинакова.\n",
    "Альтернативная гипотеза - выручки не равны.\n",
    "Показатель alpha примем равным 0.05."
   ]
  },
  {
   "cell_type": "markdown",
   "metadata": {},
   "source": [
    "Построим гистограмму распределения выручки по каждому тарифу:"
   ]
  },
  {
   "cell_type": "code",
   "execution_count": null,
   "metadata": {},
   "outputs": [],
   "source": [
    "for tariff_name in megaline['tariff'].unique():\n",
    "    (megaline.query('tariff == @tariff_name')['proceeds'].hist(bins=10, alpha = 0.5, label = tariff_name))\n",
    "    plt.title('proceeds')\n",
    "    plt.legend()"
   ]
  },
  {
   "cell_type": "markdown",
   "metadata": {},
   "source": [
    "Проверим нулевую гипотезу с помощью ттеста:"
   ]
  },
  {
   "cell_type": "code",
   "execution_count": null,
   "metadata": {},
   "outputs": [],
   "source": [
    "mean_proceeds = st.ttest_ind(\n",
    "    megaline.query('tariff == \"smart\"')['proceeds'],\n",
    "    megaline.query('tariff == \"ultra\"')['proceeds'])\n",
    "\n",
    "alpha = 0.05"
   ]
  },
  {
   "cell_type": "code",
   "execution_count": null,
   "metadata": {},
   "outputs": [],
   "source": [
    "print('p-значение:', mean_proceeds.pvalue)\n",
    "\n",
    "if mean_proceeds.pvalue < alpha:\n",
    "    print(\"Отвергаем нулевую гипотезу\")\n",
    "else:\n",
    "    print(\"Не получилось отвергнуть нулевую гипотезу\")"
   ]
  },
  {
   "cell_type": "markdown",
   "metadata": {},
   "source": [
    "Т.к. мы отвергли нулевую гипотезу, то принимаем альтернативную - выручки не равны."
   ]
  },
  {
   "cell_type": "markdown",
   "metadata": {},
   "source": [
    "### Выводы"
   ]
  },
  {
   "cell_type": "markdown",
   "metadata": {},
   "source": [
    "Мы приняли альтернативную гипотезу - Средняя выручка пользователей тарифов \"Ультра\" и \"Смарт\" не одинакова."
   ]
  },
  {
   "cell_type": "markdown",
   "metadata": {},
   "source": [
    "\n",
    "---\n"
   ]
  },
  {
   "cell_type": "markdown",
   "metadata": {},
   "source": [
    "### Средняя выручка пользователей из Москвы отличается от выручки пользователей из других регионов. <a class=\"anchor\" id=\"seven\"></a>"
   ]
  },
  {
   "cell_type": "markdown",
   "metadata": {},
   "source": [
    "Составим нулевую гипотезу - средняя выручка пользователей из Москвы равна выручке пользователей из других регионов. Альтернативная гипотеза - выручки не равны."
   ]
  },
  {
   "cell_type": "markdown",
   "metadata": {},
   "source": [
    "Сформируем выборки выручек по Москве и Регионам."
   ]
  },
  {
   "cell_type": "code",
   "execution_count": null,
   "metadata": {},
   "outputs": [],
   "source": [
    "proceed_moscow = megaline[['city_kind', 'proceeds']].query('city_kind == \"Москва\"').dropna(subset = ['proceeds'])\n",
    "proceed_moscow"
   ]
  },
  {
   "cell_type": "code",
   "execution_count": null,
   "metadata": {},
   "outputs": [],
   "source": [
    "proceed_region = megaline[['city_kind', 'proceeds']].query('city_kind == \"Регион\"').dropna(subset = ['proceeds'])\n",
    "proceed_region"
   ]
  },
  {
   "cell_type": "markdown",
   "metadata": {},
   "source": [
    "Построи гистограмму распределения по каждому региону:"
   ]
  },
  {
   "cell_type": "code",
   "execution_count": null,
   "metadata": {},
   "outputs": [],
   "source": [
    "(proceed_region['proceeds'].hist(bins=10, alpha = 0.5, label = 'Регион'))\n",
    "plt.title('proceeds')\n",
    "plt.legend()\n",
    "(proceed_moscow['proceeds'].hist(bins=10, alpha = 0.5, label = 'Москва'))\n",
    "plt.title('proceeds')\n",
    "plt.legend()"
   ]
  },
  {
   "cell_type": "markdown",
   "metadata": {},
   "source": [
    "С помощью ттеста проверим нулевую гипотезу."
   ]
  },
  {
   "cell_type": "code",
   "execution_count": null,
   "metadata": {},
   "outputs": [],
   "source": [
    "mean_proceeds_region = st.ttest_ind(\n",
    "    proceed_moscow['proceeds'],\n",
    "    proceed_region['proceeds'])\n",
    "\n",
    "alpha = 0.05"
   ]
  },
  {
   "cell_type": "code",
   "execution_count": null,
   "metadata": {},
   "outputs": [],
   "source": [
    "print('p-значение:', mean_proceeds_region.pvalue)\n",
    "\n",
    "if mean_proceeds_region.pvalue < alpha:\n",
    "    print(\"Отвергаем нулевую гипотезу\")\n",
    "else:\n",
    "    print(\"Не получилось отвергнуть нулевую гипотезу\")"
   ]
  },
  {
   "cell_type": "markdown",
   "metadata": {},
   "source": [
    "### Выводы"
   ]
  },
  {
   "cell_type": "markdown",
   "metadata": {},
   "source": [
    "Приняли нулевую гипотезу - средняя выручка пользователей из Москвы равна выручке пользователей из других регионов."
   ]
  },
  {
   "cell_type": "markdown",
   "metadata": {},
   "source": [
    "\n",
    "---\n"
   ]
  },
  {
   "cell_type": "markdown",
   "metadata": {},
   "source": [
    "## Шаг 6. Общие выводы <a class=\"anchor\" id=\"eight\"></a>"
   ]
  },
  {
   "cell_type": "markdown",
   "metadata": {},
   "source": [
    "В ходе работы прочитали данные из пяти таблиц:\n",
    "\n",
    "**Тарифы:**\n",
    "**Пользователи:**\n",
    "**Звонки:**\n",
    "**Интернет сессии:**\n",
    "**Сообщения:**\n",
    "\n",
    "Увидили артефакт в виде дополнительного столбца, который удалили.\n",
    "\n",
    "Выполнили преобразование данных в столбцах и изменили тип.\n",
    "\n",
    "Поделили города на две категории: `Москва` и `Регион`.\n",
    "\n",
    "Создали сводную таблицу `megaline`, в которую добавили следующие значения: \n",
    "\n",
    "* `calls_count` - количество сделанных звонков\n",
    "* `calls_sum` - количество израсходованных минут разговора\n",
    "* `messages_count` - количество отправленных сообщений\n",
    "* `mb_sum` - объем израсходованного интернет-трафика\n",
    "* `proceeds` - выручка\n",
    "\n",
    "Для значений `calls_sum`, `messages_count` и `mb_sum` по каждому тарифу посчитали:\n",
    "\n",
    "* Среднее значение\n",
    "* Стандартное отклонение\n",
    "\n",
    "Средние значение в тарифе `ultra`, больше средних в `smart`.\n",
    "Стандартное отклонение в `ultra` также больше, что говорит о больших расбросах, которые мы увидили на графиках.\n",
    "\n",
    "Кол-во сообщений в тарифах распределены геометрически.\n",
    "\n",
    "Графики кол-во израсходованных минут разговора и объем израсходованного интернет-трафика по тарифам соответствуют распределению Пуассона.\n",
    "\n",
    "По площадям графиков видно, что тариф `smart` более популярный.\n",
    "\n",
    "Мы приняли альтернативную гипотезу - Средняя выручка пользователей тарифов \"Ультра\" и \"Смарт\" не одинакова.\n",
    "\n",
    "Приняли нулевую гипотезу - средняя выручка пользователей из Москвы равна выручке пользователей из других регионов.\n",
    "\n",
    "Проанализировав поведение клиентов и сделаем выводы — что тариф \"Смарт\" лучше, т.к. средняя выручка одинакова с тарифом \"Ультра\", при этом популярность тарифа \"Смарт\" гораздо выше.\n",
    "\n",
    "Чтобы скорректировать рекламный бюджет, рекомендуем коммерческому департаменту обратить внимание на тариф \"Смарт\"."
   ]
  },
  {
   "cell_type": "markdown",
   "metadata": {},
   "source": [
    "\n",
    "---\n"
   ]
  },
  {
   "cell_type": "markdown",
   "metadata": {},
   "source": [
    "### Чек-лист готовности проекта"
   ]
  },
  {
   "cell_type": "markdown",
   "metadata": {},
   "source": [
    "- [x]  открыты файлы\n",
    "- [x]  файлы изучены (выведены первые строки, метод info())\n",
    "- [x]  определены пропущенные значения\n",
    "- [x]  заполнены пропущенные значения\n",
    "- [x]  есть пояснение, какие пропущенные значения обнаружены\n",
    "- [x]  изменены типы данных\n",
    "- [x]  есть пояснение, в каких столбцах изменены типы и почему\n",
    "- [x]  посчитано и добавлено в таблицу: количество сделанных звонков и израсходованных минут разговора по месяцам\n",
    "- [x]  посчитано и добавлено в таблицу: количество отправленных сообщений по месяцам\n",
    "- [x]  посчитано и добавлено в таблицу: объем израсходованного интернет-трафика по месяцам\n",
    "- [x]  посчитано и добавлено в таблицу: помесячную выручку с каждого пользователя (вычтите бесплатный лимит из суммарного количества звонков, сообщений и интернет-трафика; остаток умножьте на значение из тарифного плана; прибавьте абонентскую плату, соответствующую тарифному плану).\n",
    "- [x]  построены гистограммы для каждого параметра\n",
    "- [x]  выполнено задание: Опишите поведение клиентов оператора, исходя из выборки. Сколько минут разговора, сколько сообщений и какой объём интернет-трафика требуется пользователям каждого тарифа в месяц? Посчитайте среднее количество, дисперсию и стандартное отклонение. Постройте гистограммы. Опишите распределения.\n",
    "- [x]  проверена гипотеза: средняя выручка пользователей тарифов «Ультра» и «Смарт» различается;\n",
    "- [x]  проверенеа гипотеза: средняя выручка пользователей из Москвы отличается от выручки пользователей из других регионов\n",
    "- [x]  выполнено задание: Пороговое значение alpha задано\n",
    "- [x]  пояснено: как вы формулировали нулевую и альтернативную гипотезы\n",
    "- [x]  пояснено: какой критерий использовали для проверки гипотез и почему.\n",
    "- [x]  в каждом этапе есть выводы\n",
    "- [x]  есть общий вывод"
   ]
  }
 ],
 "metadata": {
  "kernelspec": {
   "display_name": "Python 3",
   "language": "python",
   "name": "python3"
  },
  "language_info": {
   "codemirror_mode": {
    "name": "ipython",
    "version": 3
   },
   "file_extension": ".py",
   "mimetype": "text/x-python",
   "name": "python",
   "nbconvert_exporter": "python",
   "pygments_lexer": "ipython3",
   "version": "3.8.5"
  }
 },
 "nbformat": 4,
 "nbformat_minor": 2
}
