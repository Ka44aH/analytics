{
 "cells": [
  {
   "cell_type": "markdown",
   "metadata": {},
   "source": [
    "# Исследование объявлений о продаже квартир\n",
    "\n",
    "---\n",
    "\n",
    "## Описание проекта"
   ]
  },
  {
   "cell_type": "markdown",
   "metadata": {},
   "source": [
    "В вашем распоряжении данные сервиса Яндекс.Недвижимость — архив объявлений о продаже квартир в Санкт-Петербурге и соседних населённых пунктов за несколько лет. Нужно научиться определять рыночную стоимость объектов недвижимости. Ваша задача — установить параметры. Это позволит построить автоматизированную систему: она отследит аномалии и мошенническую деятельность.\n",
    "\n",
    "По каждой квартире на продажу доступны два вида данных. Первые вписаны пользователем, вторые — получены автоматически на основе картографических данных. Например, расстояние до центра, аэропорта, ближайшего парка и водоёма.\n",
    "\n",
    "---\n",
    "\n",
    "## План работы\n",
    "\n",
    "### 1. Изучить входные данные;\n",
    "### 2. Выполнить предобработку данных;\n",
    "### 3. Добавить новые столбцы;\n",
    "### 4. Провести исследовательский анализ данных;\n",
    "### 5. Сделать выводы.\n",
    "\n",
    "---\n",
    "\n",
    "## Информация о входных данных\n",
    "\n",
    "В таблице 22 столбца:\n",
    "\n",
    "**airports_nearest** — расстояние до ближайшего аэропорта в метрах (м)<br>\n",
    "**balcony** — число балконов<br>\n",
    "**ceiling_height** — высота потолков (м)<br>\n",
    "**cityCenters_nearest** — расстояние до центра города (м)<br>\n",
    "**days_exposition** — сколько дней было размещено объявление (от публикации до снятия)<br>\n",
    "**first_day_exposition** — дата публикации<br>\n",
    "**floor** — этаж<br>\n",
    "**floors_total** — всего этажей в доме<br>\n",
    "**is_apartment** — апартаменты (булев тип)<br>\n",
    "**kitchen_area** — площадь кухни в квадратных метрах (м²)<br>\n",
    "**last_price** — цена на момент снятия с публикации<br>\n",
    "**living_area** — жилая площадь в квадратных метрах(м²)<br>\n",
    "**locality_name** — название населённого пункта<br>\n",
    "**open_plan** — свободная планировка (булев тип)<br>\n",
    "**parks_around3000** — число парков в радиусе 3 км<br>\n",
    "**parks_nearest** — расстояние до ближайшего парка (м)<br>\n",
    "**ponds_around3000** — число водоёмов в радиусе 3 км<br>\n",
    "**ponds_nearest** — расстояние до ближайшего водоёма (м)<br>\n",
    "**rooms** — число комнат<br>\n",
    "**studio** — квартира-студия (булев тип)<br>\n",
    "**total_area** — площадь квартиры в квадратных метрах (м²)<br>\n",
    "**total_images** — число фотографий квартиры в объявлении<br>\n",
    "\n",
    "Пояснение: апартаменты — это нежилые помещения, не относящиеся к жилому фонду, но имеющие необходимые условия для проживания.<br>\n",
    "\n",
    "---"
   ]
  },
  {
   "cell_type": "markdown",
   "metadata": {},
   "source": [
    "### Оглавление\n",
    "\n",
    "* [1. Открываем файл с данными и изучаем общую информацию](#one)\n",
    "* [2. Предобработка данных](#two)\n",
    "* [3. Добавляем новые столбцы](#six)\n",
    "* [4. Исследовательский анализ данных и выполнение инструкций](#seven)\n",
    "*     [Изучение параметров](#eight)\n",
    "*    [Изучение время продажи квартиры](#nine)\n",
    "*     [Какие факторы больше всего влияют на стоимость квартиры](#ten)\n",
    "*   [10 населённых пунктов с наибольшим числом объявлений](#eleven)\n",
    "* [Изучение предложения квартир](#twelve)\n",
    "* [Cегмент квартир в центре](#thirteen)\n",
    "* [5. Выводы](#fourtheen)\n",
    "\n",
    "---"
   ]
  },
  {
   "cell_type": "markdown",
   "metadata": {},
   "source": [
    "## Шаг 1. Открываем файл с данными и изучаем общую информацию. <a class=\"anchor\" id=\"one\"></a>"
   ]
  },
  {
   "cell_type": "markdown",
   "metadata": {},
   "source": [
    "Откроем файл с данными. Посмотрим на первые пятнадцать строк методом head() и изучим столбцы методом info()."
   ]
  },
  {
   "cell_type": "code",
   "execution_count": null,
   "metadata": {},
   "outputs": [],
   "source": [
    "import pandas as pd\n",
    "from IPython.display import display\n",
    "import matplotlib as plt"
   ]
  },
  {
   "cell_type": "code",
   "execution_count": null,
   "metadata": {},
   "outputs": [],
   "source": [
    "flats = pd.read_csv('datasets/2_real_estate_data.csv', sep='\\t')"
   ]
  },
  {
   "cell_type": "code",
   "execution_count": null,
   "metadata": {},
   "outputs": [],
   "source": [
    "display(flats.head(15))"
   ]
  },
  {
   "cell_type": "code",
   "execution_count": null,
   "metadata": {},
   "outputs": [],
   "source": [
    "flats.info()"
   ]
  },
  {
   "cell_type": "code",
   "execution_count": null,
   "metadata": {},
   "outputs": [],
   "source": [
    "flats.iloc[:15, :15]"
   ]
  },
  {
   "cell_type": "markdown",
   "metadata": {},
   "source": [
    "## Вывод"
   ]
  },
  {
   "cell_type": "markdown",
   "metadata": {},
   "source": [
    "Открыли файл и увидели 22 столбца.\n",
    "Обнаружили пропущенные значения во многих столбцах: в столбце is_apartment пропущенные значения заменим на 0, т.к. это булево значениеи логично, что это не апартаменты, а квартира.\n",
    "Аналогично в столбце balcony, т.к. пропущенное значение говорит о том, что балкона нет.\n",
    "В столбце ceiling_height и living_area, предположительно, владельцы не внесли значение т.к. не знают этот показатель, будем искать логику по заполнению пропущенных значений.\n",
    "В столбце days_exposition пропущенные значения говорят о том, что недвижимость еще не продана.\n",
    "Также автоматически заполненные данные по паркам, водоемам и аэропортам не заполнены по некоторым поселкам, поэтому заполним средним значением по данному поселку, если такие данные имеются, либо выделим их в отдельную группы \"Провинция\".\n",
    "\n",
    "Обнаружен артефакт - площадь кухни больше площади квартиры.\n",
    "\n",
    "В следующем шаге заменим кол-во балконов и данные, полученные от карт на целочисленные.\n",
    "И заменим тип данных в дате объявления.\n",
    "\n",
    "---"
   ]
  },
  {
   "cell_type": "markdown",
   "metadata": {},
   "source": [
    "## Шаг 2. Предобработка данных <a class=\"anchor\" id=\"two\"></a>"
   ]
  },
  {
   "cell_type": "markdown",
   "metadata": {},
   "source": [
    "### Замена пропущенных значений <a class=\"anchor\" id=\"three\"></a>"
   ]
  },
  {
   "cell_type": "markdown",
   "metadata": {},
   "source": [
    "Проверим наш датафрейм на дубликаты"
   ]
  },
  {
   "cell_type": "code",
   "execution_count": null,
   "metadata": {},
   "outputs": [],
   "source": [
    "flats.duplicated().sum()"
   ]
  },
  {
   "cell_type": "markdown",
   "metadata": {},
   "source": [
    "Дубликатов не обнаружено."
   ]
  },
  {
   "cell_type": "markdown",
   "metadata": {},
   "source": [
    "Последовательно по каждому столбцу будем проверять на дубликаты и преобразовывать данные."
   ]
  },
  {
   "cell_type": "code",
   "execution_count": null,
   "metadata": {},
   "outputs": [],
   "source": [
    "flats['total_images'].unique()"
   ]
  },
  {
   "cell_type": "markdown",
   "metadata": {},
   "source": [
    "За квартиру никто копейками не платит, поэтому переведем цену в целочисленный тип данных и посмотрим на значения."
   ]
  },
  {
   "cell_type": "code",
   "execution_count": null,
   "metadata": {
    "scrolled": true
   },
   "outputs": [],
   "source": [
    "flats['last_price'] = pd.to_numeric(flats['last_price'], errors='raise', downcast='integer')\n",
    "flats['last_price'].describe()"
   ]
  },
  {
   "cell_type": "markdown",
   "metadata": {},
   "source": [
    "Интересная цена получилась от 12 к и интересно много таких отчаянных?) Посмотрим на самые низкие и высокие цены, отсортировав по столбцу цены."
   ]
  },
  {
   "cell_type": "code",
   "execution_count": null,
   "metadata": {},
   "outputs": [],
   "source": [
    "flats = flats.sort_values(by='last_price')\n",
    "\n",
    "flats.head(50)"
   ]
  },
  {
   "cell_type": "code",
   "execution_count": null,
   "metadata": {},
   "outputs": [],
   "source": [
    "flats.tail(15)"
   ]
  },
  {
   "cell_type": "markdown",
   "metadata": {},
   "source": [
    "Пейнтхаусы за огромные суммы еще ок, но недвижимость за копейки это нонсенс. После преобразований столбцов обязательно вернемся к обработке таких цен."
   ]
  },
  {
   "cell_type": "code",
   "execution_count": null,
   "metadata": {},
   "outputs": [],
   "source": [
    "flats['last_price'].describe()"
   ]
  },
  {
   "cell_type": "code",
   "execution_count": null,
   "metadata": {},
   "outputs": [],
   "source": [
    "flats['total_area'].describe()"
   ]
  },
  {
   "cell_type": "markdown",
   "metadata": {},
   "source": [
    "Сперва смутила площадь в 12 м, но оказалось такие есть)\n",
    "Преобразуем дату, время нас не интересует, поэтому оставим только дату и год."
   ]
  },
  {
   "cell_type": "code",
   "execution_count": null,
   "metadata": {},
   "outputs": [],
   "source": [
    "flats['first_day_exposition'] = pd.to_datetime(flats['first_day_exposition'], format='%Y-%m-%d')\n",
    "flats.info()"
   ]
  },
  {
   "cell_type": "code",
   "execution_count": null,
   "metadata": {},
   "outputs": [],
   "source": [
    "flats['rooms'].describe()"
   ]
  },
  {
   "cell_type": "code",
   "execution_count": null,
   "metadata": {},
   "outputs": [],
   "source": [
    "flats['ceiling_height'].describe()"
   ]
  },
  {
   "cell_type": "code",
   "execution_count": null,
   "metadata": {},
   "outputs": [],
   "source": [
    "flats['ceiling_height'].dropna().sort_values().tail(50)"
   ]
  },
  {
   "cell_type": "code",
   "execution_count": null,
   "metadata": {},
   "outputs": [],
   "source": [
    "flats['ceiling_height'].dropna().sort_values().head(50)"
   ]
  },
  {
   "cell_type": "markdown",
   "metadata": {},
   "source": [
    "В таблице появилась недвижимость для хоббитов с высотой 1 м. Будь мы во Вселенной Толкиена оставили бы все как есть, но в наших реалиях минимальная высота потолков 2,4 метра. \n",
    "По максимальной высоте потолков ограничений нет. Могут быть квартиры из которых можно сделать два этажа. При этом свыше 6 метров предлагаю откинуть. Значения от 24 метров до 32 были внесены неправильно, поэтому поделим их на порядок и 100 откинем.\n",
    "Пустые значения можно было бы заменить на среднее значение в данном районе, т.к. архитектура в районах похожа, но в нашем случае дан лишь город.\n",
    "Такое огромное значение пропусков в ввиду того, что данное поле необязательное.\n",
    "\n",
    "Пустые значения заменим медианой."
   ]
  },
  {
   "cell_type": "code",
   "execution_count": null,
   "metadata": {},
   "outputs": [],
   "source": [
    "#  Избавляемся от некорректных значений\n",
    "def ceiling_height(row):\n",
    "    if row is not None:\n",
    "        if row < 2.4:\n",
    "            return None\n",
    "        elif 6 < row < 24:\n",
    "            return None\n",
    "        elif 24 <= row < 100:\n",
    "            return row/10\n",
    "        elif row >= 100:\n",
    "            return None\n",
    "        return row\n",
    "flats['ceiling_height'] = flats['ceiling_height'].apply(ceiling_height)\n",
    "\n",
    "# Замена на медиану\n",
    "\n",
    "median_height = flats['ceiling_height'].median()\n",
    "flats.loc[flats['ceiling_height'].isna(), 'ceiling_height'] = median_height"
   ]
  },
  {
   "cell_type": "code",
   "execution_count": null,
   "metadata": {},
   "outputs": [],
   "source": [
    "flats.info()"
   ]
  },
  {
   "cell_type": "markdown",
   "metadata": {},
   "source": [
    "Заменим пропущенные значения в количестве этажей медианой, сгруппировав данные по этажу."
   ]
  },
  {
   "cell_type": "code",
   "execution_count": null,
   "metadata": {},
   "outputs": [],
   "source": [
    "# Функция принимает список столбцов и показывает пропуски до изменений\n",
    "\n",
    "def null_before(column, data=flats):\n",
    "    print(f'Пропуски в столбце {column} до:', data[column].isna().sum())\n",
    "        \n",
    "# Функция принимает список столбцов и показывает пропуски до изменений\n",
    "\n",
    "def null_after(column, data=flats):\n",
    "    print(f'Пропуски в столбце {column} после:', data[column].isna().sum())\n",
    "        \n",
    "# Функция принимает список столбцов и дает название медианам\n",
    "\n",
    "def median_column(column, grouped_column, data):\n",
    "    column_median = (data.groupby([grouped_column])).agg({column:'median'})\\\n",
    "    .rename(columns = {column: 'median_name'})\n",
    "    data = data.merge(column_median, on = [grouped_column])\n",
    "    data.loc[data[column].isna(), column] = data.loc[data[column].isna(), 'median_name']\n",
    "    data[column] = data[column].fillna(data[column].median())\n",
    "    return data\n",
    "                     \n",
    "# Функция принимает датасет и столбец и удаляет столбец\n",
    "                     \n",
    "def drop_column(column, data=flats):\n",
    "    return data.drop([column], axis=1)\n",
    "                     \n",
    "# Функция принимает столбец А, по которому группирует, столбец Б, по которому ищет пропуски до, вычисляет медиану,\\\n",
    "# добавляет столбец В с медианой к исходному фрейму, если столбец В оказался пустым, то заполняет его медианой\\\n",
    "# столбца Б по всему датафрейму, заполняет пропуски, вычисляет пропуски после и удаляет лишние столбцы с медианой\n",
    "                     \n",
    "\n",
    "def clear_null(column, grouped_column, data=flats):\n",
    "    null_before(column, data)\n",
    "    data = median_column(column, grouped_column, data)\n",
    "    null_after(column, data)\n",
    "    data = drop_column('median_name', data)\n",
    "    return data\n",
    "\n",
    "# Функция принимает список столбцов и столбец, по которому будет группировать и заменяет значения на медианные\n",
    "def clear_group(group_columns, grouped_column, data=flats):\n",
    "    for group_column in group_columns:\n",
    "        data = clear_null(group_column, grouped_column, data)\n",
    "    return data\n",
    "\n",
    "flats = clear_null('floors_total', 'floor')"
   ]
  },
  {
   "cell_type": "code",
   "execution_count": null,
   "metadata": {},
   "outputs": [],
   "source": [
    "flats['living_area'].describe()"
   ]
  },
  {
   "cell_type": "code",
   "execution_count": null,
   "metadata": {},
   "outputs": [],
   "source": [
    "flats.query('living_area == kitchen_area')"
   ]
  },
  {
   "cell_type": "markdown",
   "metadata": {},
   "source": [
    "Жилая площадь в 2 метра это как раз, чтобы уместилась кровать) Ранее мы обнаружили, что есть квартиры, где площадь кухни больше жилой площади. Вероятно по ошибке перепутали местами эти значения. Заменим их обратно."
   ]
  },
  {
   "cell_type": "code",
   "execution_count": null,
   "metadata": {},
   "outputs": [],
   "source": [
    "# Если площадь кухни больше жилой площади, заменим ее на плодащь жилой площади\n",
    "def change_kitchen_living(row):\n",
    "    live = row['living_area']\n",
    "    kitchen = row['kitchen_area']\n",
    "    area = row['total_area']\n",
    "    if kitchen is not None and live is not None:\n",
    "        if live < kitchen:\n",
    "            return kitchen\n",
    "        elif live == kitchen:\n",
    "            if area - live > live:\n",
    "                return area - live \n",
    "    return live\n",
    "flats['true_living_area'] = flats.apply(change_kitchen_living, axis=1)\n",
    "def change_living_kitchen(row):\n",
    "    live = row['living_area']\n",
    "    kitchen = row['kitchen_area']\n",
    "    area = row['total_area']\n",
    "    if kitchen is not None and live is not None:\n",
    "        if kitchen > live:\n",
    "            return live\n",
    "        elif kitchen == live:\n",
    "            if area - live < live:\n",
    "                return area - live\n",
    "    return kitchen\n",
    "flats['true_living_area'] = flats.apply(change_kitchen_living, axis=1)\n",
    "flats['kitchen_area'] = flats.apply(change_living_kitchen, axis=1)\n",
    "flats['living_area'] = flats['true_living_area']\n",
    "\n",
    "flats = drop_column('true_living_area', flats)"
   ]
  },
  {
   "cell_type": "markdown",
   "metadata": {},
   "source": [
    "Избавимся от пропусков в столбцах жилая площадь и площадь кухни медианой, сгруппировав их по площади помещения.\n",
    "Площадь помещения поделим на группы разделив их квартилями."
   ]
  },
  {
   "cell_type": "code",
   "execution_count": null,
   "metadata": {},
   "outputs": [],
   "source": [
    "# Посчитаем квартили и медиану\n",
    "area_median_1 = flats['total_area'].quantile(0.25)\n",
    "area_median_2 = flats['total_area'].quantile(0.5)\n",
    "area_median_3 = flats['total_area'].quantile(0.75)\n",
    "\n",
    "# Добавим категорию 1, 2, 3\n",
    "def area_category(row):\n",
    "    area = row['total_area']\n",
    "    if area <= area_median_1:\n",
    "        return 1\n",
    "    elif area <= area_median_2:\n",
    "        return 2\n",
    "    elif area <= area_median_3:\n",
    "        return 3\n",
    "    return 4\n",
    "\n",
    "# Добавим новый столбец area_category к датафрейму\n",
    "flats['area_category'] = flats.apply(area_category, axis=1)\n",
    "print('Первая категория имеет площадь от {:.1f} до {:.1f} включительно'\\\n",
    "                      .format(flats['total_area'].min(), area_median_1))\n",
    "print('Вторая категория имеет площадь от {:.1f} до {:.1f} включительно'\\\n",
    "                      .format(area_median_1, area_median_2))\n",
    "print('Третья категория имеет площадь от {:.1f} до {:.1f} включительно'\\\n",
    "                      .format(area_median_2, area_median_3))\n",
    "print('Четвертая категория имеет площадь от {:.1f} до {:.1f} включительно'\\\n",
    "                      .format(area_median_3, flats['total_area'].max())) \n",
    "\n",
    "# Посчитаем медиану для каждой группы"
   ]
  },
  {
   "cell_type": "markdown",
   "metadata": {},
   "source": [
    "Заполним пропуски функцией clear_group()"
   ]
  },
  {
   "cell_type": "code",
   "execution_count": null,
   "metadata": {},
   "outputs": [],
   "source": [
    "flats = clear_group(['living_area', 'kitchen_area'], 'area_category', flats)"
   ]
  },
  {
   "cell_type": "code",
   "execution_count": null,
   "metadata": {},
   "outputs": [],
   "source": [
    "flats.info()"
   ]
  },
  {
   "cell_type": "markdown",
   "metadata": {},
   "source": [
    "От пропусков избавились. Посмотрим на другие столбцы."
   ]
  },
  {
   "cell_type": "code",
   "execution_count": null,
   "metadata": {},
   "outputs": [],
   "source": [
    "flats['floor'].unique()"
   ]
  },
  {
   "cell_type": "code",
   "execution_count": null,
   "metadata": {},
   "outputs": [],
   "source": [
    "flats['is_apartment'].unique()"
   ]
  },
  {
   "cell_type": "markdown",
   "metadata": {},
   "source": [
    "Заменим пустые значения на False, т.к. пропущенное значение означает, что это не апартамент"
   ]
  },
  {
   "cell_type": "code",
   "execution_count": null,
   "metadata": {},
   "outputs": [],
   "source": [
    "# Пропуски до \n",
    "null_before('is_apartment', flats)\n",
    "\n",
    "# Удалим пропуски методом fillna\n",
    "flats['is_apartment'] = flats['is_apartment'].fillna(False)\n",
    "\n",
    "# Пропуски после\n",
    "null_after('is_apartment', flats)"
   ]
  },
  {
   "cell_type": "markdown",
   "metadata": {},
   "source": [
    "Как мы видели ранее у нас есть пропущенные значения в поле кол-во балконов. Это говорит, что балконы отсутствуют. Заменим их на 0."
   ]
  },
  {
   "cell_type": "code",
   "execution_count": null,
   "metadata": {},
   "outputs": [],
   "source": [
    "flats['balcony'].unique()"
   ]
  },
  {
   "cell_type": "code",
   "execution_count": null,
   "metadata": {},
   "outputs": [],
   "source": [
    "# Пропуски до \n",
    "null_before('balcony', flats)\n",
    "\n",
    "# Удалим пропуски методом fillna\n",
    "flats['balcony'] = flats['balcony'].fillna(0)\n",
    "\n",
    "# Пропуски после\n",
    "null_after('balcony', flats)\n",
    "\n",
    "# Заменим тип данных на целочисленный\n",
    "flats['balcony'] = flats['balcony'].astype(int)"
   ]
  },
  {
   "cell_type": "markdown",
   "metadata": {},
   "source": [
    "В названии населенного пункта были пропуски, их крайне сложно заменить на что либо. Т.к. их мало просто удалим строки с данными значениями."
   ]
  },
  {
   "cell_type": "code",
   "execution_count": null,
   "metadata": {},
   "outputs": [],
   "source": [
    "# Подсчет пропущенных значениях в районе\n",
    "null_before('locality_name', flats)\n",
    "\n",
    "# Удалим пропущенные значения в районе\n",
    "flats = flats.dropna(subset=['locality_name'])\n",
    "\n",
    "# Подсчет пропущенных значениях в районе\n",
    "null_after('locality_name', flats)\n",
    "\n",
    "flats['locality_name'].unique()"
   ]
  },
  {
   "cell_type": "markdown",
   "metadata": {},
   "source": [
    "Увидели разное написание поселка. Поэтому заменим все посЁлки на поселки и приведем к нижнему регистру."
   ]
  },
  {
   "cell_type": "code",
   "execution_count": null,
   "metadata": {},
   "outputs": [],
   "source": [
    "# Приведем к нижнему регистру\n",
    "flats['locality_name'] = flats['locality_name'].str.lower()\n",
    "\n",
    "\n",
    "# Избавимся от поселков\n",
    "def poselok(row):\n",
    "    sense = row['locality_name']\n",
    "    a = ''\n",
    "    b = 0\n",
    "    for i in sense.split():\n",
    "        if i == 'посёлок':\n",
    "            i = 'поселок'\n",
    "        if b > 0:\n",
    "            a += ' '\n",
    "            a += i\n",
    "        else:\n",
    "            a += i\n",
    "            b += 1\n",
    "            \n",
    "    return a\n",
    "\n",
    "flats['locality_name'] = flats.apply(poselok, axis=1)\n",
    "flats['locality_name'].unique()"
   ]
  },
  {
   "cell_type": "markdown",
   "metadata": {},
   "source": [
    "В столбцах полученных от карт много пропусков. Заменим их на медиану населенного пункта, если у населенного пункта нет медианы, то заменим на медиану датасета."
   ]
  },
  {
   "cell_type": "code",
   "execution_count": null,
   "metadata": {},
   "outputs": [],
   "source": [
    "# Для удобства заменим имя столбца cityCenters_nearest\n",
    "flats.columns = flats.columns.str.lower()\n",
    "\n",
    "# Заполним пропуски с помощью функции clear_group\n",
    "flats = clear_group(['airports_nearest', 'citycenters_nearest', 'parks_around3000',\\\n",
    "                     'parks_nearest', 'ponds_around3000', 'ponds_nearest'], 'locality_name', flats)"
   ]
  },
  {
   "cell_type": "code",
   "execution_count": null,
   "metadata": {},
   "outputs": [],
   "source": [
    "flats.info()"
   ]
  },
  {
   "cell_type": "markdown",
   "metadata": {},
   "source": [
    "Ранее мы заметили, что в столбце days_exposition имеются пропуски. Давайте посмотрим на них."
   ]
  },
  {
   "cell_type": "code",
   "execution_count": null,
   "metadata": {},
   "outputs": [],
   "source": [
    "# задаем новый столбец, к-й определяет пропущена дата или нет\n",
    "flats['days_exposition_missing'] = flats['days_exposition'].isna().astype(int)\n",
    "\n",
    "# суммируем и строим графики\n",
    "flats.groupby('first_day_exposition').agg({'days_exposition_missing':'sum'})\\\n",
    "    .plot(title='Зависимость пропущенных значений в столбце days_exposition от first_day_exposition')"
   ]
  },
  {
   "cell_type": "markdown",
   "metadata": {},
   "source": [
    "Число пропусков растет к концу наблюдаемого периода. Видимо, пропуски означают незакрытые объявления. Будем считать, что дата выгрузки данных равна последнему дню наблюдений."
   ]
  },
  {
   "cell_type": "code",
   "execution_count": null,
   "metadata": {},
   "outputs": [],
   "source": [
    "null_before('days_exposition', flats)\n",
    "max_dt = flats['first_day_exposition'].max()\n",
    "\n",
    "# заполним пропуски разностью first_day_exposition и max_dt в днях\n",
    "flats.loc[flats['days_exposition'].isna(), \n",
    "         'days_exposition'] = (max_dt - flats.loc[flats['days_exposition']\\\n",
    "                                    .isna(), 'first_day_exposition']).dt.days\n",
    "null_after('days_exposition', flats)"
   ]
  },
  {
   "cell_type": "markdown",
   "metadata": {},
   "source": [
    "Преобразуем данные из карт к целочисленному типу и удалим промежуточный столбец"
   ]
  },
  {
   "cell_type": "code",
   "execution_count": null,
   "metadata": {},
   "outputs": [],
   "source": [
    "# Выполним преобразование типов\n",
    "convert_dict = {'airports_nearest': int,\n",
    "               'citycenters_nearest': int,\n",
    "               'parks_around3000': int,\n",
    "               'parks_nearest': int,\n",
    "                'ponds_around3000': int,\n",
    "               'ponds_nearest': int,\n",
    "               'days_exposition': int}\n",
    "\n",
    "flats = flats.astype(convert_dict)\n",
    "\n",
    "# Удалим ненужный столбец\n",
    "#flats = drop_column('days_exposition_missing', flats)\n",
    "\n",
    "flats.info()"
   ]
  },
  {
   "cell_type": "markdown",
   "metadata": {},
   "source": [
    "### Выводы:\n",
    "\n",
    "В данном шаге изменили типы данных с следующих столбцов:\n",
    "*Привели к целочисленному типу*\n",
    "**airports_nearest** — расстояние до ближайшего аэропорта в метрах (м)<br>\n",
    "**balcony** — число балконов<br>\n",
    "**cityCenters_nearest** — расстояние до центра города (м)<br>\n",
    "**days_exposition** — сколько дней было размещено объявление (от публикации до снятия)<br>\n",
    "**floor** — этаж<br>\n",
    "**floors_total** — всего этажей в доме<br>\n",
    "**last_price** — цена на момент снятия с публикации<br>\n",
    "**parks_around3000** — число парков в радиусе 3 км<br>\n",
    "**parks_nearest** — расстояние до ближайшего парка (м)<br>\n",
    "**ponds_around3000** — число водоёмов в радиусе 3 км<br>\n",
    "**ponds_nearest** — расстояние до ближайшего водоёма (м)<br>\n",
    "\n",
    "*Привели к дате*\n",
    "\n",
    "**first_day_exposition** — дата публикации<br>\n",
    "\n",
    "Избавились от пропусков в следующих столбцах:<br>\n",
    "**airports_nearest** — расстояние до ближайшего аэропорта в метрах (м)<br>\n",
    "**balcony** — число балконов<br>\n",
    "**cityCenters_nearest** — расстояние до центра города (м)<br>\n",
    "**days_exposition** — сколько дней было размещено объявление (от публикации до снятия)<br>\n",
    "**floors_total** — всего этажей в доме<br>\n",
    "**parks_around3000** — число парков в радиусе 3 км<br>\n",
    "**parks_nearest** — расстояние до ближайшего парка (м)<br>\n",
    "**ponds_around3000** — число водоёмов в радиусе 3 км<br>\n",
    "**ponds_nearest** — расстояние до ближайшего водоёма (м)<br>\n",
    "**is_apartment** — апартаменты (булев тип)<br>\n",
    "**kitchen_area** — площадь кухни в квадратных метрах (м²)<br>\n",
    "**living_area** — жилая площадь в квадратных метрах(м²)<br>\n",
    "**ceiling_height** — высота потолков (м)<br>\n",
    "\n",
    "Удалили строки с пропущенным значением в столбце **locality_name** и избавились от дубликатов, приведя к нижнему регистру и изменив Ё на Е.\n",
    "\n",
    "---"
   ]
  },
  {
   "cell_type": "markdown",
   "metadata": {},
   "source": [
    "## Шаг 3. Добавление новых столбцов в таблицу <a class=\"anchor\" id=\"six\"></a>"
   ]
  },
  {
   "cell_type": "markdown",
   "metadata": {},
   "source": [
    "Вычислим цену квадратного метра\n",
    "\n"
   ]
  },
  {
   "cell_type": "code",
   "execution_count": null,
   "metadata": {},
   "outputs": [],
   "source": [
    "flats['price_per_m'] = flats['last_price'] / flats['total_area']"
   ]
  },
  {
   "cell_type": "code",
   "execution_count": null,
   "metadata": {},
   "outputs": [],
   "source": [
    "flats['price_per_m'] = flats['price_per_m'].astype(int)"
   ]
  },
  {
   "cell_type": "code",
   "execution_count": null,
   "metadata": {},
   "outputs": [],
   "source": [
    "flats.head()"
   ]
  },
  {
   "cell_type": "markdown",
   "metadata": {},
   "source": [
    "День недели, месяц и год публикации объявления"
   ]
  },
  {
   "cell_type": "code",
   "execution_count": null,
   "metadata": {},
   "outputs": [],
   "source": [
    "flats['day_of_week'] = flats['first_day_exposition'].dt.dayofweek\n",
    "flats['month'] = flats['first_day_exposition'].dt.month\n",
    "flats['year'] = flats['first_day_exposition'].dt.year\n",
    "flats.head(10)"
   ]
  },
  {
   "cell_type": "markdown",
   "metadata": {},
   "source": [
    "Вычислим этаж квартиры; варианты — первый, последний, другой;"
   ]
  },
  {
   "cell_type": "code",
   "execution_count": null,
   "metadata": {},
   "outputs": [],
   "source": [
    "# Функция принимает строку в таблице и принимает тип этажа\n",
    "def floor_kind(row):\n",
    "    floor = row['floor']\n",
    "    total_floor = row['floors_total']\n",
    "    if floor == 1:\n",
    "        return 'первый'\n",
    "    elif floor == total_floor:\n",
    "        return 'последний'\n",
    "    return 'другой'\n",
    "flats['floor_kind'] = flats.apply(floor_kind, axis=1)\n",
    "\n",
    "flats['floor_kind'].value_counts()"
   ]
  },
  {
   "cell_type": "markdown",
   "metadata": {},
   "source": [
    "Соотношение жилой и общей площади, а также отношение площади кухни к общей."
   ]
  },
  {
   "cell_type": "code",
   "execution_count": null,
   "metadata": {},
   "outputs": [],
   "source": [
    "# Соотношений жилой площади к общей\n",
    "flats['living_total'] = flats['living_area'] / flats['total_area']\n",
    "\n",
    "# Соотношение кухни к общей площади\n",
    "flats['kitchen_total'] = flats['kitchen_area'] / flats['total_area']\n",
    "\n",
    "flats.head()\n",
    "\n",
    "flats.info()"
   ]
  },
  {
   "cell_type": "markdown",
   "metadata": {},
   "source": [
    "### Выводы\n",
    "\n",
    "1. В таблицу добавлен новый столбец с ценой за квадратный метр.\n",
    "2. Добавлены день недели, месяц и год публикации объявления;\n",
    "3. Добавлена категория по этажам: Первый, последний, другой;\n",
    "4. Добавлены соотношения жилой площади и кухни к общей площади недвижимости.\n",
    "\n",
    "---"
   ]
  },
  {
   "cell_type": "markdown",
   "metadata": {},
   "source": [
    "## Шаг 4. Проведем исследовательский анализ данных и выполним инструкции: <a class=\"anchor\" id=\"seven\"></a>"
   ]
  },
  {
   "cell_type": "markdown",
   "metadata": {},
   "source": [
    "### Изучение параметров<a class=\"anchor\" id=\"eight\"></a>\n",
    "\n",
    "Мы изучим следующие параметры: площадь, цена, число комнат, высота потолков. И построим гистограммы для каждого параметра."
   ]
  },
  {
   "cell_type": "code",
   "execution_count": null,
   "metadata": {},
   "outputs": [],
   "source": [
    "# Импортируем библиотеку для построения графиков\n",
    "import matplotlib.pyplot as plt"
   ]
  },
  {
   "cell_type": "markdown",
   "metadata": {},
   "source": [
    "Для каждого параметра построим гистограмму распределения в пределах 1,5 межквартильных расстояния от квартилей и тем самым избавимся от редких значений. И посмотрим на параметры методом describe()."
   ]
  },
  {
   "cell_type": "code",
   "execution_count": null,
   "metadata": {
    "scrolled": false
   },
   "outputs": [],
   "source": [
    "parameters = ['total_area', 'last_price', 'rooms', 'ceiling_height']\n",
    "for parameter in parameters:\n",
    "    q1 = flats[parameter].quantile(0.25)\n",
    "    q3 = flats[parameter].quantile(0.75)\n",
    "    iqr = q3 - q1\n",
    "    \n",
    "    flats[parameter].plot(kind = 'hist', bins = 50, range = \\\n",
    "                          (q1 - 1.5 * iqr, q3 + 1.5 * iqr), grid=True, figsize = (10,7), title = parameter)\n",
    "    display(flats[parameter].describe())\n",
    "    plt.show()\n",
    "    "
   ]
  },
  {
   "cell_type": "markdown",
   "metadata": {},
   "source": [
    "### Выводы\n",
    "\n",
    "Площадь недвижимости:\n",
    "1. Распределение от 12 до 900 метров;\n",
    "2. Распределение унимодально;\n",
    "3. Среднее значение равно 60 кв м;\n",
    "4. Медианное значение равно 52 кв м.\n",
    "\n",
    "Стоимость недвижимости:\n",
    "1. Распределение от 12 к до 763 млн;\n",
    "2. Распределение унимодально;\n",
    "3. Средняя цена 6,5 млн;\n",
    "4. Медианное значение цены 4,65 млн.\n",
    "\n",
    "Комнаты в недвижимости:\n",
    "1. Распределение от 0 до 19;\n",
    "2. Распределение унимодально;\n",
    "3. Среднее число комнат совпадает с медианным и равно 2.\n",
    "\n",
    "Выоста потолка:\n",
    "1. Распределение от 2,4 до 6 метров;\n",
    "2. Распределение унимодально;\n",
    "3. Среднее значение примерно равно медианному 2,7 метров.\n",
    "\n",
    "---"
   ]
  },
  {
   "cell_type": "markdown",
   "metadata": {},
   "source": [
    "### Изучение времени продажи квартиры <a class=\"anchor\" id=\"nine\"></a>"
   ]
  },
  {
   "cell_type": "code",
   "execution_count": null,
   "metadata": {},
   "outputs": [],
   "source": [
    "q1 = flats['days_exposition'].quantile(0.25)\n",
    "q3 = flats['days_exposition'].quantile(0.75)\n",
    "iqr = q3 - q1\n",
    "    \n",
    "flats['days_exposition'].plot(kind = 'hist', bins = 50, range = (1, q3 + 1.5 * iqr), \\\n",
    "                              grid=True, figsize = (10,7), title = 'days_exposition')\n",
    "display(flats['days_exposition'].describe())"
   ]
  },
  {
   "cell_type": "markdown",
   "metadata": {},
   "source": [
    "### Выводы\n",
    "\n",
    "1. Получили геометрическое распределение времени продажи недвижимости.\n",
    "2. Распределение от 0 до 1618 дней. Кому-то пришлось ждать 4,5 года...\n",
    "3. Среднее время продажи полгода;\n",
    "4. Медианное время продажи 94 дня.\n",
    "5. Долгим я бы посчитал свыше 200 дней, а необычно долгим более года.\n",
    "6. От редких значений избавились путем ограничения по оси от 1 до q3(квартиль 75%) + 1,5 iqr (межквартильное расстояние)\n",
    "\n",
    "---"
   ]
  },
  {
   "cell_type": "markdown",
   "metadata": {},
   "source": [
    "### Какие факторы больше всего влияют на стоимость квартиры <a class=\"anchor\" id=\"ten\"></a>"
   ]
  },
  {
   "cell_type": "markdown",
   "metadata": {},
   "source": [
    "Давайте выполним это построением попарных точечных диаграмм диаграмм для столбцов датафрейма.\n",
    "Изучим, зависит ли цена от площади, числа комнат, удалённости от центра. Изучим зависимость цены от того, на каком этаже расположена квартира: первом, последнем или другом. Также изучите зависимость от даты размещения: дня недели, месяца и года."
   ]
  },
  {
   "cell_type": "code",
   "execution_count": null,
   "metadata": {},
   "outputs": [],
   "source": [
    "# Присвоим категории этажа числовое значение\n",
    "def category_floor(row):\n",
    "    floor = row['floor_kind']\n",
    "    if floor == 'первый':\n",
    "        return 1\n",
    "    elif floor == 'другой':\n",
    "        return 2\n",
    "    return 3\n",
    "\n",
    "flats['category_floor'] = flats.apply(category_floor, axis=1)\n",
    "\n",
    "\n",
    "# Построим графики зависимости и посчитаем коэффициент корреляции \n",
    "\n",
    "parameters = ['total_area', 'rooms', 'citycenters_nearest', 'category_floor', \\\n",
    "                                              'day_of_week', 'month', 'year']\n",
    "q11 = flats['last_price'].quantile(0.25)\n",
    "q33 = flats['last_price'].quantile(0.75)\n",
    "iqr2 = q33 - q11\n",
    "for parameter in parameters:\n",
    "    q1 = flats[parameter].quantile(0.25)\n",
    "    q3 = flats[parameter].quantile(0.75)\n",
    "    iqr = q3 - q1\n",
    "\n",
    "    \n",
    "    flats.plot(kind = 'scatter', y='last_price', x=parameter, title=parameter, \\\n",
    "               ylim = (q11 - 1.5 * iqr2, q33 + 1.5 * iqr2), xlim = (q1 - 1.5 * iqr, q3 + 1.5 * iqr))\n",
    "    display(flats[parameter].corr(flats['last_price']))\n",
    "    plt.show()"
   ]
  },
  {
   "cell_type": "markdown",
   "metadata": {},
   "source": [
    "### Выводы\n",
    "\n",
    "1. Стоимость недвижимости коррелирует с площадью квартиры;\n",
    "2. Немного слабже стоимость коррелирует с количеством комнат;\n",
    "3. Еще слабже отрицательная связь между стоимостью и удаленностью т.е. чем больше удаленность тем меньше цена.\n",
    "4. Остальные величины не коррелируют со стоимостью недвижимости.\n",
    "\n",
    "---"
   ]
  },
  {
   "cell_type": "markdown",
   "metadata": {},
   "source": [
    "### 10 населённых пунктов с наибольшим числом объявлений <a class=\"anchor\" id=\"eleven\"></a>\n",
    "\n",
    "Посчитаем среднюю цену квадратного метра в этих населённых пунктах. Выделим среди них населённые пункты с самой высокой и низкой стоимостью жилья. Эти данные можно найти по имени в столбце 'locality_name'."
   ]
  },
  {
   "cell_type": "code",
   "execution_count": null,
   "metadata": {},
   "outputs": [],
   "source": [
    "ten_locality = flats.pivot_table(index = ['locality_name'], values = ['price_per_m', 'last_price'],\\\n",
    "                            aggfunc = {'price_per_m':['count', 'mean'], 'last_price':['min','max']})\n",
    "ten_locality.columns = ['максимальная цена', 'минимальная цена', 'количество', 'средняя цена за кв метр']\n",
    "ten_locality = ten_locality.sort_values(by='количество', ascending=False)\n",
    "display(ten_locality.head(10).style.format({'средняя цена за кв метр':'{:.0f}'}))\n",
    "display(ten_locality.head(10).sort_values(by='средняя цена за кв метр', ascending=False)\\\n",
    "                            .style.format({'средняя цена за кв метр':'{:.0f}'}))"
   ]
  },
  {
   "cell_type": "markdown",
   "metadata": {},
   "source": [
    "### Выводы\n",
    "\n",
    "1. Получили десять населенных пунктов с наибольшим количеством объявлений;\n",
    "2. Средняя цена за квадратный метр самая высокая в Санкт-Петербурге и Пушкине, немного ниже в деревне Кудрово и поселке Мурино.\n",
    "3. Максимальная цена недвижимости в Санкт-Петербурге. \n",
    "4. Из-за некорректного выброса в 12 к в Санкт-Петербурге самая низкая цена, если его отбросить, то в Выборге.\n",
    "\n",
    "---"
   ]
  },
  {
   "cell_type": "markdown",
   "metadata": {},
   "source": [
    "### Изучение предложения квартир <a class=\"anchor\" id=\"twelve\"></a>\n",
    "\n",
    "Изучим предложения квартир: для каждой квартиры есть информация о расстоянии до центра. Выделим квартиры в Санкт-Петербурге ('locality_name'). Наша задача — выяснить, какая область входит в центр. Создадим столбец с расстоянием до центра в километрах: округлим до целых значений. После этого посчитаем среднюю цену для каждого километра. Построим график: он должен показывать, как цена зависит от удалённости от центра. Определим границу, где график сильно меняется — это и будет центральная зона."
   ]
  },
  {
   "cell_type": "code",
   "execution_count": null,
   "metadata": {},
   "outputs": [],
   "source": [
    "import warnings\n",
    "warnings.filterwarnings('ignore')\n",
    "\n",
    "flats['city_center_km'] = flats['citycenters_nearest'] // 1000\n",
    "centr_flats = flats.query('locality_name == \"санкт-петербург\"')\n",
    "centr_flats_1 = centr_flats.groupby('city_center_km').agg({'price_per_m': 'mean'}) \\\n",
    "                                .rename(columns = {'price_per_m': 'Средняя цена м2'})\n",
    "centr_flats_1['Средняя цена м2'].plot(title='Зависимость цены за квадратный метр от удаленности от центра', \\\n",
    "    figsize=(15,4))\n",
    "plt.show()"
   ]
  },
  {
   "cell_type": "markdown",
   "metadata": {},
   "source": [
    "### Выводы\n",
    "\n",
    "1. Мы выделили всю недвижимость в Санкт-Петербурге;\n",
    "2. Мы построили график зависимости цены за квадратный метр от удаленности от центра;\n",
    "3. Резкое снижение цена в области 7,5 км - это и будет центр города;\n",
    "4. На расстоянии 27 км увидели выброс.\n",
    "\n",
    "---"
   ]
  },
  {
   "cell_type": "markdown",
   "metadata": {},
   "source": [
    "### Cегмент квартир в центре <a class=\"anchor\" id=\"thirteen\"></a>\n",
    "\n",
    "Выделим сегмент квартир в центре. Проанализируем эту территорию и изучим следующие параметры: площадь, цена, число комнат, высота потолков. Также выделим факторы, которые влияют на стоимость квартиры (число комнат, этаж, удалённость от центра, дата размещения объявления). Сделаем выводы. Отличаются ли они от общих выводов по всему городу?"
   ]
  },
  {
   "cell_type": "code",
   "execution_count": null,
   "metadata": {},
   "outputs": [],
   "source": [
    "# Посмотрим на распределение по площади, цене, числе комнат и высоте потолков.\n",
    "centr_flats = centr_flats.query('city_center_km <= 7.5')\n",
    "parameters = ['total_area', 'last_price', 'rooms', 'ceiling_height']\n",
    "for parameter in parameters:\n",
    "    q1 = centr_flats[parameter].quantile(0.25)\n",
    "    q3 = centr_flats[parameter].quantile(0.75)\n",
    "    iqr = q3 - q1\n",
    "    \n",
    "    centr_flats[parameter].plot(kind = 'hist', bins = 50, \\\n",
    "        range = (q1 - 1.5 * iqr, q3 + 1.5 * iqr), grid=True, figsize = (10,7), title = parameter)\n",
    "    display(centr_flats[parameter].describe())\n",
    "    plt.show()"
   ]
  },
  {
   "cell_type": "markdown",
   "metadata": {},
   "source": [
    "Площадь недвижимости:\n",
    "1. Распределение от 12 до 900 метров;\n",
    "2. Распределение унимодально;\n",
    "3. Среднее значение равно 92 кв м;\n",
    "4. Медианное значение равно 78 кв м.\n",
    "\n",
    "Стоимость недвижимости:\n",
    "1. Распределение от 1.6 м до 763 млн;\n",
    "2. Распределение унимодально;\n",
    "3. Средняя цена 14,7 млн;\n",
    "4. Медианное значение цены 9 млн.\n",
    "\n",
    "Комнаты в недвижимости:\n",
    "1. Распределение от 0 до 19;\n",
    "2. Распределение унимодально;\n",
    "3. Среднее число комнат совпадает с медианным и равно 3.\n",
    "\n",
    "Выоста потолка:\n",
    "1. Распределение от 2,4 до 6 метров;\n",
    "2. Распределение геометрическое;\n",
    "3. Среднее значение примерно равно 2,9 метров;\n",
    "4. Медианноке - 2,7 метров."
   ]
  },
  {
   "cell_type": "code",
   "execution_count": null,
   "metadata": {},
   "outputs": [],
   "source": [
    "# Построим графики зависимости и посчитаем коэффициент корреляции \n",
    "\n",
    "parameters = ['total_area', 'rooms', 'citycenters_nearest', 'category_floor', 'day_of_week', 'month', 'year']\n",
    "q11 = centr_flats['last_price'].quantile(0.25)\n",
    "q33 = centr_flats['last_price'].quantile(0.75)\n",
    "iqr2 = q33 - q11\n",
    "for parameter in parameters:\n",
    "    q1 = centr_flats[parameter].quantile(0.25)\n",
    "    q3 = centr_flats[parameter].quantile(0.75)\n",
    "    iqr = q3 - q1\n",
    "\n",
    "    \n",
    "    centr_flats.plot(kind = 'scatter', y='last_price', x=parameter, title=parameter, \\\n",
    "        ylim = (q11 - 1.5 * iqr2, q33 + 1.5 * iqr2), xlim = (q1 - 1.5 * iqr, q3 + 1.5 * iqr))\n",
    "    display(centr_flats[parameter].corr(centr_flats['last_price']))\n",
    "    plt.show()"
   ]
  },
  {
   "cell_type": "markdown",
   "metadata": {},
   "source": [
    "1. Стоимость недвижимости коррелирует с площадью квартиры;\n",
    "2. Немного слабже стоимость коррелирует с количеством комнат;\n",
    "3. Еще слабже отрицательная связь между стоимостью и удаленностью т.е. чем больше удаленность тем меньше цена.\n",
    "4. Остальные величины не коррелируют со стоимостью недвижимости."
   ]
  },
  {
   "cell_type": "markdown",
   "metadata": {},
   "source": [
    "### Выводы\n",
    "\n",
    "**Общая площадь**\n",
    "\n",
    "1. Средняя площадь изменилась с 60 квадратных метров на 92;\n",
    "2. Медианное значение площади изменилось с 52 до 78 квадратных метров.\n",
    "3. В остальном поведение похоже.\n",
    "\n",
    "**Стоимость недвижимости**\n",
    "\n",
    "1. Минимальная стоимость увеличилась до 1.6 млн;\n",
    "2. Средняя цена изменилась с 6,5 до 14,7 млн;\n",
    "3. Медианное значение стоимости изменилось с 4,65 до 9 млн;\n",
    "4. Поведение осталось похоже.\n",
    "\n",
    "**Комнаты в недвижимости**\n",
    "\n",
    "1. Поведение похоже;\n",
    "2. Среднее и медианное значение увеличилось с 2 до 3. Видимо в центре люди чаще продают недвижимость с большим количеством комнат;\n",
    "\n",
    "**Высота потолка**\n",
    "\n",
    "1. Среднее значение увеличилось до 2.9 метров. В центре люди чаще продают недвижимость с более высокими потолками.\n",
    "\n",
    "**Зависимость стоимости недвижимости от общей площади**\n",
    "\n",
    "1. Стоимость недвижимости коррелирует с площадью квартиры аналогично;\n",
    "\n",
    "**Зависимость стоимости недвижимости от количества комнат**\n",
    "\n",
    "Зависимость немного слабее, в центре и в городе зависимость аналогична.\n",
    "\n",
    "**Зависимость стоимости недвижимости и удаленностью**\n",
    "\n",
    "В центре зависимости совсем отсутствует, при этом в городе наблюдается обратная корреляция.\n",
    "\n",
    "**Остальные величины не коррелируют со стоимостью недвижимости**\n",
    "\n",
    "---"
   ]
  },
  {
   "cell_type": "markdown",
   "metadata": {},
   "source": [
    "## Шаг 5. Общий вывод <a class=\"anchor\" id=\"fourtheen\"></a>"
   ]
  },
  {
   "cell_type": "markdown",
   "metadata": {},
   "source": [
    "Краткий обзор проведенной работы.\n",
    "\n",
    "Для исследование объявлений о продаже квартир мы открыли файл Заказчика и изучили информацию. Архив объявлений о продаже квартир в Санкт-Петербурге и соседних населённых пунктах за несколько лет содержит 22 столбца и 23699 строк. Обнаружили артефакты в виде площади кухни большей жилой площади. \n",
    "\n",
    "Отработали пропущенные значения и сделали выводы в втором шаге.\n",
    "\n",
    "Изменили тип данных на целочисленный и перевели в формат времени.\n",
    "\n",
    "Удалили 49 строк из датасета.\n",
    "\n",
    "**В третьем шаге выполнили следующее:**\n",
    "\n",
    "1. В таблицу добавили новый столбец с ценой за квадратный метр.\n",
    "2. Добавили день недели, месяц и год публикации объявления;\n",
    "3. Добавили категория по этажам: Первый, последний, другой;\n",
    "4. Добавили соотношения жилой площади и кухни к общей площади недвижимости.\n",
    "\n",
    "**Главные выводы**\n",
    "\n",
    "1. Стоимость недвижимости сильно коррелирует с площадью недвижимости;\n",
    "2. В центре Санкт-Петербурга общая площадь недвижимости больше, чем в пригороде;\n",
    "3. Стоимость недвижимости зависит от близости к центру, чем ближе недвижимость к центру, тем выше стоимость. В самом центре отсутствует;\n",
    "4. Больше всего объявлений с 1, 2 и 3 комнатной недвижимостью. Чем больше комнат, тем дороже недвижимость.\n",
    "5. Остальные характеристики не сильно влияют на стоимость недвижимости.\n",
    "\n",
    "Рекомендации:\n",
    "1. Для более точного анализа рекомендуем добавить поле адрес в данные.\n",
    "\n",
    "---"
   ]
  },
  {
   "cell_type": "markdown",
   "metadata": {},
   "source": [
    "### Чек-лист готовности проекта"
   ]
  },
  {
   "cell_type": "markdown",
   "metadata": {},
   "source": [
    "- [x]  открыт файл\n",
    "- [x]  файлы изучены (выведены первые строки, метод info())\n",
    "- [x]  определены пропущенные значения\n",
    "- [x]  заполнены пропущенные значения\n",
    "- [x]  есть пояснение, какие пропущенные значения обнаружены\n",
    "- [x]  изменены типы данных\n",
    "- [x]  есть пояснение, в каких столбцах изменены типы и почему\n",
    "- [x]  посчитано и добавлено в таблицу: цена квадратного метра\n",
    "- [x]  посчитано и добавлено в таблицу: день недели, месяц и год публикации объявления\n",
    "- [x]  посчитано и добавлено в таблицу: этаж квартиры; варианты — первый, последний, другой\n",
    "- [x]  посчитано и добавлено в таблицу: соотношение жилой и общей площади, а также отношение площади кухни к общей\n",
    "- [x]  изучены следующие параметры: площадь, цена, число комнат, высота потолков\n",
    "- [x]  построены гистограммы для каждого параметра\n",
    "- [x]  выполнено задание: \"Изучите время продажи квартиры. Постройте гистограмму. Посчитайте среднее и медиану. Опишите, сколько обычно занимает продажа. Когда можно считать, что продажи прошли очень быстро, а когда необычно долго?\"\n",
    "- [x]  выполнено задание: \"Уберите редкие и выбивающиеся значения. Опишите, какие особенности обнаружили.\"\n",
    "- [x]  выполнено задание: \"Какие факторы больше всего влияют на стоимость квартиры? Изучите, зависит ли цена от квадратного метра, числа комнат, этажа (первого или последнего), удалённости от центра. Также изучите зависимость от даты размещения: дня недели, месяца и года. \"Выберите 10 населённых пунктов с наибольшим числом объявлений. Посчитайте среднюю цену квадратного метра в этих населённых пунктах. Выделите населённые пункты с самой высокой и низкой стоимостью жилья. Эти данные можно найти по имени в столбце '*locality_name'*. \"\n",
    "- [x]  выполнено задание: \"Изучите предложения квартир: для каждой квартиры есть информация о расстоянии до центра. Выделите квартиры в Санкт-Петербурге (*'locality_name'*). Ваша задача — выяснить, какая область входит в центр. Создайте столбец с расстоянием до центра в километрах: округлите до целых значений. После этого посчитайте среднюю цену для каждого километра. Постройте график: он должен показывать, как цена зависит от удалённости от центра. Определите границу, где график сильно меняется — это и будет центральная зона. \"\n",
    "- [x]  выполнено задание: \"Выделите сегмент квартир в центре. Проанализируйте эту территорию и изучите следующие параметры: площадь, цена, число комнат, высота потолков. Также выделите факторы, которые влияют на стоимость квартиры (число комнат, этаж, удалённость от центра, дата размещения объявления). Сделайте выводы. Отличаются ли они от общих выводов по всему городу?\"\n",
    "- [x]  в каждом этапе есть выводы\n",
    "- [x]  есть общий вывод"
   ]
  }
 ],
 "metadata": {
  "kernelspec": {
   "display_name": "Python 3",
   "language": "python",
   "name": "python3"
  },
  "language_info": {
   "codemirror_mode": {
    "name": "ipython",
    "version": 3
   },
   "file_extension": ".py",
   "mimetype": "text/x-python",
   "name": "python",
   "nbconvert_exporter": "python",
   "pygments_lexer": "ipython3",
   "version": "3.8.5"
  }
 },
 "nbformat": 4,
 "nbformat_minor": 2
}
