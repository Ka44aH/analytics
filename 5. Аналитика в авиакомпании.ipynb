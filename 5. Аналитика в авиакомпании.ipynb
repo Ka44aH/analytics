{
 "cells": [
  {
   "cell_type": "markdown",
   "metadata": {},
   "source": [
    "# Аналитика в авиакомпании\n",
    "\n",
    "---"
   ]
  },
  {
   "cell_type": "markdown",
   "metadata": {},
   "source": [
    "## Описание проекта"
   ]
  },
  {
   "cell_type": "markdown",
   "metadata": {},
   "source": [
    "У нас есть файлы, в которых содержатся результаты запросов из предыдущих заданий.<br>\n",
    "`/datasets/query_1.csv` — результат первого запроса. <br>\n",
    "\n",
    "**В нём содержится информация о:** <br>\n",
    "- `model` — модели самолета<br>\n",
    "- `flights_amount` — количество рейсов для каждой модели самолетов model в сентябре 2018 года<br>\n",
    "\n",
    "`/datasets/query_3.csv` — результат третьего запроса. <br>\n",
    "\n",
    "**В нём содержится информация о:**<br>\n",
    "- `city` — городах<br>\n",
    "- `average_flights` — среднем количестве рейсов, прибывающих в город city за день в августе 2018 года<br>\n",
    "\n",
    "**Для этих двух наборов данных нужно:**<br>\n",
    "- импортировать файлы;<br>\n",
    "- изучить данные в них;<br>\n",
    "- проверить типы данных на корректность;<br>\n",
    "- выбрать топ-10 городов по количеству рейсов;<br>\n",
    "\n",
    "**построить графики:**<br>\n",
    "- модели самолетов и количество рейсов;<br>\n",
    "- города и количество рейсов;<br>\n",
    "- топ-10 городов и количество рейсов;<br>\n",
    "\n",
    "**Cделать выводы по каждому из графиков, пояснить результат.**\n",
    "\n",
    "---"
   ]
  },
  {
   "cell_type": "markdown",
   "metadata": {},
   "source": [
    "## Описание данных"
   ]
  },
  {
   "cell_type": "markdown",
   "metadata": {},
   "source": [
    "**База данных об авиаперевозках:**<br>\n",
    "\n",
    "**Таблица `airports` — информация об аэропортах:<br>**\n",
    "\n",
    "- `airport_code` — трёхбуквенный код аэропорта<br>\n",
    "- `airport_name` — название аэропорта<br>\n",
    "- `city` — город<br>\n",
    "- `timezone` — временная зона<br>\n",
    "\n",
    "**Таблица `aircrafts` — информация об самолётах:<br>**\n",
    "\n",
    "- `aircraft_code` — код модели самолёта<br>\n",
    "- `model` — модель самолёта<br>\n",
    "- `range` — количество самолётов<br>\n",
    "\n",
    "**Таблица `tickets` — информация о билетах:<br>**\n",
    "\n",
    "- `ticket_no` — уникальный номер билета<br>\n",
    "- `passenger_id` — персональный идентификатор пассажира<br>\n",
    "- `passenger_name` — имя и фамилия пассажира<br>\n",
    "\n",
    "**Таблица `flights` — информация о рейсах:<br>**\n",
    "\n",
    "- `flight_id` — уникальный идентификатор рейса<br>\n",
    "- `departure_airport` — аэропорт вылета<br>\n",
    "- `departure_time` — дата и время вылета<br>\n",
    "- `arrival_airport` — аэропорт прилёта<br>\n",
    "- `arrival_time` — дата и время прилёта<br>\n",
    "- `aircraft_code` – id самолёта<br>\n",
    "\n",
    "**Таблица `ticket_flights` — стыковая таблица «рейсы-билеты»<br>**\n",
    "\n",
    "- `ticket_no` — номер билета<br>\n",
    "- `flight_id` — идентификатор рейса<br>\n",
    "\n",
    "**Таблица `festivals` — информация о фестивалях<br>**\n",
    "\n",
    "- `festival_id` — уникальный номер фестиваля<br>\n",
    "- `festival_date` — дата проведения фестиваля<br>\n",
    "- `festival_city` — город проведения фестиваля<br>\n",
    "- `festival_name` — название фестиваля<br>\n",
    "\n",
    "---"
   ]
  },
  {
   "cell_type": "markdown",
   "metadata": {},
   "source": [
    "## Оглавление"
   ]
  },
  {
   "cell_type": "markdown",
   "metadata": {},
   "source": [
    "* [1. Открываем файлы с данными и изучаем общую информацию.](#one)\n",
    "* [2. Предобработка данных.](#two)\n",
    "* [3. Топ-10 городов по количеству рейсов](#three)\n",
    "* [4. Графики.](#four)\n",
    "* [5. Выводы.](#five)\n",
    "\n",
    "---"
   ]
  },
  {
   "cell_type": "markdown",
   "metadata": {},
   "source": [
    "## Открываем файлы с данными и изучаем общую информацию <a class=\"anchor\" id=\"one\"></a>"
   ]
  },
  {
   "cell_type": "markdown",
   "metadata": {},
   "source": [
    "Импортируем необходимые библиотеки"
   ]
  },
  {
   "cell_type": "code",
   "execution_count": null,
   "metadata": {},
   "outputs": [],
   "source": [
    "import pandas as pd\n",
    "import matplotlib.pyplot as plt\n",
    "import seaborn as sns"
   ]
  },
  {
   "cell_type": "markdown",
   "metadata": {},
   "source": [
    "Прочитаем результаты первого запроса"
   ]
  },
  {
   "cell_type": "code",
   "execution_count": null,
   "metadata": {},
   "outputs": [],
   "source": [
    "query_1 = pd.read_csv('datasets/5_query_1.csv')"
   ]
  },
  {
   "cell_type": "code",
   "execution_count": null,
   "metadata": {},
   "outputs": [],
   "source": [
    "query_1"
   ]
  },
  {
   "cell_type": "code",
   "execution_count": null,
   "metadata": {},
   "outputs": [],
   "source": [
    "query_1.info()"
   ]
  },
  {
   "cell_type": "markdown",
   "metadata": {},
   "source": [
    "Первый запрос состоит из 8 строк и в нем содержится информация какое количество рейсов совершила каждая модель самолета.<br>\n",
    "- Значения в столбце `model` имеют тип `object`.\n",
    "- Значения в столбце `flights_amount` имеют тип `int64`."
   ]
  },
  {
   "cell_type": "code",
   "execution_count": null,
   "metadata": {},
   "outputs": [],
   "source": [
    "query_3 = pd.read_csv('datasets/5_query_3.csv')"
   ]
  },
  {
   "cell_type": "code",
   "execution_count": null,
   "metadata": {},
   "outputs": [],
   "source": [
    "query_3"
   ]
  },
  {
   "cell_type": "code",
   "execution_count": null,
   "metadata": {},
   "outputs": [],
   "source": [
    "query_3.info()"
   ]
  },
  {
   "cell_type": "markdown",
   "metadata": {},
   "source": [
    "В третьем запросе 101 строка и в нем содержится информация о среднем количестве рейсов в день для каждого города.\n",
    "- значения в столбце `city` имеют тип `object`\n",
    "- значения в столбце `average_flights` имеют тип `float64`"
   ]
  },
  {
   "cell_type": "markdown",
   "metadata": {},
   "source": [
    "### Выводы"
   ]
  },
  {
   "cell_type": "markdown",
   "metadata": {},
   "source": [
    "- Мы прочитали данные и преобразовали их в датафрейм.\n",
    "- Первый запрос содержит 8 строк и 2 столбца\n",
    "- Третий запрос содержит 101 строку и 2 столбца.\n",
    "\n",
    "---"
   ]
  },
  {
   "cell_type": "markdown",
   "metadata": {},
   "source": [
    "## Предобработка данных <a class=\"anchor\" id=\"two\"></a>"
   ]
  },
  {
   "cell_type": "markdown",
   "metadata": {},
   "source": [
    "Преобразуем `float64` в `float16` для уменьшение используемой памяти."
   ]
  },
  {
   "cell_type": "code",
   "execution_count": null,
   "metadata": {},
   "outputs": [],
   "source": [
    "query_3['average_flights'] = query_3['average_flights'].astype('float16')"
   ]
  },
  {
   "cell_type": "code",
   "execution_count": null,
   "metadata": {},
   "outputs": [],
   "source": [
    "query_3.info()"
   ]
  },
  {
   "cell_type": "markdown",
   "metadata": {},
   "source": [
    "---\n",
    "\n",
    "## Топ-10 городов по количеству рейсов <a class=\"anchor\" id=\"three\"></a>"
   ]
  },
  {
   "cell_type": "code",
   "execution_count": null,
   "metadata": {},
   "outputs": [],
   "source": [
    "top_10 = query_3.sort_values(by='average_flights', ascending=False).head(10)"
   ]
  },
  {
   "cell_type": "code",
   "execution_count": null,
   "metadata": {},
   "outputs": [],
   "source": [
    "top_10"
   ]
  },
  {
   "cell_type": "markdown",
   "metadata": {},
   "source": [
    "### Выводы"
   ]
  },
  {
   "cell_type": "markdown",
   "metadata": {},
   "source": [
    "Получили топ-10 городов в столицах максимум - чего и стоило ожидать. Также в список вошли города миллионики и город курорт Сочи. А как тут оказались Ульяновск и Брянск?)\n",
    "\n",
    "---"
   ]
  },
  {
   "cell_type": "markdown",
   "metadata": {},
   "source": [
    "## Графики <a class=\"anchor\" id=\"four\"></a>"
   ]
  },
  {
   "cell_type": "markdown",
   "metadata": {},
   "source": [
    "### Модели самолетов и количество рейсов"
   ]
  },
  {
   "cell_type": "code",
   "execution_count": null,
   "metadata": {},
   "outputs": [],
   "source": [
    "plt.figure(figsize=(15, 5))\n",
    "sns.barplot(x='model', y='flights_amount', data=query_1)\n",
    "plt.xticks(rotation=45) \n",
    "plt.title('График зависимости количества рейсов от модели самолетов')\n",
    "plt.xlabel('Модель')\n",
    "plt.ylabel('Количество рейсов')"
   ]
  },
  {
   "cell_type": "markdown",
   "metadata": {},
   "source": [
    "### Выводы"
   ]
  },
  {
   "cell_type": "markdown",
   "metadata": {},
   "source": [
    "В лидерах остались Сухой Суперджет и самолеты больше напоминающие частные.\n",
    "\n",
    "Почему такие показатели?\n",
    "\n",
    "Наиболее мелкие модели очень часто совершали рейсы.\n",
    "\n",
    "Большие модели вроде Боинга оказались в аутсайдерах.\n",
    "\n",
    "Наиболее очевидный вывод:\n",
    "\n",
    "- Наиболее популярные рейсы - местные до 100 человек\n",
    "\n",
    "---"
   ]
  },
  {
   "cell_type": "markdown",
   "metadata": {},
   "source": [
    "### Города и количество рейсов"
   ]
  },
  {
   "cell_type": "code",
   "execution_count": null,
   "metadata": {},
   "outputs": [],
   "source": [
    "plt.figure(figsize=(10, 20))\n",
    "sns.barplot(x='average_flights', y='city', data=query_3.sort_values(by='average_flights', ascending=False))\n",
    "plt.title('График зависимости среднего количества рейсов от города')\n",
    "plt.xlabel('Среднее количество рейсов в день')\n",
    "plt.ylabel('Город')"
   ]
  },
  {
   "cell_type": "markdown",
   "metadata": {},
   "source": [
    "### Выводы"
   ]
  },
  {
   "cell_type": "markdown",
   "metadata": {},
   "source": [
    "Топ-10 мы уже вычислили, остальные города очень похожи по среднему количеству рейсов в день."
   ]
  },
  {
   "cell_type": "markdown",
   "metadata": {},
   "source": [
    "### Топ-10 городов и количество рейсов"
   ]
  },
  {
   "cell_type": "code",
   "execution_count": null,
   "metadata": {},
   "outputs": [],
   "source": [
    "plt.figure(figsize=(10, 15))\n",
    "sns.barplot(x='average_flights', y='city', data=top_10)\n",
    "plt.title('График зависимости среднего количества рейсов от города')\n",
    "plt.xlabel('Среднее количество рейсов в день')\n",
    "plt.ylabel('Город')"
   ]
  },
  {
   "cell_type": "markdown",
   "metadata": {},
   "source": [
    "### Выводы"
   ]
  },
  {
   "cell_type": "markdown",
   "metadata": {},
   "source": [
    "Наши расчеты Топ-10 городов подтвердились на графике.\n",
    "\n",
    "- Москва - рекордсмен, это столица России, поэтому и число рейсов  здесь максимально.\n",
    "- Санкт-Петербург - Северная столица и второй по численности город.\n",
    "- Новосибирск - столица Сибири и хаб для всех студентов в Сибири, поэтому честно занимает третье место.\n",
    "- Большинство остальных городов - города миллионики нашей страны и промышленные центры.\n",
    "- Сочи - самый популярный город курорт РФ.\n",
    "- Наличие тут Брянска и Ульяновска удивило))\n",
    "\n",
    "---"
   ]
  },
  {
   "cell_type": "markdown",
   "metadata": {},
   "source": [
    "## Общие выводы <a class=\"anchor\" id=\"five\"></a>"
   ]
  },
  {
   "cell_type": "markdown",
   "metadata": {},
   "source": [
    "- Мы прочитали данные из запросов и преобразовали их в датафрейм\n",
    "- Мы вычислили топ-10 городов по среднему количеству рейсов в день в число которых вошли преимущественно города миллионики России\n",
    "- Среди лидеров по количеству рейсов оказался наш родной Сухой Суперджет и пару небольших самолетов больше направленных на частные перевозки."
   ]
  }
 ],
 "metadata": {
  "kernelspec": {
   "display_name": "Python 3",
   "language": "python",
   "name": "python3"
  },
  "language_info": {
   "codemirror_mode": {
    "name": "ipython",
    "version": 3
   },
   "file_extension": ".py",
   "mimetype": "text/x-python",
   "name": "python",
   "nbconvert_exporter": "python",
   "pygments_lexer": "ipython3",
   "version": "3.8.5"
  }
 },
 "nbformat": 4,
 "nbformat_minor": 2
}
